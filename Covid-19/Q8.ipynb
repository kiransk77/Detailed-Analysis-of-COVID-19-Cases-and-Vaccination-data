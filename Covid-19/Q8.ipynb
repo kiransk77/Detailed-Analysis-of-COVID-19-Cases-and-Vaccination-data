{
 "cells": [
  {
   "cell_type": "markdown",
   "metadata": {},
   "source": [
    "# 8.For each state, district and overall, find the following ratio: total number of persons vaccinated (both 1 and 2 doses) to total population."
   ]
  },
  {
   "cell_type": "code",
   "execution_count": 1,
   "metadata": {
    "execution": {
     "iopub.execute_input": "2021-09-21T14:24:49.766504Z",
     "iopub.status.busy": "2021-09-21T14:24:49.764508Z",
     "iopub.status.idle": "2021-09-21T14:24:50.935005Z",
     "shell.execute_reply": "2021-09-21T14:24:50.936003Z"
    }
   },
   "outputs": [],
   "source": [
    "import pandas as pd\n",
    "from datetime import datetime\n",
    "from datetime import timedelta \n",
    "import os"
   ]
  },
  {
   "cell_type": "code",
   "execution_count": 2,
   "metadata": {
    "execution": {
     "iopub.execute_input": "2021-09-21T14:24:50.940990Z",
     "iopub.status.busy": "2021-09-21T14:24:50.940990Z",
     "iopub.status.idle": "2021-09-21T14:24:50.949428Z",
     "shell.execute_reply": "2021-09-21T14:24:50.950426Z"
    }
   },
   "outputs": [],
   "source": [
    "distkey = 'cowin_vaccine_data_districtwise.csv'"
   ]
  },
  {
   "cell_type": "code",
   "execution_count": 3,
   "metadata": {
    "execution": {
     "iopub.execute_input": "2021-09-21T14:24:50.960215Z",
     "iopub.status.busy": "2021-09-21T14:24:50.957689Z",
     "iopub.status.idle": "2021-09-21T14:24:58.441908Z",
     "shell.execute_reply": "2021-09-21T14:24:58.441908Z"
    }
   },
   "outputs": [],
   "source": [
    "census_2011 =\"Census2011data.xlsx\"\n",
    "df_census=pd.read_excel(census_2011,usecols= 'A,G,H,I,K')"
   ]
  },
  {
   "cell_type": "code",
   "execution_count": 4,
   "metadata": {
    "execution": {
     "iopub.execute_input": "2021-09-21T14:24:58.460134Z",
     "iopub.status.busy": "2021-09-21T14:24:58.449986Z",
     "iopub.status.idle": "2021-09-21T14:24:58.482724Z",
     "shell.execute_reply": "2021-09-21T14:24:58.482724Z"
    }
   },
   "outputs": [],
   "source": [
    "Name_changes={\"JAMMU & KASHMIR\": \"Jammu and Kashmir\",\n",
    "               \"ANDAMAN & NICOBAR ISLANDS\": \"Andaman and Nicobar Islands\",\n",
    "               \"DADRA & NAGAR HAVELI\": \"Dadra and Nagar Haveli and Daman and Diu\",\n",
    "               \"DAMAN & DIU\": \"Dadra and Nagar Haveli and Daman and Diu\",\"Mumbai Suburban\":\"Mumbai\"}\n",
    "state_id_change={26:25}\n",
    "\n",
    "df_census.replace({'Name': Name_changes,\"State\":state_id_change},inplace= True)"
   ]
  },
  {
   "cell_type": "code",
   "execution_count": 5,
   "metadata": {
    "execution": {
     "iopub.execute_input": "2021-09-21T14:24:58.490813Z",
     "iopub.status.busy": "2021-09-21T14:24:58.490813Z",
     "iopub.status.idle": "2021-09-21T14:24:58.516949Z",
     "shell.execute_reply": "2021-09-21T14:24:58.516949Z"
    }
   },
   "outputs": [],
   "source": [
    "df_census=df_census.groupby([\"State\",\"Level\",\"Name\",\"TRU\"], as_index=False)[\"TOT_P\"].sum()\n"
   ]
  },
  {
   "cell_type": "code",
   "execution_count": 6,
   "metadata": {
    "execution": {
     "iopub.execute_input": "2021-09-21T14:24:58.536573Z",
     "iopub.status.busy": "2021-09-21T14:24:58.532126Z",
     "iopub.status.idle": "2021-09-21T14:24:58.568443Z",
     "shell.execute_reply": "2021-09-21T14:24:58.568443Z"
    }
   },
   "outputs": [
    {
     "name": "stdout",
     "output_type": "stream",
     "text": [
      "                                  State Name  Stateid\n",
      "0                             ANDHRA PRADESH       28\n",
      "1                          ARUNACHAL PRADESH       12\n",
      "2                                      ASSAM       18\n",
      "3                Andaman and Nicobar Islands       35\n",
      "4                                      BIHAR       10\n",
      "5                                 CHANDIGARH        4\n",
      "6                               CHHATTISGARH       22\n",
      "7   Dadra and Nagar Haveli and Daman and Diu       25\n",
      "8                                        GOA       30\n",
      "9                                    GUJARAT       24\n",
      "10                                   HARYANA        6\n",
      "11                          HIMACHAL PRADESH        2\n",
      "12                                 JHARKHAND       20\n",
      "13                         Jammu and Kashmir        1\n",
      "14                                 KARNATAKA       29\n",
      "15                                    KERALA       32\n",
      "16                               LAKSHADWEEP       31\n",
      "17                            MADHYA PRADESH       23\n",
      "18                               MAHARASHTRA       27\n",
      "19                                   MANIPUR       14\n",
      "20                                 MEGHALAYA       17\n",
      "21                                   MIZORAM       15\n",
      "22                                  NAGALAND       13\n",
      "23                              NCT OF DELHI        7\n",
      "24                                    ODISHA       21\n",
      "25                                PUDUCHERRY       34\n",
      "26                                    PUNJAB        3\n",
      "27                                 RAJASTHAN        8\n",
      "28                                    SIKKIM       11\n",
      "29                                TAMIL NADU       33\n",
      "30                                   TRIPURA       16\n",
      "31                             UTTAR PRADESH        9\n",
      "32                               UTTARAKHAND        5\n",
      "33                               WEST BENGAL       19\n"
     ]
    }
   ],
   "source": [
    "df_state = df_census[df_census['Level'] == 'STATE']\n",
    "df_state = df_state.groupby(['Name'])['State'].max().reset_index(name='Stateid') \n",
    "df_state = df_state.rename(columns = {'Name':'State Name'})\n",
    "print(df_state)"
   ]
  },
  {
   "cell_type": "code",
   "execution_count": 7,
   "metadata": {
    "execution": {
     "iopub.execute_input": "2021-09-21T14:24:58.602856Z",
     "iopub.status.busy": "2021-09-21T14:24:58.584165Z",
     "iopub.status.idle": "2021-09-21T14:24:58.622421Z",
     "shell.execute_reply": "2021-09-21T14:24:58.624625Z"
    }
   },
   "outputs": [],
   "source": [
    "census_data = pd.merge(df_census,df_state,how='inner',left_on='State',right_on = ['Stateid'])"
   ]
  },
  {
   "cell_type": "code",
   "execution_count": 8,
   "metadata": {
    "execution": {
     "iopub.execute_input": "2021-09-21T14:24:58.687611Z",
     "iopub.status.busy": "2021-09-21T14:24:58.672033Z",
     "iopub.status.idle": "2021-09-21T14:24:58.721805Z",
     "shell.execute_reply": "2021-09-21T14:24:58.721805Z"
    }
   },
   "outputs": [
    {
     "data": {
      "text/html": [
       "<div>\n",
       "<style scoped>\n",
       "    .dataframe tbody tr th:only-of-type {\n",
       "        vertical-align: middle;\n",
       "    }\n",
       "\n",
       "    .dataframe tbody tr th {\n",
       "        vertical-align: top;\n",
       "    }\n",
       "\n",
       "    .dataframe thead th {\n",
       "        text-align: right;\n",
       "    }\n",
       "</style>\n",
       "<table border=\"1\" class=\"dataframe\">\n",
       "  <thead>\n",
       "    <tr style=\"text-align: right;\">\n",
       "      <th></th>\n",
       "      <th>State</th>\n",
       "      <th>Level</th>\n",
       "      <th>Name</th>\n",
       "      <th>TRU</th>\n",
       "      <th>TOT_P</th>\n",
       "      <th>State Name</th>\n",
       "      <th>Stateid</th>\n",
       "    </tr>\n",
       "  </thead>\n",
       "  <tbody>\n",
       "    <tr>\n",
       "      <th>0</th>\n",
       "      <td>1</td>\n",
       "      <td>DISTRICT</td>\n",
       "      <td>Anantnag</td>\n",
       "      <td>Rural</td>\n",
       "      <td>795805</td>\n",
       "      <td>Jammu and Kashmir</td>\n",
       "      <td>1</td>\n",
       "    </tr>\n",
       "    <tr>\n",
       "      <th>1</th>\n",
       "      <td>1</td>\n",
       "      <td>DISTRICT</td>\n",
       "      <td>Anantnag</td>\n",
       "      <td>Total</td>\n",
       "      <td>1078692</td>\n",
       "      <td>Jammu and Kashmir</td>\n",
       "      <td>1</td>\n",
       "    </tr>\n",
       "    <tr>\n",
       "      <th>2</th>\n",
       "      <td>1</td>\n",
       "      <td>DISTRICT</td>\n",
       "      <td>Anantnag</td>\n",
       "      <td>Urban</td>\n",
       "      <td>282887</td>\n",
       "      <td>Jammu and Kashmir</td>\n",
       "      <td>1</td>\n",
       "    </tr>\n",
       "    <tr>\n",
       "      <th>3</th>\n",
       "      <td>1</td>\n",
       "      <td>DISTRICT</td>\n",
       "      <td>Badgam</td>\n",
       "      <td>Rural</td>\n",
       "      <td>655833</td>\n",
       "      <td>Jammu and Kashmir</td>\n",
       "      <td>1</td>\n",
       "    </tr>\n",
       "    <tr>\n",
       "      <th>4</th>\n",
       "      <td>1</td>\n",
       "      <td>DISTRICT</td>\n",
       "      <td>Badgam</td>\n",
       "      <td>Total</td>\n",
       "      <td>753745</td>\n",
       "      <td>Jammu and Kashmir</td>\n",
       "      <td>1</td>\n",
       "    </tr>\n",
       "    <tr>\n",
       "      <th>...</th>\n",
       "      <td>...</td>\n",
       "      <td>...</td>\n",
       "      <td>...</td>\n",
       "      <td>...</td>\n",
       "      <td>...</td>\n",
       "      <td>...</td>\n",
       "      <td>...</td>\n",
       "    </tr>\n",
       "    <tr>\n",
       "      <th>2014</th>\n",
       "      <td>35</td>\n",
       "      <td>DISTRICT</td>\n",
       "      <td>South Andaman</td>\n",
       "      <td>Total</td>\n",
       "      <td>238142</td>\n",
       "      <td>Andaman and Nicobar Islands</td>\n",
       "      <td>35</td>\n",
       "    </tr>\n",
       "    <tr>\n",
       "      <th>2015</th>\n",
       "      <td>35</td>\n",
       "      <td>DISTRICT</td>\n",
       "      <td>South Andaman</td>\n",
       "      <td>Urban</td>\n",
       "      <td>140747</td>\n",
       "      <td>Andaman and Nicobar Islands</td>\n",
       "      <td>35</td>\n",
       "    </tr>\n",
       "    <tr>\n",
       "      <th>2016</th>\n",
       "      <td>35</td>\n",
       "      <td>STATE</td>\n",
       "      <td>Andaman and Nicobar Islands</td>\n",
       "      <td>Rural</td>\n",
       "      <td>237093</td>\n",
       "      <td>Andaman and Nicobar Islands</td>\n",
       "      <td>35</td>\n",
       "    </tr>\n",
       "    <tr>\n",
       "      <th>2017</th>\n",
       "      <td>35</td>\n",
       "      <td>STATE</td>\n",
       "      <td>Andaman and Nicobar Islands</td>\n",
       "      <td>Total</td>\n",
       "      <td>380581</td>\n",
       "      <td>Andaman and Nicobar Islands</td>\n",
       "      <td>35</td>\n",
       "    </tr>\n",
       "    <tr>\n",
       "      <th>2018</th>\n",
       "      <td>35</td>\n",
       "      <td>STATE</td>\n",
       "      <td>Andaman and Nicobar Islands</td>\n",
       "      <td>Urban</td>\n",
       "      <td>143488</td>\n",
       "      <td>Andaman and Nicobar Islands</td>\n",
       "      <td>35</td>\n",
       "    </tr>\n",
       "  </tbody>\n",
       "</table>\n",
       "<p>2019 rows × 7 columns</p>\n",
       "</div>"
      ],
      "text/plain": [
       "      State     Level                         Name    TRU    TOT_P  \\\n",
       "0         1  DISTRICT                     Anantnag  Rural   795805   \n",
       "1         1  DISTRICT                     Anantnag  Total  1078692   \n",
       "2         1  DISTRICT                     Anantnag  Urban   282887   \n",
       "3         1  DISTRICT                       Badgam  Rural   655833   \n",
       "4         1  DISTRICT                       Badgam  Total   753745   \n",
       "...     ...       ...                          ...    ...      ...   \n",
       "2014     35  DISTRICT                South Andaman  Total   238142   \n",
       "2015     35  DISTRICT                South Andaman  Urban   140747   \n",
       "2016     35     STATE  Andaman and Nicobar Islands  Rural   237093   \n",
       "2017     35     STATE  Andaman and Nicobar Islands  Total   380581   \n",
       "2018     35     STATE  Andaman and Nicobar Islands  Urban   143488   \n",
       "\n",
       "                       State Name  Stateid  \n",
       "0               Jammu and Kashmir        1  \n",
       "1               Jammu and Kashmir        1  \n",
       "2               Jammu and Kashmir        1  \n",
       "3               Jammu and Kashmir        1  \n",
       "4               Jammu and Kashmir        1  \n",
       "...                           ...      ...  \n",
       "2014  Andaman and Nicobar Islands       35  \n",
       "2015  Andaman and Nicobar Islands       35  \n",
       "2016  Andaman and Nicobar Islands       35  \n",
       "2017  Andaman and Nicobar Islands       35  \n",
       "2018  Andaman and Nicobar Islands       35  \n",
       "\n",
       "[2019 rows x 7 columns]"
      ]
     },
     "execution_count": 1,
     "metadata": {},
     "output_type": "execute_result"
    }
   ],
   "source": [
    "census_data"
   ]
  },
  {
   "cell_type": "code",
   "execution_count": 9,
   "metadata": {
    "execution": {
     "iopub.execute_input": "2021-09-21T14:24:58.736929Z",
     "iopub.status.busy": "2021-09-21T14:24:58.736929Z",
     "iopub.status.idle": "2021-09-21T14:24:58.823321Z",
     "shell.execute_reply": "2021-09-21T14:24:58.823321Z"
    }
   },
   "outputs": [
    {
     "data": {
      "text/html": [
       "<div>\n",
       "<style scoped>\n",
       "    .dataframe tbody tr th:only-of-type {\n",
       "        vertical-align: middle;\n",
       "    }\n",
       "\n",
       "    .dataframe tbody tr th {\n",
       "        vertical-align: top;\n",
       "    }\n",
       "\n",
       "    .dataframe thead th {\n",
       "        text-align: right;\n",
       "    }\n",
       "</style>\n",
       "<table border=\"1\" class=\"dataframe\">\n",
       "  <thead>\n",
       "    <tr style=\"text-align: right;\">\n",
       "      <th></th>\n",
       "      <th>State</th>\n",
       "      <th>Level</th>\n",
       "      <th>Name</th>\n",
       "      <th>TRU</th>\n",
       "      <th>TOT_P</th>\n",
       "      <th>State Name</th>\n",
       "      <th>Stateid</th>\n",
       "    </tr>\n",
       "  </thead>\n",
       "  <tbody>\n",
       "    <tr>\n",
       "      <th>0</th>\n",
       "      <td>1</td>\n",
       "      <td>DISTRICT</td>\n",
       "      <td>Anantnag</td>\n",
       "      <td>Rural</td>\n",
       "      <td>795805</td>\n",
       "      <td>Jammu and Kashmir</td>\n",
       "      <td>1</td>\n",
       "    </tr>\n",
       "    <tr>\n",
       "      <th>1</th>\n",
       "      <td>1</td>\n",
       "      <td>DISTRICT</td>\n",
       "      <td>Anantnag</td>\n",
       "      <td>Total</td>\n",
       "      <td>1078692</td>\n",
       "      <td>Jammu and Kashmir</td>\n",
       "      <td>1</td>\n",
       "    </tr>\n",
       "    <tr>\n",
       "      <th>2</th>\n",
       "      <td>1</td>\n",
       "      <td>DISTRICT</td>\n",
       "      <td>Anantnag</td>\n",
       "      <td>Urban</td>\n",
       "      <td>282887</td>\n",
       "      <td>Jammu and Kashmir</td>\n",
       "      <td>1</td>\n",
       "    </tr>\n",
       "    <tr>\n",
       "      <th>3</th>\n",
       "      <td>1</td>\n",
       "      <td>DISTRICT</td>\n",
       "      <td>Badgam</td>\n",
       "      <td>Rural</td>\n",
       "      <td>655833</td>\n",
       "      <td>Jammu and Kashmir</td>\n",
       "      <td>1</td>\n",
       "    </tr>\n",
       "    <tr>\n",
       "      <th>4</th>\n",
       "      <td>1</td>\n",
       "      <td>DISTRICT</td>\n",
       "      <td>Badgam</td>\n",
       "      <td>Total</td>\n",
       "      <td>753745</td>\n",
       "      <td>Jammu and Kashmir</td>\n",
       "      <td>1</td>\n",
       "    </tr>\n",
       "    <tr>\n",
       "      <th>...</th>\n",
       "      <td>...</td>\n",
       "      <td>...</td>\n",
       "      <td>...</td>\n",
       "      <td>...</td>\n",
       "      <td>...</td>\n",
       "      <td>...</td>\n",
       "      <td>...</td>\n",
       "    </tr>\n",
       "    <tr>\n",
       "      <th>2011</th>\n",
       "      <td>35</td>\n",
       "      <td>DISTRICT</td>\n",
       "      <td>North  &amp; Middle Andaman</td>\n",
       "      <td>Total</td>\n",
       "      <td>105597</td>\n",
       "      <td>Andaman and Nicobar Islands</td>\n",
       "      <td>35</td>\n",
       "    </tr>\n",
       "    <tr>\n",
       "      <th>2012</th>\n",
       "      <td>35</td>\n",
       "      <td>DISTRICT</td>\n",
       "      <td>North  &amp; Middle Andaman</td>\n",
       "      <td>Urban</td>\n",
       "      <td>2741</td>\n",
       "      <td>Andaman and Nicobar Islands</td>\n",
       "      <td>35</td>\n",
       "    </tr>\n",
       "    <tr>\n",
       "      <th>2013</th>\n",
       "      <td>35</td>\n",
       "      <td>DISTRICT</td>\n",
       "      <td>South Andaman</td>\n",
       "      <td>Rural</td>\n",
       "      <td>97395</td>\n",
       "      <td>Andaman and Nicobar Islands</td>\n",
       "      <td>35</td>\n",
       "    </tr>\n",
       "    <tr>\n",
       "      <th>2014</th>\n",
       "      <td>35</td>\n",
       "      <td>DISTRICT</td>\n",
       "      <td>South Andaman</td>\n",
       "      <td>Total</td>\n",
       "      <td>238142</td>\n",
       "      <td>Andaman and Nicobar Islands</td>\n",
       "      <td>35</td>\n",
       "    </tr>\n",
       "    <tr>\n",
       "      <th>2015</th>\n",
       "      <td>35</td>\n",
       "      <td>DISTRICT</td>\n",
       "      <td>South Andaman</td>\n",
       "      <td>Urban</td>\n",
       "      <td>140747</td>\n",
       "      <td>Andaman and Nicobar Islands</td>\n",
       "      <td>35</td>\n",
       "    </tr>\n",
       "  </tbody>\n",
       "</table>\n",
       "<p>1917 rows × 7 columns</p>\n",
       "</div>"
      ],
      "text/plain": [
       "      State     Level                     Name    TRU    TOT_P  \\\n",
       "0         1  DISTRICT                 Anantnag  Rural   795805   \n",
       "1         1  DISTRICT                 Anantnag  Total  1078692   \n",
       "2         1  DISTRICT                 Anantnag  Urban   282887   \n",
       "3         1  DISTRICT                   Badgam  Rural   655833   \n",
       "4         1  DISTRICT                   Badgam  Total   753745   \n",
       "...     ...       ...                      ...    ...      ...   \n",
       "2011     35  DISTRICT  North  & Middle Andaman  Total   105597   \n",
       "2012     35  DISTRICT  North  & Middle Andaman  Urban     2741   \n",
       "2013     35  DISTRICT            South Andaman  Rural    97395   \n",
       "2014     35  DISTRICT            South Andaman  Total   238142   \n",
       "2015     35  DISTRICT            South Andaman  Urban   140747   \n",
       "\n",
       "                       State Name  Stateid  \n",
       "0               Jammu and Kashmir        1  \n",
       "1               Jammu and Kashmir        1  \n",
       "2               Jammu and Kashmir        1  \n",
       "3               Jammu and Kashmir        1  \n",
       "4               Jammu and Kashmir        1  \n",
       "...                           ...      ...  \n",
       "2011  Andaman and Nicobar Islands       35  \n",
       "2012  Andaman and Nicobar Islands       35  \n",
       "2013  Andaman and Nicobar Islands       35  \n",
       "2014  Andaman and Nicobar Islands       35  \n",
       "2015  Andaman and Nicobar Islands       35  \n",
       "\n",
       "[1917 rows x 7 columns]"
      ]
     },
     "execution_count": 1,
     "metadata": {},
     "output_type": "execute_result"
    }
   ],
   "source": [
    "census_data = census_data[census_data['Level'] == 'DISTRICT']\n",
    "census_data"
   ]
  },
  {
   "cell_type": "code",
   "execution_count": 10,
   "metadata": {
    "execution": {
     "iopub.execute_input": "2021-09-21T14:24:58.839006Z",
     "iopub.status.busy": "2021-09-21T14:24:58.839006Z",
     "iopub.status.idle": "2021-09-21T14:24:58.862650Z",
     "shell.execute_reply": "2021-09-21T14:24:58.864738Z"
    }
   },
   "outputs": [],
   "source": [
    "census_data = census_data[['State Name','Name','TRU','TOT_P']] #Name is column with district names"
   ]
  },
  {
   "cell_type": "code",
   "execution_count": 11,
   "metadata": {
    "execution": {
     "iopub.execute_input": "2021-09-21T14:24:58.905752Z",
     "iopub.status.busy": "2021-09-21T14:24:58.905752Z",
     "iopub.status.idle": "2021-09-21T14:24:58.925769Z",
     "shell.execute_reply": "2021-09-21T14:24:58.925769Z"
    }
   },
   "outputs": [],
   "source": [
    "rename_dist = {'Allahabad ':'Prayagraj','Ahmadabad':'Ahmedabad', 'East District':'East Sikkim',\n",
    "        'North  District': 'North Sikkim', 'South District':'South Sikkim','West District':'West Sikkim','Garhwal':'Pauri Garhwal',\n",
    "         'Gulbarga':'Kalaburagi','Ahmadnagar':'Ahmednagar','Almora\\n':'Almora','Amritsar ':'Amritsar',\n",
    "       'Anand  ': 'Anand','Anugul  ':'Angul','Ariyalur  ':'Ariyalur','Badgam':'Budgam','Bagalkot ':'Bagalkote',\n",
    "        'Baleshwar':'Balasore','Banas Kantha':'Banaskantha','Bandipore':'Bandipora','Bangalore Rural':'Bengaluru Rural',\n",
    "        'Bangalore':'Bengaluru Urban','Bijapur':'Vijayapura',\n",
    "        'Bankura ':'Bankura','Bara Banki':'Barabanki','Baramula':'Baramulla',\"Barddhaman \":\"Barddhaman\",'Barwani ':'Barwani','Baudh':'Boudh',\n",
    "        'Belgaum':'Belagavi','Bellary':'Ballari', 'Bid':'Beed','Bulandshahr ':'Bulandshahr','Buldana':'Buldhana',\n",
    "        'Central':'Central Delhi','Chamarajanagar':'Chamarajanagara','Chikmagalur':'Chikkamagaluru',\n",
    "         'Chittaurgarh':'Chittorgarh', 'Dadra & Nagar Haveli':'Dadra and Nagar Haveli', 'Darjiling ':'Darjeeling',\n",
    "         'Debagarh':'Deogarh', 'Dhamtari ':'Dhamtari', 'Dhaulpur':'Dholpur', 'Dimapur ':'Dimapur', 'Dindori ':'Dindori',\n",
    "        'Dohad  ':'Dahod', 'East':'East Delhi', 'Faizabad':'Ayodhya', 'Firozpur':'Ferozepur', 'Ganganagar ':'Ganganagar',\n",
    "         'Garhwa ':'Garhwa', 'Gondiya':'Gondia', 'Gurgaon':'Gurugram', 'Haora ':'Howrah', 'Harda ':'Harda',\n",
    "         'Hardwar':'Haridwar', 'Hugli ':'Hooghly', 'Idukki ':'Idukki','Jagatsinghapur ':'Jagatsinghpur',\n",
    "         'Jaintia Hills':'West Jaintia Hills', 'Jajapur  ':'Jajpur', 'Jalaun ':'Jalaun', 'Jalor':'Jalore',\n",
    "         'Jalpaiguri ':'Jalpaiguri', 'Janjgir - Champa':'Janjgir Champa', 'Jashpur ':'Jashpur', 'Jehanabad ':'Jehanabad',\n",
    "        'Jhunjhunun':'Jhunjhunu', 'Jyotiba Phule Nagar':'Amroha', 'Kachchh':'Kutch', 'Kaimur (Bhabua)':'Kaimur',\n",
    "         'Kanniyakumari':'Kanyakumari', 'Kanshiram Nagar':'Kasganj', 'Kapurthala ':'Kapurthala', 'Karur ':'Karur',\n",
    "         'Katni ':'Katni', 'Kendrapara ': 'Kendrapara', 'Khandwa (East Nimar)':'Khandwa','Khargone (West Nimar)':'Khargone',\n",
    "         'Kheri':'Lakhimpur Kheri', 'Khordha ':'Khordha', 'Koch Bihar ':'Cooch Behar', 'Kodarma':'Koderma', 'Korba ':'Korba',\n",
    "         'Lahul & Spiti':'Lahaul and Spiti', 'Leh(Ladakh)':'Leh', 'Mahamaya Nagar':'Hathras', 'Mahbubnagar':'Mahabubnagar',\n",
    "        'Mahesana':'Mehsana', 'Mahrajganj':'Maharajganj', 'Maldah ':'Malda', 'Malkangiri  ':'Malkangiri', 'Mewat ':'Nuh',\n",
    "         'Muktsar':'Sri Muktsar Sahib', 'Murshidabad ':'Murshidabad', 'Mysore':'Mysuru', 'Nabarangapur ':'Nabarangapur',\n",
    "         'Nadia ':'Nadia', 'Nagapattinam  ': 'Nagapattinam','Namakkal   ':'Namakkal', 'Narsimhapur':'Narsinghpur', 'Navsari  ':'Navsari', 'Nayagarh  ':'Nayagarh',\n",
    "         'Neemuch ':'Neemuch', 'North':'North Delhi', 'North  & Middle Andaman':'North and Middle Andaman', 'North East':'North East Delhi',\n",
    "         'North Twenty Four Parganas':'North 24 Parganas', 'North West':'North West Delhi', 'Palwal ':'Palwal',\n",
    "         'Panch Mahals':'Panchmahal','Pashchim Champaran':'West Champaran', 'Pashchimi Singhbhum':'West Singhbhum', 'Patan  ':'Patan',\n",
    "         'Perambalur  ':'Perambalur', 'Porbandar ':'Porbandar', 'Purba Champaran':'East Champaran', 'Purbi Singhbhum': 'East Singhbhum',\n",
    "         'Puruliya':'Purulia', 'Rangareddy':'Ranga Reddy',\"Raigarh\":\"Raigad\",'Rayagada  ':'Rayagada','Sabar Kantha':'Sabarkantha', 'Sahibzada Ajit Singh Nagar':'S.A.S. Nagar', 'Sant Ravidas Nagar (Bhadohi)':'Bhadohi',\n",
    "         'Shahid Bhagat Singh Nagar ':'Shahid Bhagat Singh Nagar', 'Sheopur ':'Sheopur', 'Shimoga':'Shivamogga',\n",
    "         'Shupiyan': 'Shopiyan', 'South':'South Delhi','South Tripura ':'South Tripura', 'South Twenty Four Parganas':'South 24 Parganas', 'South West':'South West Delhi',\n",
    "         'Sri Potti Sriramulu Nellore':'S.P.S. Nellore', 'Tamenglong ':'Tamenglong', 'The Dangs':'Dang',\n",
    "         'The Nilgiris':'Nilgiris', 'Theni  ': 'Theni', 'Tirunelveli ':'Tirunelveli', 'Tumkur':'Tumakuru',\n",
    "         'West':'West Delhi', 'West Tripura ':'West Tripura', 'Y.S.R.':'Y.S.R. Kadapa'}"
   ]
  },
  {
   "cell_type": "code",
   "execution_count": 12,
   "metadata": {
    "execution": {
     "iopub.execute_input": "2021-09-21T14:24:58.953643Z",
     "iopub.status.busy": "2021-09-21T14:24:58.941484Z",
     "iopub.status.idle": "2021-09-21T14:24:59.037819Z",
     "shell.execute_reply": "2021-09-21T14:24:59.037819Z"
    }
   },
   "outputs": [
    {
     "name": "stderr",
     "output_type": "stream",
     "text": [
      "C:\\Users\\saiki\\anaconda3\\lib\\site-packages\\pandas\\core\\indexing.py:1676: SettingWithCopyWarning: \n",
      "A value is trying to be set on a copy of a slice from a DataFrame.\n",
      "Try using .loc[row_indexer,col_indexer] = value instead\n",
      "\n",
      "See the caveats in the documentation: https://pandas.pydata.org/pandas-docs/stable/user_guide/indexing.html#returning-a-view-versus-a-copy\n",
      "  self._setitem_single_column(ilocs[0], value, pi)\n"
     ]
    }
   ],
   "source": [
    "census_data.replace({'Name':rename_dist},inplace=True)"
   ]
  },
  {
   "cell_type": "code",
   "execution_count": 13,
   "metadata": {
    "execution": {
     "iopub.execute_input": "2021-09-21T14:24:59.069008Z",
     "iopub.status.busy": "2021-09-21T14:24:59.053378Z",
     "iopub.status.idle": "2021-09-21T14:24:59.084942Z",
     "shell.execute_reply": "2021-09-21T14:24:59.084942Z"
    }
   },
   "outputs": [
    {
     "name": "stderr",
     "output_type": "stream",
     "text": [
      "<ipython-input-1-c143b7bdfa3a>:1: SettingWithCopyWarning: \n",
      "A value is trying to be set on a copy of a slice from a DataFrame.\n",
      "Try using .loc[row_indexer,col_indexer] = value instead\n",
      "\n",
      "See the caveats in the documentation: https://pandas.pydata.org/pandas-docs/stable/user_guide/indexing.html#returning-a-view-versus-a-copy\n",
      "  census_data['State Name'] = census_data['State Name'].str.upper()\n",
      "<ipython-input-1-c143b7bdfa3a>:2: SettingWithCopyWarning: \n",
      "A value is trying to be set on a copy of a slice from a DataFrame.\n",
      "Try using .loc[row_indexer,col_indexer] = value instead\n",
      "\n",
      "See the caveats in the documentation: https://pandas.pydata.org/pandas-docs/stable/user_guide/indexing.html#returning-a-view-versus-a-copy\n",
      "  census_data['Name'] = census_data['Name'].str.upper()\n"
     ]
    }
   ],
   "source": [
    "census_data['State Name'] = census_data['State Name'].str.upper()\n",
    "census_data['Name'] = census_data['Name'].str.upper()"
   ]
  },
  {
   "cell_type": "code",
   "execution_count": 14,
   "metadata": {
    "execution": {
     "iopub.execute_input": "2021-09-21T14:24:59.101764Z",
     "iopub.status.busy": "2021-09-21T14:24:59.101764Z",
     "iopub.status.idle": "2021-09-21T14:24:59.117772Z",
     "shell.execute_reply": "2021-09-21T14:24:59.117772Z"
    }
   },
   "outputs": [],
   "source": [
    "census_data = census_data[census_data['TRU'] == 'Total']"
   ]
  },
  {
   "cell_type": "code",
   "execution_count": 15,
   "metadata": {
    "execution": {
     "iopub.execute_input": "2021-09-21T14:24:59.169594Z",
     "iopub.status.busy": "2021-09-21T14:24:59.153762Z",
     "iopub.status.idle": "2021-09-21T14:24:59.185166Z",
     "shell.execute_reply": "2021-09-21T14:24:59.185166Z"
    }
   },
   "outputs": [
    {
     "data": {
      "text/html": [
       "<div>\n",
       "<style scoped>\n",
       "    .dataframe tbody tr th:only-of-type {\n",
       "        vertical-align: middle;\n",
       "    }\n",
       "\n",
       "    .dataframe tbody tr th {\n",
       "        vertical-align: top;\n",
       "    }\n",
       "\n",
       "    .dataframe thead th {\n",
       "        text-align: right;\n",
       "    }\n",
       "</style>\n",
       "<table border=\"1\" class=\"dataframe\">\n",
       "  <thead>\n",
       "    <tr style=\"text-align: right;\">\n",
       "      <th></th>\n",
       "      <th>State Name</th>\n",
       "      <th>Name</th>\n",
       "      <th>TRU</th>\n",
       "      <th>TOT_P</th>\n",
       "    </tr>\n",
       "  </thead>\n",
       "  <tbody>\n",
       "    <tr>\n",
       "      <th>1</th>\n",
       "      <td>JAMMU AND KASHMIR</td>\n",
       "      <td>ANANTNAG</td>\n",
       "      <td>Total</td>\n",
       "      <td>1078692</td>\n",
       "    </tr>\n",
       "    <tr>\n",
       "      <th>4</th>\n",
       "      <td>JAMMU AND KASHMIR</td>\n",
       "      <td>BUDGAM</td>\n",
       "      <td>Total</td>\n",
       "      <td>753745</td>\n",
       "    </tr>\n",
       "    <tr>\n",
       "      <th>7</th>\n",
       "      <td>JAMMU AND KASHMIR</td>\n",
       "      <td>BANDIPORA</td>\n",
       "      <td>Total</td>\n",
       "      <td>392232</td>\n",
       "    </tr>\n",
       "    <tr>\n",
       "      <th>10</th>\n",
       "      <td>JAMMU AND KASHMIR</td>\n",
       "      <td>BARAMULLA</td>\n",
       "      <td>Total</td>\n",
       "      <td>1008039</td>\n",
       "    </tr>\n",
       "    <tr>\n",
       "      <th>13</th>\n",
       "      <td>JAMMU AND KASHMIR</td>\n",
       "      <td>DODA</td>\n",
       "      <td>Total</td>\n",
       "      <td>409936</td>\n",
       "    </tr>\n",
       "    <tr>\n",
       "      <th>...</th>\n",
       "      <td>...</td>\n",
       "      <td>...</td>\n",
       "      <td>...</td>\n",
       "      <td>...</td>\n",
       "    </tr>\n",
       "    <tr>\n",
       "      <th>1999</th>\n",
       "      <td>PUDUCHERRY</td>\n",
       "      <td>PUDUCHERRY</td>\n",
       "      <td>Total</td>\n",
       "      <td>950289</td>\n",
       "    </tr>\n",
       "    <tr>\n",
       "      <th>2002</th>\n",
       "      <td>PUDUCHERRY</td>\n",
       "      <td>YANAM</td>\n",
       "      <td>Total</td>\n",
       "      <td>55626</td>\n",
       "    </tr>\n",
       "    <tr>\n",
       "      <th>2008</th>\n",
       "      <td>ANDAMAN AND NICOBAR ISLANDS</td>\n",
       "      <td>NICOBARS</td>\n",
       "      <td>Total</td>\n",
       "      <td>36842</td>\n",
       "    </tr>\n",
       "    <tr>\n",
       "      <th>2011</th>\n",
       "      <td>ANDAMAN AND NICOBAR ISLANDS</td>\n",
       "      <td>NORTH AND MIDDLE ANDAMAN</td>\n",
       "      <td>Total</td>\n",
       "      <td>105597</td>\n",
       "    </tr>\n",
       "    <tr>\n",
       "      <th>2014</th>\n",
       "      <td>ANDAMAN AND NICOBAR ISLANDS</td>\n",
       "      <td>SOUTH ANDAMAN</td>\n",
       "      <td>Total</td>\n",
       "      <td>238142</td>\n",
       "    </tr>\n",
       "  </tbody>\n",
       "</table>\n",
       "<p>639 rows × 4 columns</p>\n",
       "</div>"
      ],
      "text/plain": [
       "                       State Name                      Name    TRU    TOT_P\n",
       "1               JAMMU AND KASHMIR                  ANANTNAG  Total  1078692\n",
       "4               JAMMU AND KASHMIR                    BUDGAM  Total   753745\n",
       "7               JAMMU AND KASHMIR                 BANDIPORA  Total   392232\n",
       "10              JAMMU AND KASHMIR                 BARAMULLA  Total  1008039\n",
       "13              JAMMU AND KASHMIR                      DODA  Total   409936\n",
       "...                           ...                       ...    ...      ...\n",
       "1999                   PUDUCHERRY                PUDUCHERRY  Total   950289\n",
       "2002                   PUDUCHERRY                     YANAM  Total    55626\n",
       "2008  ANDAMAN AND NICOBAR ISLANDS                  NICOBARS  Total    36842\n",
       "2011  ANDAMAN AND NICOBAR ISLANDS  NORTH AND MIDDLE ANDAMAN  Total   105597\n",
       "2014  ANDAMAN AND NICOBAR ISLANDS             SOUTH ANDAMAN  Total   238142\n",
       "\n",
       "[639 rows x 4 columns]"
      ]
     },
     "execution_count": 1,
     "metadata": {},
     "output_type": "execute_result"
    }
   ],
   "source": [
    "census_data"
   ]
  },
  {
   "cell_type": "code",
   "execution_count": 16,
   "metadata": {
    "execution": {
     "iopub.execute_input": "2021-09-21T14:24:59.201914Z",
     "iopub.status.busy": "2021-09-21T14:24:59.201914Z",
     "iopub.status.idle": "2021-09-21T14:24:59.465879Z",
     "shell.execute_reply": "2021-09-21T14:24:59.465879Z"
    }
   },
   "outputs": [],
   "source": [
    "#taking cowin data\n",
    "df1 = pd.read_csv(distkey,index_col=0,usecols=[0,1,2,3,4,5,2109,2110],low_memory=False)"
   ]
  },
  {
   "cell_type": "code",
   "execution_count": 17,
   "metadata": {
    "execution": {
     "iopub.execute_input": "2021-09-21T14:24:59.473961Z",
     "iopub.status.busy": "2021-09-21T14:24:59.473961Z",
     "iopub.status.idle": "2021-09-21T14:24:59.484294Z",
     "shell.execute_reply": "2021-09-21T14:24:59.484294Z"
    }
   },
   "outputs": [],
   "source": [
    "df1 = df1[df1['14/08/2021.3'] != 'First Dose Administered']"
   ]
  },
  {
   "cell_type": "code",
   "execution_count": 18,
   "metadata": {
    "execution": {
     "iopub.execute_input": "2021-09-21T14:24:59.499924Z",
     "iopub.status.busy": "2021-09-21T14:24:59.499924Z",
     "iopub.status.idle": "2021-09-21T14:24:59.516011Z",
     "shell.execute_reply": "2021-09-21T14:24:59.516011Z"
    }
   },
   "outputs": [],
   "source": [
    "df1 = df1.rename(columns = {'14/08/2021.3':'First Dose Administered','14/08/2021.4' : 'Second Dose Administered'})"
   ]
  },
  {
   "cell_type": "code",
   "execution_count": 19,
   "metadata": {
    "execution": {
     "iopub.execute_input": "2021-09-21T14:24:59.536911Z",
     "iopub.status.busy": "2021-09-21T14:24:59.536911Z",
     "iopub.status.idle": "2021-09-21T14:24:59.552730Z",
     "shell.execute_reply": "2021-09-21T14:24:59.552730Z"
    }
   },
   "outputs": [],
   "source": [
    "df1 = df1[['State','State_Code','District','District_Key','First Dose Administered','Second Dose Administered']]"
   ]
  },
  {
   "cell_type": "code",
   "execution_count": 20,
   "metadata": {
    "execution": {
     "iopub.execute_input": "2021-09-21T14:24:59.569457Z",
     "iopub.status.busy": "2021-09-21T14:24:59.569457Z",
     "iopub.status.idle": "2021-09-21T14:24:59.584674Z",
     "shell.execute_reply": "2021-09-21T14:24:59.584674Z"
    }
   },
   "outputs": [],
   "source": [
    "df1['State'] = df1['State'].str.upper()\n",
    "df1['District'] = df1['District'].str.upper()"
   ]
  },
  {
   "cell_type": "code",
   "execution_count": 21,
   "metadata": {
    "execution": {
     "iopub.execute_input": "2021-09-21T14:24:59.600362Z",
     "iopub.status.busy": "2021-09-21T14:24:59.600362Z",
     "iopub.status.idle": "2021-09-21T14:24:59.616218Z",
     "shell.execute_reply": "2021-09-21T14:24:59.616218Z"
    }
   },
   "outputs": [],
   "source": [
    "df1.replace({'State': {\"DELHI\": \"NCT OF DELHI\",\"TELANGANA\": \"ANDHRA PRADESH\"}},inplace= True)"
   ]
  },
  {
   "cell_type": "code",
   "execution_count": 22,
   "metadata": {
    "execution": {
     "iopub.execute_input": "2021-09-21T14:24:59.647227Z",
     "iopub.status.busy": "2021-09-21T14:24:59.631606Z",
     "iopub.status.idle": "2021-09-21T14:24:59.647227Z",
     "shell.execute_reply": "2021-09-21T14:24:59.647227Z"
    }
   },
   "outputs": [],
   "source": [
    "dist_changes={\"WARANGAL RURAL\":\"WARANGAL\",\"WARANGAL URBAN\":\"WARANGAL\",\"KOMARAM BHEEM\":\"ADILABAD\",\"MANCHERIAL\":\"ADILABAD\",\n",
    "\"NIRMAL\":\"ADILABAD\",\"WANAPARTHY\":\"MAHABUBNAGAR\",\"NAGARKURNOOL\":\"MAHABUBNAGAR\",\"KAMAREDDY\":\"NIZAMABAD\",\"SANGAREDDY\":\"MEDAK\",\n",
    "\"SIDDIPET\":\"MEDAK\",\"BHADRADRI KOTHAGUDEM\":\"KHAMMAM\",\"JAGTIAL\":\"KARIMNAGAR\",\"JANGAON\":\"NALGONDA\",\n",
    "\"JAYASHANKAR BHUPALAPALLY\":\"KARIMNAGAR\",\"JOGULAMBA GADWAL\":\"MAHABUBNAGAR\",\"MEDCHAL MALKAJGIRI\":\"RANGA REDDY\",\n",
    "\"MULUGU\":\"WARANGAL\",\"NARAYANPET\":\"MAHABUBNAGAR\",\n",
    "\"PEDDAPALLI\":\"KARIMNAGAR\",\"RAJANNA SIRCILLA\":\"KARIMNAGAR\",\"SURYAPET\":\"NALGONDA\",\"VIKARABAD\":\"RANGA REDDY\",\n",
    "              \"YADADRI BHUVANAGIRI\":\"NALGONDA\"\n",
    "             }\n",
    "dist_key_changes={\"TG_Warangal Rural\":\"TG_Warangal\",\"TG_Warangal Urban\":\"TG_Warangal\",\"TG_Komaram Bheem\":\"TG_Adilabad\",\n",
    "\"TG_Mancherial\":\"TG_Adilabad\",\"TG_Nirmal\":\"TG_Adilabad\",\"TG_Wanaparthy\":\"TG_Mahabubnagar\",\"TG_Nagarkurnool\":\"TG_Mahabubnagar\",\n",
    "\"TG_Kamareddy\":\"TG_Nizamabad\",\"TG_Sangareddy\":\"TG_Medak\",\"TG_Siddipet\":\"TG_Medak\",\"TG_Bhadradri Kothagudem\":\"TG_Khammam\",\n",
    "\"TG_Jagtial\":\"TG_Karimnagar\",\"TG_Jangaon\":\"TG_Nalgonda\",\"TG_Jayashankar Bhupalapally\":\"TG_Karimnagar\",\n",
    "\"TG_Jogulamba Gadwal\":\"TG_Mahabubnagar\",\"TG_Medchal Malkajgiri\":\"TG_Ranga Reddy\",\"TG_Mulugu\":\"TG_Warangal\",\n",
    "\"TG_Narayanpet\":\"TG_Mahabubnagar\",\"TG_Peddapalli\":\"TG_Karimnagar\",\"TG_Rajanna Sircilla\":\"TG_Karimnagar\",\n",
    "\"TG_Suryapet\":\"TG_Nalgonda\",\"TG_Vikarabad\":\"TG_Ranga Reddy\",\"TG_Yadadri Bhuvanagiri\":\"TG_Nalgonda\"\n",
    "                 }"
   ]
  },
  {
   "cell_type": "code",
   "execution_count": 23,
   "metadata": {
    "execution": {
     "iopub.execute_input": "2021-09-21T14:24:59.700486Z",
     "iopub.status.busy": "2021-09-21T14:24:59.679770Z",
     "iopub.status.idle": "2021-09-21T14:24:59.716570Z",
     "shell.execute_reply": "2021-09-21T14:24:59.716570Z"
    }
   },
   "outputs": [],
   "source": [
    "df1.replace({'District': dist_changes,\"District_Key\":dist_key_changes},inplace= True)"
   ]
  },
  {
   "cell_type": "code",
   "execution_count": 24,
   "metadata": {
    "execution": {
     "iopub.execute_input": "2021-09-21T14:24:59.734974Z",
     "iopub.status.busy": "2021-09-21T14:24:59.734974Z",
     "iopub.status.idle": "2021-09-21T14:24:59.756503Z",
     "shell.execute_reply": "2021-09-21T14:24:59.756503Z"
    }
   },
   "outputs": [],
   "source": [
    "df1.replace({'District': {\"PASCHIM BARDHAMAN\":\"BARDDHAMAN\",\"PURBA BARDHAMAN\":\"BARDDHAMAN\"},\n",
    "             \"District_Key\":{\"WB_Paschim Bardhaman\":\"WB_Barddhaman\",\"WB_Purba Bardhaman\":\"WB_Barddhaman\"}},inplace= True)"
   ]
  },
  {
   "cell_type": "code",
   "execution_count": 25,
   "metadata": {
    "execution": {
     "iopub.execute_input": "2021-09-21T14:24:59.772295Z",
     "iopub.status.busy": "2021-09-21T14:24:59.772295Z",
     "iopub.status.idle": "2021-09-21T14:24:59.800911Z",
     "shell.execute_reply": "2021-09-21T14:24:59.800911Z"
    }
   },
   "outputs": [],
   "source": [
    "df1.replace({'State': {\"LADAKH\": \"JAMMU AND KASHMIR\"}},inplace= True)"
   ]
  },
  {
   "cell_type": "code",
   "execution_count": 26,
   "metadata": {
    "execution": {
     "iopub.execute_input": "2021-09-21T14:24:59.831684Z",
     "iopub.status.busy": "2021-09-21T14:24:59.831684Z",
     "iopub.status.idle": "2021-09-21T14:24:59.884727Z",
     "shell.execute_reply": "2021-09-21T14:24:59.884727Z"
    }
   },
   "outputs": [],
   "source": [
    "df1[\"First Dose Administered\"]=df1[\"First Dose Administered\"].astype(int)\n",
    "df1[\"Second Dose Administered\"]=df1[\"Second Dose Administered\"].astype(int)\n",
    "df1=df1.groupby([\"State\",\"State_Code\",\"District\",\"District_Key\"], as_index=False).agg({'First Dose Administered':'sum','Second Dose Administered':'sum'}).reset_index()"
   ]
  },
  {
   "cell_type": "code",
   "execution_count": 27,
   "metadata": {
    "execution": {
     "iopub.execute_input": "2021-09-21T14:24:59.916032Z",
     "iopub.status.busy": "2021-09-21T14:24:59.916032Z",
     "iopub.status.idle": "2021-09-21T14:24:59.931655Z",
     "shell.execute_reply": "2021-09-21T14:24:59.931655Z"
    }
   },
   "outputs": [
    {
     "data": {
      "text/html": [
       "<div>\n",
       "<style scoped>\n",
       "    .dataframe tbody tr th:only-of-type {\n",
       "        vertical-align: middle;\n",
       "    }\n",
       "\n",
       "    .dataframe tbody tr th {\n",
       "        vertical-align: top;\n",
       "    }\n",
       "\n",
       "    .dataframe thead th {\n",
       "        text-align: right;\n",
       "    }\n",
       "</style>\n",
       "<table border=\"1\" class=\"dataframe\">\n",
       "  <thead>\n",
       "    <tr style=\"text-align: right;\">\n",
       "      <th></th>\n",
       "      <th>State Name</th>\n",
       "      <th>Name</th>\n",
       "      <th>TRU</th>\n",
       "      <th>TOT_P</th>\n",
       "    </tr>\n",
       "  </thead>\n",
       "  <tbody>\n",
       "    <tr>\n",
       "      <th>1</th>\n",
       "      <td>JAMMU AND KASHMIR</td>\n",
       "      <td>ANANTNAG</td>\n",
       "      <td>Total</td>\n",
       "      <td>1078692</td>\n",
       "    </tr>\n",
       "    <tr>\n",
       "      <th>4</th>\n",
       "      <td>JAMMU AND KASHMIR</td>\n",
       "      <td>BUDGAM</td>\n",
       "      <td>Total</td>\n",
       "      <td>753745</td>\n",
       "    </tr>\n",
       "    <tr>\n",
       "      <th>7</th>\n",
       "      <td>JAMMU AND KASHMIR</td>\n",
       "      <td>BANDIPORA</td>\n",
       "      <td>Total</td>\n",
       "      <td>392232</td>\n",
       "    </tr>\n",
       "    <tr>\n",
       "      <th>10</th>\n",
       "      <td>JAMMU AND KASHMIR</td>\n",
       "      <td>BARAMULLA</td>\n",
       "      <td>Total</td>\n",
       "      <td>1008039</td>\n",
       "    </tr>\n",
       "    <tr>\n",
       "      <th>13</th>\n",
       "      <td>JAMMU AND KASHMIR</td>\n",
       "      <td>DODA</td>\n",
       "      <td>Total</td>\n",
       "      <td>409936</td>\n",
       "    </tr>\n",
       "    <tr>\n",
       "      <th>...</th>\n",
       "      <td>...</td>\n",
       "      <td>...</td>\n",
       "      <td>...</td>\n",
       "      <td>...</td>\n",
       "    </tr>\n",
       "    <tr>\n",
       "      <th>1999</th>\n",
       "      <td>PUDUCHERRY</td>\n",
       "      <td>PUDUCHERRY</td>\n",
       "      <td>Total</td>\n",
       "      <td>950289</td>\n",
       "    </tr>\n",
       "    <tr>\n",
       "      <th>2002</th>\n",
       "      <td>PUDUCHERRY</td>\n",
       "      <td>YANAM</td>\n",
       "      <td>Total</td>\n",
       "      <td>55626</td>\n",
       "    </tr>\n",
       "    <tr>\n",
       "      <th>2008</th>\n",
       "      <td>ANDAMAN AND NICOBAR ISLANDS</td>\n",
       "      <td>NICOBARS</td>\n",
       "      <td>Total</td>\n",
       "      <td>36842</td>\n",
       "    </tr>\n",
       "    <tr>\n",
       "      <th>2011</th>\n",
       "      <td>ANDAMAN AND NICOBAR ISLANDS</td>\n",
       "      <td>NORTH AND MIDDLE ANDAMAN</td>\n",
       "      <td>Total</td>\n",
       "      <td>105597</td>\n",
       "    </tr>\n",
       "    <tr>\n",
       "      <th>2014</th>\n",
       "      <td>ANDAMAN AND NICOBAR ISLANDS</td>\n",
       "      <td>SOUTH ANDAMAN</td>\n",
       "      <td>Total</td>\n",
       "      <td>238142</td>\n",
       "    </tr>\n",
       "  </tbody>\n",
       "</table>\n",
       "<p>639 rows × 4 columns</p>\n",
       "</div>"
      ],
      "text/plain": [
       "                       State Name                      Name    TRU    TOT_P\n",
       "1               JAMMU AND KASHMIR                  ANANTNAG  Total  1078692\n",
       "4               JAMMU AND KASHMIR                    BUDGAM  Total   753745\n",
       "7               JAMMU AND KASHMIR                 BANDIPORA  Total   392232\n",
       "10              JAMMU AND KASHMIR                 BARAMULLA  Total  1008039\n",
       "13              JAMMU AND KASHMIR                      DODA  Total   409936\n",
       "...                           ...                       ...    ...      ...\n",
       "1999                   PUDUCHERRY                PUDUCHERRY  Total   950289\n",
       "2002                   PUDUCHERRY                     YANAM  Total    55626\n",
       "2008  ANDAMAN AND NICOBAR ISLANDS                  NICOBARS  Total    36842\n",
       "2011  ANDAMAN AND NICOBAR ISLANDS  NORTH AND MIDDLE ANDAMAN  Total   105597\n",
       "2014  ANDAMAN AND NICOBAR ISLANDS             SOUTH ANDAMAN  Total   238142\n",
       "\n",
       "[639 rows x 4 columns]"
      ]
     },
     "execution_count": 1,
     "metadata": {},
     "output_type": "execute_result"
    }
   ],
   "source": [
    "census_data"
   ]
  },
  {
   "cell_type": "code",
   "execution_count": 28,
   "metadata": {
    "execution": {
     "iopub.execute_input": "2021-09-21T14:24:59.985026Z",
     "iopub.status.busy": "2021-09-21T14:24:59.985026Z",
     "iopub.status.idle": "2021-09-21T14:25:00.008015Z",
     "shell.execute_reply": "2021-09-21T14:25:00.008015Z"
    }
   },
   "outputs": [
    {
     "data": {
      "text/html": [
       "<div>\n",
       "<style scoped>\n",
       "    .dataframe tbody tr th:only-of-type {\n",
       "        vertical-align: middle;\n",
       "    }\n",
       "\n",
       "    .dataframe tbody tr th {\n",
       "        vertical-align: top;\n",
       "    }\n",
       "\n",
       "    .dataframe thead th {\n",
       "        text-align: right;\n",
       "    }\n",
       "</style>\n",
       "<table border=\"1\" class=\"dataframe\">\n",
       "  <thead>\n",
       "    <tr style=\"text-align: right;\">\n",
       "      <th></th>\n",
       "      <th>index</th>\n",
       "      <th>State</th>\n",
       "      <th>State_Code</th>\n",
       "      <th>District</th>\n",
       "      <th>District_Key</th>\n",
       "      <th>First Dose Administered</th>\n",
       "      <th>Second Dose Administered</th>\n",
       "    </tr>\n",
       "  </thead>\n",
       "  <tbody>\n",
       "    <tr>\n",
       "      <th>0</th>\n",
       "      <td>0</td>\n",
       "      <td>ANDAMAN AND NICOBAR ISLANDS</td>\n",
       "      <td>AN</td>\n",
       "      <td>NICOBARS</td>\n",
       "      <td>AN_Nicobars</td>\n",
       "      <td>22081</td>\n",
       "      <td>8110</td>\n",
       "    </tr>\n",
       "    <tr>\n",
       "      <th>1</th>\n",
       "      <td>1</td>\n",
       "      <td>ANDAMAN AND NICOBAR ISLANDS</td>\n",
       "      <td>AN</td>\n",
       "      <td>NORTH AND MIDDLE ANDAMAN</td>\n",
       "      <td>AN_North and Middle Andaman</td>\n",
       "      <td>68043</td>\n",
       "      <td>29281</td>\n",
       "    </tr>\n",
       "    <tr>\n",
       "      <th>2</th>\n",
       "      <td>2</td>\n",
       "      <td>ANDAMAN AND NICOBAR ISLANDS</td>\n",
       "      <td>AN</td>\n",
       "      <td>SOUTH ANDAMAN</td>\n",
       "      <td>AN_South Andaman</td>\n",
       "      <td>142585</td>\n",
       "      <td>59896</td>\n",
       "    </tr>\n",
       "    <tr>\n",
       "      <th>3</th>\n",
       "      <td>3</td>\n",
       "      <td>ANDHRA PRADESH</td>\n",
       "      <td>AP</td>\n",
       "      <td>ANANTAPUR</td>\n",
       "      <td>AP_Anantapur</td>\n",
       "      <td>1364374</td>\n",
       "      <td>597346</td>\n",
       "    </tr>\n",
       "    <tr>\n",
       "      <th>4</th>\n",
       "      <td>4</td>\n",
       "      <td>ANDHRA PRADESH</td>\n",
       "      <td>AP</td>\n",
       "      <td>CHITTOOR</td>\n",
       "      <td>AP_Chittoor</td>\n",
       "      <td>1565591</td>\n",
       "      <td>640864</td>\n",
       "    </tr>\n",
       "    <tr>\n",
       "      <th>...</th>\n",
       "      <td>...</td>\n",
       "      <td>...</td>\n",
       "      <td>...</td>\n",
       "      <td>...</td>\n",
       "      <td>...</td>\n",
       "      <td>...</td>\n",
       "      <td>...</td>\n",
       "    </tr>\n",
       "    <tr>\n",
       "      <th>701</th>\n",
       "      <td>701</td>\n",
       "      <td>WEST BENGAL</td>\n",
       "      <td>WB</td>\n",
       "      <td>PASCHIM MEDINIPUR</td>\n",
       "      <td>WB_Paschim Medinipur</td>\n",
       "      <td>948146</td>\n",
       "      <td>380217</td>\n",
       "    </tr>\n",
       "    <tr>\n",
       "      <th>702</th>\n",
       "      <td>702</td>\n",
       "      <td>WEST BENGAL</td>\n",
       "      <td>WB</td>\n",
       "      <td>PURBA MEDINIPUR</td>\n",
       "      <td>WB_Purba Medinipur</td>\n",
       "      <td>1539152</td>\n",
       "      <td>672014</td>\n",
       "    </tr>\n",
       "    <tr>\n",
       "      <th>703</th>\n",
       "      <td>703</td>\n",
       "      <td>WEST BENGAL</td>\n",
       "      <td>WB</td>\n",
       "      <td>PURULIA</td>\n",
       "      <td>WB_Purulia</td>\n",
       "      <td>580596</td>\n",
       "      <td>206567</td>\n",
       "    </tr>\n",
       "    <tr>\n",
       "      <th>704</th>\n",
       "      <td>704</td>\n",
       "      <td>WEST BENGAL</td>\n",
       "      <td>WB</td>\n",
       "      <td>SOUTH 24 PARGANAS</td>\n",
       "      <td>WB_South 24 Parganas</td>\n",
       "      <td>2067595</td>\n",
       "      <td>793261</td>\n",
       "    </tr>\n",
       "    <tr>\n",
       "      <th>705</th>\n",
       "      <td>705</td>\n",
       "      <td>WEST BENGAL</td>\n",
       "      <td>WB</td>\n",
       "      <td>UTTAR DINAJPUR</td>\n",
       "      <td>WB_Uttar Dinajpur</td>\n",
       "      <td>540958</td>\n",
       "      <td>173055</td>\n",
       "    </tr>\n",
       "  </tbody>\n",
       "</table>\n",
       "<p>706 rows × 7 columns</p>\n",
       "</div>"
      ],
      "text/plain": [
       "     index                        State State_Code                  District  \\\n",
       "0        0  ANDAMAN AND NICOBAR ISLANDS         AN                  NICOBARS   \n",
       "1        1  ANDAMAN AND NICOBAR ISLANDS         AN  NORTH AND MIDDLE ANDAMAN   \n",
       "2        2  ANDAMAN AND NICOBAR ISLANDS         AN             SOUTH ANDAMAN   \n",
       "3        3               ANDHRA PRADESH         AP                 ANANTAPUR   \n",
       "4        4               ANDHRA PRADESH         AP                  CHITTOOR   \n",
       "..     ...                          ...        ...                       ...   \n",
       "701    701                  WEST BENGAL         WB         PASCHIM MEDINIPUR   \n",
       "702    702                  WEST BENGAL         WB           PURBA MEDINIPUR   \n",
       "703    703                  WEST BENGAL         WB                   PURULIA   \n",
       "704    704                  WEST BENGAL         WB         SOUTH 24 PARGANAS   \n",
       "705    705                  WEST BENGAL         WB            UTTAR DINAJPUR   \n",
       "\n",
       "                    District_Key  First Dose Administered  \\\n",
       "0                    AN_Nicobars                    22081   \n",
       "1    AN_North and Middle Andaman                    68043   \n",
       "2               AN_South Andaman                   142585   \n",
       "3                   AP_Anantapur                  1364374   \n",
       "4                    AP_Chittoor                  1565591   \n",
       "..                           ...                      ...   \n",
       "701         WB_Paschim Medinipur                   948146   \n",
       "702           WB_Purba Medinipur                  1539152   \n",
       "703                   WB_Purulia                   580596   \n",
       "704         WB_South 24 Parganas                  2067595   \n",
       "705            WB_Uttar Dinajpur                   540958   \n",
       "\n",
       "     Second Dose Administered  \n",
       "0                        8110  \n",
       "1                       29281  \n",
       "2                       59896  \n",
       "3                      597346  \n",
       "4                      640864  \n",
       "..                        ...  \n",
       "701                    380217  \n",
       "702                    672014  \n",
       "703                    206567  \n",
       "704                    793261  \n",
       "705                    173055  \n",
       "\n",
       "[706 rows x 7 columns]"
      ]
     },
     "execution_count": 1,
     "metadata": {},
     "output_type": "execute_result"
    }
   ],
   "source": [
    "df1"
   ]
  },
  {
   "cell_type": "code",
   "execution_count": 29,
   "metadata": {
    "execution": {
     "iopub.execute_input": "2021-09-21T14:25:00.026684Z",
     "iopub.status.busy": "2021-09-21T14:25:00.026684Z",
     "iopub.status.idle": "2021-09-21T14:25:00.058053Z",
     "shell.execute_reply": "2021-09-21T14:25:00.058053Z"
    }
   },
   "outputs": [],
   "source": [
    "data_final  = pd.merge(census_data,df1,how='inner',left_on=['State Name','Name'],right_on=['State','District'],sort=True)"
   ]
  },
  {
   "cell_type": "code",
   "execution_count": 30,
   "metadata": {
    "execution": {
     "iopub.execute_input": "2021-09-21T14:25:00.136710Z",
     "iopub.status.busy": "2021-09-21T14:25:00.135714Z",
     "iopub.status.idle": "2021-09-21T14:25:00.156861Z",
     "shell.execute_reply": "2021-09-21T14:25:00.156861Z"
    }
   },
   "outputs": [
    {
     "data": {
      "text/html": [
       "<div>\n",
       "<style scoped>\n",
       "    .dataframe tbody tr th:only-of-type {\n",
       "        vertical-align: middle;\n",
       "    }\n",
       "\n",
       "    .dataframe tbody tr th {\n",
       "        vertical-align: top;\n",
       "    }\n",
       "\n",
       "    .dataframe thead th {\n",
       "        text-align: right;\n",
       "    }\n",
       "</style>\n",
       "<table border=\"1\" class=\"dataframe\">\n",
       "  <thead>\n",
       "    <tr style=\"text-align: right;\">\n",
       "      <th></th>\n",
       "      <th>State Name</th>\n",
       "      <th>Name</th>\n",
       "      <th>TRU</th>\n",
       "      <th>TOT_P</th>\n",
       "      <th>index</th>\n",
       "      <th>State</th>\n",
       "      <th>State_Code</th>\n",
       "      <th>District</th>\n",
       "      <th>District_Key</th>\n",
       "      <th>First Dose Administered</th>\n",
       "      <th>Second Dose Administered</th>\n",
       "    </tr>\n",
       "  </thead>\n",
       "  <tbody>\n",
       "    <tr>\n",
       "      <th>0</th>\n",
       "      <td>ANDAMAN AND NICOBAR ISLANDS</td>\n",
       "      <td>NICOBARS</td>\n",
       "      <td>Total</td>\n",
       "      <td>36842</td>\n",
       "      <td>0</td>\n",
       "      <td>ANDAMAN AND NICOBAR ISLANDS</td>\n",
       "      <td>AN</td>\n",
       "      <td>NICOBARS</td>\n",
       "      <td>AN_Nicobars</td>\n",
       "      <td>22081</td>\n",
       "      <td>8110</td>\n",
       "    </tr>\n",
       "    <tr>\n",
       "      <th>1</th>\n",
       "      <td>ANDAMAN AND NICOBAR ISLANDS</td>\n",
       "      <td>NORTH AND MIDDLE ANDAMAN</td>\n",
       "      <td>Total</td>\n",
       "      <td>105597</td>\n",
       "      <td>1</td>\n",
       "      <td>ANDAMAN AND NICOBAR ISLANDS</td>\n",
       "      <td>AN</td>\n",
       "      <td>NORTH AND MIDDLE ANDAMAN</td>\n",
       "      <td>AN_North and Middle Andaman</td>\n",
       "      <td>68043</td>\n",
       "      <td>29281</td>\n",
       "    </tr>\n",
       "    <tr>\n",
       "      <th>2</th>\n",
       "      <td>ANDAMAN AND NICOBAR ISLANDS</td>\n",
       "      <td>SOUTH ANDAMAN</td>\n",
       "      <td>Total</td>\n",
       "      <td>238142</td>\n",
       "      <td>2</td>\n",
       "      <td>ANDAMAN AND NICOBAR ISLANDS</td>\n",
       "      <td>AN</td>\n",
       "      <td>SOUTH ANDAMAN</td>\n",
       "      <td>AN_South Andaman</td>\n",
       "      <td>142585</td>\n",
       "      <td>59896</td>\n",
       "    </tr>\n",
       "    <tr>\n",
       "      <th>3</th>\n",
       "      <td>ANDHRA PRADESH</td>\n",
       "      <td>ADILABAD</td>\n",
       "      <td>Total</td>\n",
       "      <td>2741239</td>\n",
       "      <td>16</td>\n",
       "      <td>ANDHRA PRADESH</td>\n",
       "      <td>TG</td>\n",
       "      <td>ADILABAD</td>\n",
       "      <td>TG_Adilabad</td>\n",
       "      <td>552983</td>\n",
       "      <td>203891</td>\n",
       "    </tr>\n",
       "    <tr>\n",
       "      <th>4</th>\n",
       "      <td>ANDHRA PRADESH</td>\n",
       "      <td>ANANTAPUR</td>\n",
       "      <td>Total</td>\n",
       "      <td>4081148</td>\n",
       "      <td>3</td>\n",
       "      <td>ANDHRA PRADESH</td>\n",
       "      <td>AP</td>\n",
       "      <td>ANANTAPUR</td>\n",
       "      <td>AP_Anantapur</td>\n",
       "      <td>1364374</td>\n",
       "      <td>597346</td>\n",
       "    </tr>\n",
       "    <tr>\n",
       "      <th>...</th>\n",
       "      <td>...</td>\n",
       "      <td>...</td>\n",
       "      <td>...</td>\n",
       "      <td>...</td>\n",
       "      <td>...</td>\n",
       "      <td>...</td>\n",
       "      <td>...</td>\n",
       "      <td>...</td>\n",
       "      <td>...</td>\n",
       "      <td>...</td>\n",
       "      <td>...</td>\n",
       "    </tr>\n",
       "    <tr>\n",
       "      <th>631</th>\n",
       "      <td>WEST BENGAL</td>\n",
       "      <td>PASCHIM MEDINIPUR</td>\n",
       "      <td>Total</td>\n",
       "      <td>5913457</td>\n",
       "      <td>701</td>\n",
       "      <td>WEST BENGAL</td>\n",
       "      <td>WB</td>\n",
       "      <td>PASCHIM MEDINIPUR</td>\n",
       "      <td>WB_Paschim Medinipur</td>\n",
       "      <td>948146</td>\n",
       "      <td>380217</td>\n",
       "    </tr>\n",
       "    <tr>\n",
       "      <th>632</th>\n",
       "      <td>WEST BENGAL</td>\n",
       "      <td>PURBA MEDINIPUR</td>\n",
       "      <td>Total</td>\n",
       "      <td>5095875</td>\n",
       "      <td>702</td>\n",
       "      <td>WEST BENGAL</td>\n",
       "      <td>WB</td>\n",
       "      <td>PURBA MEDINIPUR</td>\n",
       "      <td>WB_Purba Medinipur</td>\n",
       "      <td>1539152</td>\n",
       "      <td>672014</td>\n",
       "    </tr>\n",
       "    <tr>\n",
       "      <th>633</th>\n",
       "      <td>WEST BENGAL</td>\n",
       "      <td>PURULIA</td>\n",
       "      <td>Total</td>\n",
       "      <td>2930115</td>\n",
       "      <td>703</td>\n",
       "      <td>WEST BENGAL</td>\n",
       "      <td>WB</td>\n",
       "      <td>PURULIA</td>\n",
       "      <td>WB_Purulia</td>\n",
       "      <td>580596</td>\n",
       "      <td>206567</td>\n",
       "    </tr>\n",
       "    <tr>\n",
       "      <th>634</th>\n",
       "      <td>WEST BENGAL</td>\n",
       "      <td>SOUTH 24 PARGANAS</td>\n",
       "      <td>Total</td>\n",
       "      <td>8161961</td>\n",
       "      <td>704</td>\n",
       "      <td>WEST BENGAL</td>\n",
       "      <td>WB</td>\n",
       "      <td>SOUTH 24 PARGANAS</td>\n",
       "      <td>WB_South 24 Parganas</td>\n",
       "      <td>2067595</td>\n",
       "      <td>793261</td>\n",
       "    </tr>\n",
       "    <tr>\n",
       "      <th>635</th>\n",
       "      <td>WEST BENGAL</td>\n",
       "      <td>UTTAR DINAJPUR</td>\n",
       "      <td>Total</td>\n",
       "      <td>3007134</td>\n",
       "      <td>705</td>\n",
       "      <td>WEST BENGAL</td>\n",
       "      <td>WB</td>\n",
       "      <td>UTTAR DINAJPUR</td>\n",
       "      <td>WB_Uttar Dinajpur</td>\n",
       "      <td>540958</td>\n",
       "      <td>173055</td>\n",
       "    </tr>\n",
       "  </tbody>\n",
       "</table>\n",
       "<p>636 rows × 11 columns</p>\n",
       "</div>"
      ],
      "text/plain": [
       "                      State Name                      Name    TRU    TOT_P  \\\n",
       "0    ANDAMAN AND NICOBAR ISLANDS                  NICOBARS  Total    36842   \n",
       "1    ANDAMAN AND NICOBAR ISLANDS  NORTH AND MIDDLE ANDAMAN  Total   105597   \n",
       "2    ANDAMAN AND NICOBAR ISLANDS             SOUTH ANDAMAN  Total   238142   \n",
       "3                 ANDHRA PRADESH                  ADILABAD  Total  2741239   \n",
       "4                 ANDHRA PRADESH                 ANANTAPUR  Total  4081148   \n",
       "..                           ...                       ...    ...      ...   \n",
       "631                  WEST BENGAL         PASCHIM MEDINIPUR  Total  5913457   \n",
       "632                  WEST BENGAL           PURBA MEDINIPUR  Total  5095875   \n",
       "633                  WEST BENGAL                   PURULIA  Total  2930115   \n",
       "634                  WEST BENGAL         SOUTH 24 PARGANAS  Total  8161961   \n",
       "635                  WEST BENGAL            UTTAR DINAJPUR  Total  3007134   \n",
       "\n",
       "     index                        State State_Code                  District  \\\n",
       "0        0  ANDAMAN AND NICOBAR ISLANDS         AN                  NICOBARS   \n",
       "1        1  ANDAMAN AND NICOBAR ISLANDS         AN  NORTH AND MIDDLE ANDAMAN   \n",
       "2        2  ANDAMAN AND NICOBAR ISLANDS         AN             SOUTH ANDAMAN   \n",
       "3       16               ANDHRA PRADESH         TG                  ADILABAD   \n",
       "4        3               ANDHRA PRADESH         AP                 ANANTAPUR   \n",
       "..     ...                          ...        ...                       ...   \n",
       "631    701                  WEST BENGAL         WB         PASCHIM MEDINIPUR   \n",
       "632    702                  WEST BENGAL         WB           PURBA MEDINIPUR   \n",
       "633    703                  WEST BENGAL         WB                   PURULIA   \n",
       "634    704                  WEST BENGAL         WB         SOUTH 24 PARGANAS   \n",
       "635    705                  WEST BENGAL         WB            UTTAR DINAJPUR   \n",
       "\n",
       "                    District_Key  First Dose Administered  \\\n",
       "0                    AN_Nicobars                    22081   \n",
       "1    AN_North and Middle Andaman                    68043   \n",
       "2               AN_South Andaman                   142585   \n",
       "3                    TG_Adilabad                   552983   \n",
       "4                   AP_Anantapur                  1364374   \n",
       "..                           ...                      ...   \n",
       "631         WB_Paschim Medinipur                   948146   \n",
       "632           WB_Purba Medinipur                  1539152   \n",
       "633                   WB_Purulia                   580596   \n",
       "634         WB_South 24 Parganas                  2067595   \n",
       "635            WB_Uttar Dinajpur                   540958   \n",
       "\n",
       "     Second Dose Administered  \n",
       "0                        8110  \n",
       "1                       29281  \n",
       "2                       59896  \n",
       "3                      203891  \n",
       "4                      597346  \n",
       "..                        ...  \n",
       "631                    380217  \n",
       "632                    672014  \n",
       "633                    206567  \n",
       "634                    793261  \n",
       "635                    173055  \n",
       "\n",
       "[636 rows x 11 columns]"
      ]
     },
     "execution_count": 1,
     "metadata": {},
     "output_type": "execute_result"
    }
   ],
   "source": [
    "data_final"
   ]
  },
  {
   "cell_type": "code",
   "execution_count": 31,
   "metadata": {
    "execution": {
     "iopub.execute_input": "2021-09-21T14:25:00.172624Z",
     "iopub.status.busy": "2021-09-21T14:25:00.172624Z",
     "iopub.status.idle": "2021-09-21T14:25:00.201557Z",
     "shell.execute_reply": "2021-09-21T14:25:00.201557Z"
    }
   },
   "outputs": [],
   "source": [
    "data_district = data_final[['District_Key','TOT_P','First Dose Administered','Second Dose Administered']]\n",
    "data_district = data_district.rename(columns={'District_Key':'districtid'})"
   ]
  },
  {
   "cell_type": "code",
   "execution_count": 32,
   "metadata": {
    "execution": {
     "iopub.execute_input": "2021-09-21T14:25:00.230296Z",
     "iopub.status.busy": "2021-09-21T14:25:00.226593Z",
     "iopub.status.idle": "2021-09-21T14:25:00.285939Z",
     "shell.execute_reply": "2021-09-21T14:25:00.285939Z"
    }
   },
   "outputs": [],
   "source": [
    "data_district['vaccinateddose1ratio'] = data_district['First Dose Administered'].astype(float)/data_district['TOT_P'].astype(float)\n",
    "data_district['vaccinateddose2ratio'] = data_district['Second Dose Administered'].astype(float)/data_district['TOT_P'].astype(float)"
   ]
  },
  {
   "cell_type": "code",
   "execution_count": 33,
   "metadata": {
    "execution": {
     "iopub.execute_input": "2021-09-21T14:25:00.317253Z",
     "iopub.status.busy": "2021-09-21T14:25:00.301626Z",
     "iopub.status.idle": "2021-09-21T14:25:00.333061Z",
     "shell.execute_reply": "2021-09-21T14:25:00.333061Z"
    }
   },
   "outputs": [
    {
     "data": {
      "text/html": [
       "<div>\n",
       "<style scoped>\n",
       "    .dataframe tbody tr th:only-of-type {\n",
       "        vertical-align: middle;\n",
       "    }\n",
       "\n",
       "    .dataframe tbody tr th {\n",
       "        vertical-align: top;\n",
       "    }\n",
       "\n",
       "    .dataframe thead th {\n",
       "        text-align: right;\n",
       "    }\n",
       "</style>\n",
       "<table border=\"1\" class=\"dataframe\">\n",
       "  <thead>\n",
       "    <tr style=\"text-align: right;\">\n",
       "      <th></th>\n",
       "      <th>districtid</th>\n",
       "      <th>TOT_P</th>\n",
       "      <th>First Dose Administered</th>\n",
       "      <th>Second Dose Administered</th>\n",
       "      <th>vaccinateddose1ratio</th>\n",
       "      <th>vaccinateddose2ratio</th>\n",
       "    </tr>\n",
       "  </thead>\n",
       "  <tbody>\n",
       "    <tr>\n",
       "      <th>399</th>\n",
       "      <td>DL_New Delhi</td>\n",
       "      <td>142004</td>\n",
       "      <td>648056</td>\n",
       "      <td>320117</td>\n",
       "      <td>4.563646</td>\n",
       "      <td>2.254282</td>\n",
       "    </tr>\n",
       "  </tbody>\n",
       "</table>\n",
       "</div>"
      ],
      "text/plain": [
       "       districtid   TOT_P  First Dose Administered  Second Dose Administered  \\\n",
       "399  DL_New Delhi  142004                   648056                    320117   \n",
       "\n",
       "     vaccinateddose1ratio  vaccinateddose2ratio  \n",
       "399              4.563646              2.254282  "
      ]
     },
     "execution_count": 1,
     "metadata": {},
     "output_type": "execute_result"
    }
   ],
   "source": [
    "#VACCINATION RATIO IS VERY HIGH FOR NEW DELHI\n",
    "data_district[data_district[\"districtid\"]==\"DL_New Delhi\"] "
   ]
  },
  {
   "cell_type": "code",
   "execution_count": 34,
   "metadata": {
    "execution": {
     "iopub.execute_input": "2021-09-21T14:25:00.353266Z",
     "iopub.status.busy": "2021-09-21T14:25:00.353266Z",
     "iopub.status.idle": "2021-09-21T14:25:00.373726Z",
     "shell.execute_reply": "2021-09-21T14:25:00.373726Z"
    }
   },
   "outputs": [],
   "source": [
    "data_district = data_district[['districtid','vaccinateddose1ratio','vaccinateddose2ratio']]"
   ]
  },
  {
   "cell_type": "code",
   "execution_count": 35,
   "metadata": {
    "execution": {
     "iopub.execute_input": "2021-09-21T14:25:00.386035Z",
     "iopub.status.busy": "2021-09-21T14:25:00.386035Z",
     "iopub.status.idle": "2021-09-21T14:25:00.403271Z",
     "shell.execute_reply": "2021-09-21T14:25:00.403271Z"
    }
   },
   "outputs": [],
   "source": [
    "data_district.sort_values(\"vaccinateddose1ratio\",axis=0,ascending = True,inplace = True ,kind = 'quicksort',na_position = 'last' )\n",
    "data_district.drop_duplicates(subset =\"districtid\",keep='last', inplace=True)\n"
   ]
  },
  {
   "cell_type": "code",
   "execution_count": 36,
   "metadata": {
    "execution": {
     "iopub.execute_input": "2021-09-21T14:25:00.420052Z",
     "iopub.status.busy": "2021-09-21T14:25:00.420052Z",
     "iopub.status.idle": "2021-09-21T14:25:00.438562Z",
     "shell.execute_reply": "2021-09-21T14:25:00.438562Z"
    }
   },
   "outputs": [
    {
     "data": {
      "text/plain": [
       "636"
      ]
     },
     "execution_count": 1,
     "metadata": {},
     "output_type": "execute_result"
    }
   ],
   "source": [
    "len(data_district['districtid'])"
   ]
  },
  {
   "cell_type": "code",
   "execution_count": 37,
   "metadata": {
    "execution": {
     "iopub.execute_input": "2021-09-21T14:25:00.454692Z",
     "iopub.status.busy": "2021-09-21T14:25:00.454692Z",
     "iopub.status.idle": "2021-09-21T14:25:00.470568Z",
     "shell.execute_reply": "2021-09-21T14:25:00.470568Z"
    }
   },
   "outputs": [],
   "source": [
    "data_state = data_final[['State_Code','TOT_P','First Dose Administered','Second Dose Administered']]"
   ]
  },
  {
   "cell_type": "code",
   "execution_count": 38,
   "metadata": {
    "execution": {
     "iopub.execute_input": "2021-09-21T14:25:00.518817Z",
     "iopub.status.busy": "2021-09-21T14:25:00.518817Z",
     "iopub.status.idle": "2021-09-21T14:25:00.538469Z",
     "shell.execute_reply": "2021-09-21T14:25:00.538469Z"
    }
   },
   "outputs": [
    {
     "data": {
      "text/html": [
       "<div>\n",
       "<style scoped>\n",
       "    .dataframe tbody tr th:only-of-type {\n",
       "        vertical-align: middle;\n",
       "    }\n",
       "\n",
       "    .dataframe tbody tr th {\n",
       "        vertical-align: top;\n",
       "    }\n",
       "\n",
       "    .dataframe thead th {\n",
       "        text-align: right;\n",
       "    }\n",
       "</style>\n",
       "<table border=\"1\" class=\"dataframe\">\n",
       "  <thead>\n",
       "    <tr style=\"text-align: right;\">\n",
       "      <th></th>\n",
       "      <th>State_Code</th>\n",
       "      <th>TOT_P</th>\n",
       "      <th>First Dose Administered</th>\n",
       "      <th>Second Dose Administered</th>\n",
       "    </tr>\n",
       "  </thead>\n",
       "  <tbody>\n",
       "    <tr>\n",
       "      <th>0</th>\n",
       "      <td>AN</td>\n",
       "      <td>36842</td>\n",
       "      <td>22081</td>\n",
       "      <td>8110</td>\n",
       "    </tr>\n",
       "    <tr>\n",
       "      <th>1</th>\n",
       "      <td>AN</td>\n",
       "      <td>105597</td>\n",
       "      <td>68043</td>\n",
       "      <td>29281</td>\n",
       "    </tr>\n",
       "    <tr>\n",
       "      <th>2</th>\n",
       "      <td>AN</td>\n",
       "      <td>238142</td>\n",
       "      <td>142585</td>\n",
       "      <td>59896</td>\n",
       "    </tr>\n",
       "    <tr>\n",
       "      <th>3</th>\n",
       "      <td>TG</td>\n",
       "      <td>2741239</td>\n",
       "      <td>552983</td>\n",
       "      <td>203891</td>\n",
       "    </tr>\n",
       "    <tr>\n",
       "      <th>4</th>\n",
       "      <td>AP</td>\n",
       "      <td>4081148</td>\n",
       "      <td>1364374</td>\n",
       "      <td>597346</td>\n",
       "    </tr>\n",
       "    <tr>\n",
       "      <th>...</th>\n",
       "      <td>...</td>\n",
       "      <td>...</td>\n",
       "      <td>...</td>\n",
       "      <td>...</td>\n",
       "    </tr>\n",
       "    <tr>\n",
       "      <th>631</th>\n",
       "      <td>WB</td>\n",
       "      <td>5913457</td>\n",
       "      <td>948146</td>\n",
       "      <td>380217</td>\n",
       "    </tr>\n",
       "    <tr>\n",
       "      <th>632</th>\n",
       "      <td>WB</td>\n",
       "      <td>5095875</td>\n",
       "      <td>1539152</td>\n",
       "      <td>672014</td>\n",
       "    </tr>\n",
       "    <tr>\n",
       "      <th>633</th>\n",
       "      <td>WB</td>\n",
       "      <td>2930115</td>\n",
       "      <td>580596</td>\n",
       "      <td>206567</td>\n",
       "    </tr>\n",
       "    <tr>\n",
       "      <th>634</th>\n",
       "      <td>WB</td>\n",
       "      <td>8161961</td>\n",
       "      <td>2067595</td>\n",
       "      <td>793261</td>\n",
       "    </tr>\n",
       "    <tr>\n",
       "      <th>635</th>\n",
       "      <td>WB</td>\n",
       "      <td>3007134</td>\n",
       "      <td>540958</td>\n",
       "      <td>173055</td>\n",
       "    </tr>\n",
       "  </tbody>\n",
       "</table>\n",
       "<p>636 rows × 4 columns</p>\n",
       "</div>"
      ],
      "text/plain": [
       "    State_Code    TOT_P  First Dose Administered  Second Dose Administered\n",
       "0           AN    36842                    22081                      8110\n",
       "1           AN   105597                    68043                     29281\n",
       "2           AN   238142                   142585                     59896\n",
       "3           TG  2741239                   552983                    203891\n",
       "4           AP  4081148                  1364374                    597346\n",
       "..         ...      ...                      ...                       ...\n",
       "631         WB  5913457                   948146                    380217\n",
       "632         WB  5095875                  1539152                    672014\n",
       "633         WB  2930115                   580596                    206567\n",
       "634         WB  8161961                  2067595                    793261\n",
       "635         WB  3007134                   540958                    173055\n",
       "\n",
       "[636 rows x 4 columns]"
      ]
     },
     "execution_count": 1,
     "metadata": {},
     "output_type": "execute_result"
    }
   ],
   "source": [
    "data_state"
   ]
  },
  {
   "cell_type": "code",
   "execution_count": 39,
   "metadata": {
    "execution": {
     "iopub.execute_input": "2021-09-21T14:25:00.587394Z",
     "iopub.status.busy": "2021-09-21T14:25:00.554418Z",
     "iopub.status.idle": "2021-09-21T14:25:00.603342Z",
     "shell.execute_reply": "2021-09-21T14:25:00.603342Z"
    }
   },
   "outputs": [
    {
     "name": "stdout",
     "output_type": "stream",
     "text": [
      "   Stateid      TOT_P  First Dose Administered  Second Dose Administered\n",
      "0       AN     380581                   232709                     97287\n",
      "1       AP   49386799                 18516141                   6485212\n",
      "2       AR    1375723                   552299                    160272\n",
      "3       AS   31205576                 10257764                   2241434\n",
      "4       BR  104099452                 25167378                   4859267\n",
      "5       CH    1055450                   733579                    244351\n",
      "6       CT   23795984                  6365264                   1975766\n",
      "7       DL   16787941                  6901107                   2735945\n",
      "8       DN     586956                   598380                     90421\n",
      "9       GA    1458545                  1112815                    329909\n",
      "10      GJ   60439692                 27180154                   8618981\n",
      "11      HP    6864602                  4950789                   1513695\n",
      "12      HR   25351462                 10184272                   3103139\n",
      "13      JH   32988134                  8797921                   2134931\n",
      "14      JK   12267013                  5546227                   1573432\n",
      "15      KA   61095297                 26662330                   7837391\n",
      "16      KL   33406061                 17281691                   6657813\n",
      "17      LA     274289                   189535                     72825\n",
      "18      LD      64473                    51678                     17875\n",
      "19      MH  112374333                 35781051                  12597205\n",
      "20      ML    2966889                   770413                    211351\n",
      "21      MN    2855794                   976130                    225946\n",
      "22      MP   72626809                 31397215                   6057613\n",
      "23      MZ    1097206                   660109                    217691\n",
      "24      NL    1978502                   639379                    167940\n",
      "25      OR   41974218                 15009657                   4474924\n",
      "26      PB   27743338                  7934030                   2382524\n",
      "27      PY    1247953                   616278                    157236\n",
      "28      RJ   68548437                 28531782                   8983559\n",
      "29      SK     610577                   500829                    158042\n",
      "30      TG   35193978                 11886754                   4086062\n",
      "31      TN   72147030                 19862427                   4503267\n",
      "32      TR    3673917                  1481385                    537876\n",
      "33      UP  199812341                 46714111                   8881526\n",
      "34      UT   10086292                  5495857                   1722454\n",
      "35      WB   91276115                 24002795                   9102608\n"
     ]
    }
   ],
   "source": [
    "data_state = data_state.rename(columns={'State_Code':'Stateid'})\n",
    "data_state = data_state.groupby(['Stateid'],as_index=False).agg({'TOT_P':'sum','First Dose Administered':'sum','Second Dose Administered':'sum'})\n",
    "print(data_state)\n"
   ]
  },
  {
   "cell_type": "code",
   "execution_count": 40,
   "metadata": {
    "execution": {
     "iopub.execute_input": "2021-09-21T14:25:00.634349Z",
     "iopub.status.busy": "2021-09-21T14:25:00.618725Z",
     "iopub.status.idle": "2021-09-21T14:25:00.634349Z",
     "shell.execute_reply": "2021-09-21T14:25:00.634349Z"
    }
   },
   "outputs": [],
   "source": [
    "data_state['vaccinateddose1ratio'] = data_state['First Dose Administered'].astype(float)/data_state['TOT_P'].astype(float)\n",
    "data_state['vaccinateddose2ratio'] = data_state['Second Dose Administered'].astype(float)/data_state['TOT_P'].astype(float)"
   ]
  },
  {
   "cell_type": "code",
   "execution_count": 41,
   "metadata": {
    "execution": {
     "iopub.execute_input": "2021-09-21T14:25:00.649977Z",
     "iopub.status.busy": "2021-09-21T14:25:00.649977Z",
     "iopub.status.idle": "2021-09-21T14:25:00.665588Z",
     "shell.execute_reply": "2021-09-21T14:25:00.665588Z"
    }
   },
   "outputs": [],
   "source": [
    "data_overall = pd.DataFrame({'Overall':['India']})\n",
    "data_overall['TOT_P'] = data_state['TOT_P'].sum()\n",
    "data_overall['First Dose Administered'] = data_state['First Dose Administered'].sum()"
   ]
  },
  {
   "cell_type": "code",
   "execution_count": 42,
   "metadata": {
    "execution": {
     "iopub.execute_input": "2021-09-21T14:25:00.686286Z",
     "iopub.status.busy": "2021-09-21T14:25:00.686286Z",
     "iopub.status.idle": "2021-09-21T14:25:00.701970Z",
     "shell.execute_reply": "2021-09-21T14:25:00.701970Z"
    }
   },
   "outputs": [
    {
     "data": {
      "text/html": [
       "<div>\n",
       "<style scoped>\n",
       "    .dataframe tbody tr th:only-of-type {\n",
       "        vertical-align: middle;\n",
       "    }\n",
       "\n",
       "    .dataframe tbody tr th {\n",
       "        vertical-align: top;\n",
       "    }\n",
       "\n",
       "    .dataframe thead th {\n",
       "        text-align: right;\n",
       "    }\n",
       "</style>\n",
       "<table border=\"1\" class=\"dataframe\">\n",
       "  <thead>\n",
       "    <tr style=\"text-align: right;\">\n",
       "      <th></th>\n",
       "      <th>Overall</th>\n",
       "      <th>TOT_P</th>\n",
       "      <th>First Dose Administered</th>\n",
       "    </tr>\n",
       "  </thead>\n",
       "  <tbody>\n",
       "    <tr>\n",
       "      <th>0</th>\n",
       "      <td>India</td>\n",
       "      <td>1209097759</td>\n",
       "      <td>403542235</td>\n",
       "    </tr>\n",
       "  </tbody>\n",
       "</table>\n",
       "</div>"
      ],
      "text/plain": [
       "  Overall       TOT_P  First Dose Administered\n",
       "0   India  1209097759                403542235"
      ]
     },
     "execution_count": 1,
     "metadata": {},
     "output_type": "execute_result"
    }
   ],
   "source": [
    "data_overall"
   ]
  },
  {
   "cell_type": "code",
   "execution_count": 43,
   "metadata": {
    "execution": {
     "iopub.execute_input": "2021-09-21T14:25:00.717593Z",
     "iopub.status.busy": "2021-09-21T14:25:00.717593Z",
     "iopub.status.idle": "2021-09-21T14:25:00.737577Z",
     "shell.execute_reply": "2021-09-21T14:25:00.737577Z"
    }
   },
   "outputs": [],
   "source": [
    "data_overall['Second Dose Administered'] = data_state['Second Dose Administered'].sum()"
   ]
  },
  {
   "cell_type": "code",
   "execution_count": 44,
   "metadata": {
    "execution": {
     "iopub.execute_input": "2021-09-21T14:25:00.774268Z",
     "iopub.status.busy": "2021-09-21T14:25:00.771172Z",
     "iopub.status.idle": "2021-09-21T14:25:00.807416Z",
     "shell.execute_reply": "2021-09-21T14:25:00.804863Z"
    }
   },
   "outputs": [],
   "source": [
    "data_overall['vaccinateddose1ratio'] = data_overall['First Dose Administered'].astype(float)/data_overall['TOT_P'].astype(float)\n",
    "data_overall['vaccinateddose2ratio'] = data_overall['Second Dose Administered'].astype(float)/data_overall['TOT_P'].astype(float)"
   ]
  },
  {
   "cell_type": "code",
   "execution_count": 45,
   "metadata": {
    "execution": {
     "iopub.execute_input": "2021-09-21T14:25:00.823690Z",
     "iopub.status.busy": "2021-09-21T14:25:00.823171Z",
     "iopub.status.idle": "2021-09-21T14:25:00.828085Z",
     "shell.execute_reply": "2021-09-21T14:25:00.828085Z"
    }
   },
   "outputs": [],
   "source": [
    "data_overall = data_overall[['Overall','vaccinateddose1ratio','vaccinateddose2ratio']]"
   ]
  },
  {
   "cell_type": "code",
   "execution_count": 46,
   "metadata": {
    "execution": {
     "iopub.execute_input": "2021-09-21T14:25:00.843759Z",
     "iopub.status.busy": "2021-09-21T14:25:00.843759Z",
     "iopub.status.idle": "2021-09-21T14:25:00.859432Z",
     "shell.execute_reply": "2021-09-21T14:25:00.859432Z"
    }
   },
   "outputs": [],
   "source": [
    "data_state = data_state[['Stateid','vaccinateddose1ratio','vaccinateddose2ratio']]"
   ]
  },
  {
   "cell_type": "code",
   "execution_count": 47,
   "metadata": {
    "execution": {
     "iopub.execute_input": "2021-09-21T14:25:00.875007Z",
     "iopub.status.busy": "2021-09-21T14:25:00.875007Z",
     "iopub.status.idle": "2021-09-21T14:25:00.902570Z",
     "shell.execute_reply": "2021-09-21T14:25:00.902570Z"
    }
   },
   "outputs": [],
   "source": [
    "data_state.sort_values(\"vaccinateddose1ratio\",axis=0,ascending = True,inplace = True ,kind = 'quicksort',na_position = 'last' )"
   ]
  },
  {
   "cell_type": "code",
   "execution_count": 48,
   "metadata": {
    "execution": {
     "iopub.execute_input": "2021-09-21T14:25:00.939870Z",
     "iopub.status.busy": "2021-09-21T14:25:00.921341Z",
     "iopub.status.idle": "2021-09-21T14:25:00.973549Z",
     "shell.execute_reply": "2021-09-21T14:25:00.973549Z"
    }
   },
   "outputs": [
    {
     "name": "stdout",
     "output_type": "stream",
     "text": [
      "                    districtid  vaccinateddose1ratio  vaccinateddose2ratio\n",
      "367                MN_Senapati              0.052756              0.010348\n",
      "504            TN_Kancheepuram              0.076711              0.011720\n",
      "445               PB_Ferozepur              0.089363              0.022857\n",
      "30             AR_Kurung Kumey              0.093119              0.030920\n",
      "526                 TN_Vellore              0.102855              0.030738\n",
      "..                         ...                   ...                   ...\n",
      "123  DN_Dadra and Nagar Haveli              1.017314              0.120756\n",
      "158                HR_Gurugram              1.019913              0.341819\n",
      "124                   DN_Daman              1.102656              0.184514\n",
      "397           DL_Central Delhi              1.405676              0.528620\n",
      "399               DL_New Delhi              4.563646              2.254282\n",
      "\n",
      "[636 rows x 3 columns]\n",
      "   Stateid  vaccinateddose1ratio  vaccinateddose2ratio\n",
      "33      UP              0.233790              0.044449\n",
      "4       BR              0.241763              0.046679\n",
      "20      ML              0.259670              0.071237\n",
      "35      WB              0.262969              0.099726\n",
      "13      JH              0.266700              0.064718\n",
      "6       CT              0.267493              0.083029\n",
      "31      TN              0.275305              0.062418\n",
      "26      PB              0.285980              0.085877\n",
      "19      MH              0.318409              0.112100\n",
      "24      NL              0.323163              0.084882\n",
      "3       AS              0.328716              0.071828\n",
      "30      TG              0.337750              0.116101\n",
      "21      MN              0.341807              0.079118\n",
      "25      OR              0.357592              0.106611\n",
      "1       AP              0.374921              0.131315\n",
      "2       AR              0.401461              0.116500\n",
      "12      HR              0.401723              0.122405\n",
      "32      TR              0.403217              0.146404\n",
      "7       DL              0.411075              0.162971\n",
      "28      RJ              0.416228              0.131054\n",
      "22      MP              0.432309              0.083407\n",
      "15      KA              0.436406              0.128281\n",
      "10      GJ              0.449707              0.142605\n",
      "14      JK              0.452125              0.128265\n",
      "27      PY              0.493831              0.125995\n",
      "16      KL              0.517322              0.199300\n",
      "34      UT              0.544884              0.170772\n",
      "23      MZ              0.601627              0.198405\n",
      "0       AN              0.611457              0.255628\n",
      "17      LA              0.691005              0.265505\n",
      "5       CH              0.695039              0.231514\n",
      "11      HP              0.721206              0.220507\n",
      "9       GA              0.762962              0.226190\n",
      "18      LD              0.801545              0.277248\n",
      "29      SK              0.820255              0.258840\n",
      "8       DN              1.019463              0.154051\n",
      "  Overall  vaccinateddose1ratio  vaccinateddose2ratio\n",
      "0   India              0.333755              0.095292\n"
     ]
    }
   ],
   "source": [
    "print(data_district)\n",
    "print(data_state)\n",
    "print(data_overall)"
   ]
  },
  {
   "cell_type": "code",
   "execution_count": 49,
   "metadata": {
    "execution": {
     "iopub.execute_input": "2021-09-21T14:25:00.986692Z",
     "iopub.status.busy": "2021-09-21T14:25:00.986692Z",
     "iopub.status.idle": "2021-09-21T14:25:01.040485Z",
     "shell.execute_reply": "2021-09-21T14:25:01.040485Z"
    }
   },
   "outputs": [],
   "source": [
    "data_district.to_csv('./Output_Files/Q8/district-vaccinated-dose-ratio.csv',index=False)\n",
    "data_state.to_csv('./Output_Files/Q8/state-vaccinated-dose-ratio.csv',index=False)\n",
    "data_overall.to_csv('./Output_Files/Q8/overall-vaccinated-dose-ratio.csv',index=False)"
   ]
  }
 ],
 "metadata": {
  "kernelspec": {
   "display_name": "Python 3",
   "language": "python",
   "name": "python3"
  },
  "language_info": {
   "codemirror_mode": {
    "name": "ipython",
    "version": 3
   },
   "file_extension": ".py",
   "mimetype": "text/x-python",
   "name": "python",
   "nbconvert_exporter": "python",
   "pygments_lexer": "ipython3",
   "version": "3.8.8"
  }
 },
 "nbformat": 4,
 "nbformat_minor": 2
}
