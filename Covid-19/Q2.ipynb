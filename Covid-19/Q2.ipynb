{
 "cells": [
  {
   "cell_type": "markdown",
   "id": "81bfe4ee",
   "metadata": {},
   "source": [
    "# 2.Construct an undirected graph of districts out of this new file(generated in Question 1). In the graph, every district is a node. A district node is connected by an edge to every adjacent district of it, and vice versa."
   ]
  },
  {
   "cell_type": "code",
   "execution_count": 1,
   "id": "c5760df8",
   "metadata": {
    "execution": {
     "iopub.execute_input": "2021-09-21T14:22:35.996213Z",
     "iopub.status.busy": "2021-09-21T14:22:35.995002Z",
     "iopub.status.idle": "2021-09-21T14:22:36.862354Z",
     "shell.execute_reply": "2021-09-21T14:22:36.862354Z"
    }
   },
   "outputs": [],
   "source": [
    "import json\n",
    "import pandas as pd\n",
    "import numpy as np"
   ]
  },
  {
   "cell_type": "code",
   "execution_count": 2,
   "id": "da5d3317",
   "metadata": {
    "execution": {
     "iopub.execute_input": "2021-09-21T14:22:36.873433Z",
     "iopub.status.busy": "2021-09-21T14:22:36.872435Z",
     "iopub.status.idle": "2021-09-21T14:22:36.910314Z",
     "shell.execute_reply": "2021-09-21T14:22:36.909261Z"
    }
   },
   "outputs": [],
   "source": [
    "with open('./Output_Files/Q1/neighbor-districts-modified.json') as read_it:\n",
    "     json_data = json.load(read_it)"
   ]
  },
  {
   "cell_type": "code",
   "execution_count": 3,
   "id": "5937fe06",
   "metadata": {
    "execution": {
     "iopub.execute_input": "2021-09-21T14:22:36.990443Z",
     "iopub.status.busy": "2021-09-21T14:22:36.973400Z",
     "iopub.status.idle": "2021-09-21T14:22:37.161845Z",
     "shell.execute_reply": "2021-09-21T14:22:37.160851Z"
    }
   },
   "outputs": [],
   "source": [
    "edge_graph=[]\n",
    "for i in json_data:\n",
    "    for j in json_data[i]:\n",
    "        element=[]\n",
    "        element.append(i)\n",
    "        element.append(j)\n",
    "        if [j,i] not in edge_graph:\n",
    "            edge_graph.append(element)\n"
   ]
  },
  {
   "cell_type": "code",
   "execution_count": 4,
   "id": "e83addaa",
   "metadata": {
    "execution": {
     "iopub.execute_input": "2021-09-21T14:22:37.179345Z",
     "iopub.status.busy": "2021-09-21T14:22:37.175352Z",
     "iopub.status.idle": "2021-09-21T14:22:37.218567Z",
     "shell.execute_reply": "2021-09-21T14:22:37.217557Z"
    }
   },
   "outputs": [
    {
     "data": {
      "text/html": [
       "<div>\n",
       "<style scoped>\n",
       "    .dataframe tbody tr th:only-of-type {\n",
       "        vertical-align: middle;\n",
       "    }\n",
       "\n",
       "    .dataframe tbody tr th {\n",
       "        vertical-align: top;\n",
       "    }\n",
       "\n",
       "    .dataframe thead th {\n",
       "        text-align: right;\n",
       "    }\n",
       "</style>\n",
       "<table border=\"1\" class=\"dataframe\">\n",
       "  <thead>\n",
       "    <tr style=\"text-align: right;\">\n",
       "      <th></th>\n",
       "      <th>Node1</th>\n",
       "      <th>Node2</th>\n",
       "    </tr>\n",
       "  </thead>\n",
       "  <tbody>\n",
       "    <tr>\n",
       "      <th>0</th>\n",
       "      <td>AP_Anantapur</td>\n",
       "      <td>AP_Chittoor</td>\n",
       "    </tr>\n",
       "    <tr>\n",
       "      <th>1</th>\n",
       "      <td>AP_Anantapur</td>\n",
       "      <td>AP_Kurnool</td>\n",
       "    </tr>\n",
       "    <tr>\n",
       "      <th>2</th>\n",
       "      <td>AP_Anantapur</td>\n",
       "      <td>AP_Y.S.R. Kadapa</td>\n",
       "    </tr>\n",
       "    <tr>\n",
       "      <th>3</th>\n",
       "      <td>AP_Anantapur</td>\n",
       "      <td>KA_Ballari</td>\n",
       "    </tr>\n",
       "    <tr>\n",
       "      <th>4</th>\n",
       "      <td>AP_Anantapur</td>\n",
       "      <td>KA_Chikkaballapura</td>\n",
       "    </tr>\n",
       "    <tr>\n",
       "      <th>...</th>\n",
       "      <td>...</td>\n",
       "      <td>...</td>\n",
       "    </tr>\n",
       "    <tr>\n",
       "      <th>1913</th>\n",
       "      <td>WB_North 24 Parganas</td>\n",
       "      <td>WB_South 24 Parganas</td>\n",
       "    </tr>\n",
       "    <tr>\n",
       "      <th>1914</th>\n",
       "      <td>WB_Paschim Bardhaman</td>\n",
       "      <td>WB_Purba Bardhaman</td>\n",
       "    </tr>\n",
       "    <tr>\n",
       "      <th>1915</th>\n",
       "      <td>WB_Paschim Bardhaman</td>\n",
       "      <td>WB_Purulia</td>\n",
       "    </tr>\n",
       "    <tr>\n",
       "      <th>1916</th>\n",
       "      <td>WB_Paschim Medinipur</td>\n",
       "      <td>WB_Purba Medinipur</td>\n",
       "    </tr>\n",
       "    <tr>\n",
       "      <th>1917</th>\n",
       "      <td>WB_Purba Medinipur</td>\n",
       "      <td>WB_South 24 Parganas</td>\n",
       "    </tr>\n",
       "  </tbody>\n",
       "</table>\n",
       "<p>1918 rows × 2 columns</p>\n",
       "</div>"
      ],
      "text/plain": [
       "                     Node1                 Node2\n",
       "0             AP_Anantapur           AP_Chittoor\n",
       "1             AP_Anantapur            AP_Kurnool\n",
       "2             AP_Anantapur      AP_Y.S.R. Kadapa\n",
       "3             AP_Anantapur            KA_Ballari\n",
       "4             AP_Anantapur    KA_Chikkaballapura\n",
       "...                    ...                   ...\n",
       "1913  WB_North 24 Parganas  WB_South 24 Parganas\n",
       "1914  WB_Paschim Bardhaman    WB_Purba Bardhaman\n",
       "1915  WB_Paschim Bardhaman            WB_Purulia\n",
       "1916  WB_Paschim Medinipur    WB_Purba Medinipur\n",
       "1917    WB_Purba Medinipur  WB_South 24 Parganas\n",
       "\n",
       "[1918 rows x 2 columns]"
      ]
     },
     "execution_count": 1,
     "metadata": {},
     "output_type": "execute_result"
    }
   ],
   "source": [
    "df=pd.DataFrame(edge_graph,columns=['Node1','Node2'])\n",
    "df"
   ]
  },
  {
   "cell_type": "code",
   "execution_count": 5,
   "id": "8786ebe3",
   "metadata": {
    "execution": {
     "iopub.execute_input": "2021-09-21T14:22:37.225803Z",
     "iopub.status.busy": "2021-09-21T14:22:37.224804Z",
     "iopub.status.idle": "2021-09-21T14:22:37.257418Z",
     "shell.execute_reply": "2021-09-21T14:22:37.257418Z"
    }
   },
   "outputs": [],
   "source": [
    "df.to_csv(\"./Output_Files/Q2/edge-graph.csv\",index=False)"
   ]
  }
 ],
 "metadata": {
  "kernelspec": {
   "display_name": "Python 3",
   "language": "python",
   "name": "python3"
  },
  "language_info": {
   "codemirror_mode": {
    "name": "ipython",
    "version": 3
   },
   "file_extension": ".py",
   "mimetype": "text/x-python",
   "name": "python",
   "nbconvert_exporter": "python",
   "pygments_lexer": "ipython3",
   "version": "3.8.8"
  }
 },
 "nbformat": 4,
 "nbformat_minor": 5
}
