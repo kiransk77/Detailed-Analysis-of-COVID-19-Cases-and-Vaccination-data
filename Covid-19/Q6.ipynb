{
 "cells": [
  {
   "cell_type": "markdown",
   "metadata": {},
   "source": [
    "# 6.For each state, district and overall, find the following ratios:\n",
    "    Total number of females vaccinated (either 1 or 2 doses) to total number of males vaccinated (same).\n",
    "    Find the ratio of population of females to males. (If a district is absent in 2011 census, drop it from analysis.) \n",
    "    Now find the ratio of the two ratios, i.e., vaccination ratio to population ratio"
   ]
  },
  {
   "cell_type": "code",
   "execution_count": 1,
   "metadata": {
    "execution": {
     "iopub.execute_input": "2021-09-21T14:24:15.548666Z",
     "iopub.status.busy": "2021-09-21T14:24:15.547596Z",
     "iopub.status.idle": "2021-09-21T14:24:16.483850Z",
     "shell.execute_reply": "2021-09-21T14:24:16.483850Z"
    }
   },
   "outputs": [],
   "source": [
    "import pandas as pd\n",
    "from datetime import datetime\n",
    "from datetime import timedelta \n",
    "import os"
   ]
  },
  {
   "cell_type": "code",
   "execution_count": 2,
   "metadata": {
    "execution": {
     "iopub.execute_input": "2021-09-21T14:24:16.494915Z",
     "iopub.status.busy": "2021-09-21T14:24:16.493869Z",
     "iopub.status.idle": "2021-09-21T14:24:16.515134Z",
     "shell.execute_reply": "2021-09-21T14:24:16.515134Z"
    }
   },
   "outputs": [],
   "source": [
    "distkey = 'cowin_vaccine_data_districtwise.csv'"
   ]
  },
  {
   "cell_type": "code",
   "execution_count": 3,
   "metadata": {
    "execution": {
     "iopub.execute_input": "2021-09-21T14:24:16.527108Z",
     "iopub.status.busy": "2021-09-21T14:24:16.525171Z",
     "iopub.status.idle": "2021-09-21T14:24:20.524207Z",
     "shell.execute_reply": "2021-09-21T14:24:20.522629Z"
    }
   },
   "outputs": [],
   "source": [
    "census_2011 =\"Census2011data.xlsx\"\n",
    "df_census=pd.read_excel(census_2011,usecols= 'A,G,H,I,L,M')"
   ]
  },
  {
   "cell_type": "code",
   "execution_count": 4,
   "metadata": {
    "execution": {
     "iopub.execute_input": "2021-09-21T14:24:20.531325Z",
     "iopub.status.busy": "2021-09-21T14:24:20.530329Z",
     "iopub.status.idle": "2021-09-21T14:24:20.545251Z",
     "shell.execute_reply": "2021-09-21T14:24:20.544254Z"
    }
   },
   "outputs": [],
   "source": [
    "Name_changes={\"JAMMU & KASHMIR\": \"Jammu and Kashmir\",\n",
    "               \"ANDAMAN & NICOBAR ISLANDS\": \"Andaman and Nicobar Islands\",\n",
    "               \"DADRA & NAGAR HAVELI\": \"Dadra and Nagar Haveli and Daman and Diu\",\n",
    "               \"DAMAN & DIU\": \"Dadra and Nagar Haveli and Daman and Diu\",\"Mumbai Suburban\":\"Mumbai\"}\n",
    "state_id_change={26:25}"
   ]
  },
  {
   "cell_type": "code",
   "execution_count": 5,
   "metadata": {
    "execution": {
     "iopub.execute_input": "2021-09-21T14:24:20.558039Z",
     "iopub.status.busy": "2021-09-21T14:24:20.558039Z",
     "iopub.status.idle": "2021-09-21T14:24:20.583149Z",
     "shell.execute_reply": "2021-09-21T14:24:20.583149Z"
    }
   },
   "outputs": [],
   "source": [
    "df_census.replace({'Name': Name_changes,\"State\":state_id_change},inplace= True)"
   ]
  },
  {
   "cell_type": "code",
   "execution_count": 6,
   "metadata": {
    "execution": {
     "iopub.execute_input": "2021-09-21T14:24:20.610048Z",
     "iopub.status.busy": "2021-09-21T14:24:20.609045Z",
     "iopub.status.idle": "2021-09-21T14:24:20.660371Z",
     "shell.execute_reply": "2021-09-21T14:24:20.659374Z"
    }
   },
   "outputs": [
    {
     "data": {
      "text/html": [
       "<div>\n",
       "<style scoped>\n",
       "    .dataframe tbody tr th:only-of-type {\n",
       "        vertical-align: middle;\n",
       "    }\n",
       "\n",
       "    .dataframe tbody tr th {\n",
       "        vertical-align: top;\n",
       "    }\n",
       "\n",
       "    .dataframe thead th {\n",
       "        text-align: right;\n",
       "    }\n",
       "</style>\n",
       "<table border=\"1\" class=\"dataframe\">\n",
       "  <thead>\n",
       "    <tr style=\"text-align: right;\">\n",
       "      <th></th>\n",
       "      <th>State</th>\n",
       "      <th>Level</th>\n",
       "      <th>Name</th>\n",
       "      <th>TRU</th>\n",
       "      <th>TOT_M</th>\n",
       "      <th>TOT_F</th>\n",
       "    </tr>\n",
       "  </thead>\n",
       "  <tbody>\n",
       "    <tr>\n",
       "      <th>0</th>\n",
       "      <td>0</td>\n",
       "      <td>India</td>\n",
       "      <td>India</td>\n",
       "      <td>Total</td>\n",
       "      <td>623270258</td>\n",
       "      <td>587584719</td>\n",
       "    </tr>\n",
       "    <tr>\n",
       "      <th>1</th>\n",
       "      <td>0</td>\n",
       "      <td>India</td>\n",
       "      <td>India</td>\n",
       "      <td>Rural</td>\n",
       "      <td>427781058</td>\n",
       "      <td>405967794</td>\n",
       "    </tr>\n",
       "    <tr>\n",
       "      <th>2</th>\n",
       "      <td>0</td>\n",
       "      <td>India</td>\n",
       "      <td>India</td>\n",
       "      <td>Urban</td>\n",
       "      <td>195489200</td>\n",
       "      <td>181616925</td>\n",
       "    </tr>\n",
       "    <tr>\n",
       "      <th>3</th>\n",
       "      <td>1</td>\n",
       "      <td>STATE</td>\n",
       "      <td>Jammu and Kashmir</td>\n",
       "      <td>Total</td>\n",
       "      <td>6640662</td>\n",
       "      <td>5900640</td>\n",
       "    </tr>\n",
       "    <tr>\n",
       "      <th>4</th>\n",
       "      <td>1</td>\n",
       "      <td>STATE</td>\n",
       "      <td>Jammu and Kashmir</td>\n",
       "      <td>Rural</td>\n",
       "      <td>4774477</td>\n",
       "      <td>4333583</td>\n",
       "    </tr>\n",
       "    <tr>\n",
       "      <th>...</th>\n",
       "      <td>...</td>\n",
       "      <td>...</td>\n",
       "      <td>...</td>\n",
       "      <td>...</td>\n",
       "      <td>...</td>\n",
       "      <td>...</td>\n",
       "    </tr>\n",
       "    <tr>\n",
       "      <th>2023</th>\n",
       "      <td>35</td>\n",
       "      <td>DISTRICT</td>\n",
       "      <td>North  &amp; Middle Andaman</td>\n",
       "      <td>Rural</td>\n",
       "      <td>53457</td>\n",
       "      <td>49399</td>\n",
       "    </tr>\n",
       "    <tr>\n",
       "      <th>2024</th>\n",
       "      <td>35</td>\n",
       "      <td>DISTRICT</td>\n",
       "      <td>North  &amp; Middle Andaman</td>\n",
       "      <td>Urban</td>\n",
       "      <td>1404</td>\n",
       "      <td>1337</td>\n",
       "    </tr>\n",
       "    <tr>\n",
       "      <th>2025</th>\n",
       "      <td>35</td>\n",
       "      <td>DISTRICT</td>\n",
       "      <td>South Andaman</td>\n",
       "      <td>Total</td>\n",
       "      <td>127283</td>\n",
       "      <td>110859</td>\n",
       "    </tr>\n",
       "    <tr>\n",
       "      <th>2026</th>\n",
       "      <td>35</td>\n",
       "      <td>DISTRICT</td>\n",
       "      <td>South Andaman</td>\n",
       "      <td>Rural</td>\n",
       "      <td>52103</td>\n",
       "      <td>45292</td>\n",
       "    </tr>\n",
       "    <tr>\n",
       "      <th>2027</th>\n",
       "      <td>35</td>\n",
       "      <td>DISTRICT</td>\n",
       "      <td>South Andaman</td>\n",
       "      <td>Urban</td>\n",
       "      <td>75180</td>\n",
       "      <td>65567</td>\n",
       "    </tr>\n",
       "  </tbody>\n",
       "</table>\n",
       "<p>2028 rows × 6 columns</p>\n",
       "</div>"
      ],
      "text/plain": [
       "      State     Level                     Name    TRU      TOT_M      TOT_F\n",
       "0         0     India                    India  Total  623270258  587584719\n",
       "1         0     India                    India  Rural  427781058  405967794\n",
       "2         0     India                    India  Urban  195489200  181616925\n",
       "3         1     STATE        Jammu and Kashmir  Total    6640662    5900640\n",
       "4         1     STATE        Jammu and Kashmir  Rural    4774477    4333583\n",
       "...     ...       ...                      ...    ...        ...        ...\n",
       "2023     35  DISTRICT  North  & Middle Andaman  Rural      53457      49399\n",
       "2024     35  DISTRICT  North  & Middle Andaman  Urban       1404       1337\n",
       "2025     35  DISTRICT            South Andaman  Total     127283     110859\n",
       "2026     35  DISTRICT            South Andaman  Rural      52103      45292\n",
       "2027     35  DISTRICT            South Andaman  Urban      75180      65567\n",
       "\n",
       "[2028 rows x 6 columns]"
      ]
     },
     "execution_count": 1,
     "metadata": {},
     "output_type": "execute_result"
    }
   ],
   "source": [
    "df_census"
   ]
  },
  {
   "cell_type": "code",
   "execution_count": 7,
   "metadata": {
    "execution": {
     "iopub.execute_input": "2021-09-21T14:24:20.675161Z",
     "iopub.status.busy": "2021-09-21T14:24:20.674134Z",
     "iopub.status.idle": "2021-09-21T14:24:20.704059Z",
     "shell.execute_reply": "2021-09-21T14:24:20.704059Z"
    }
   },
   "outputs": [],
   "source": [
    "df_census=df_census.groupby([\"State\",\"Level\",\"Name\",\"TRU\"], as_index=False).agg({'TOT_M':'sum','TOT_F':'sum'})"
   ]
  },
  {
   "cell_type": "code",
   "execution_count": 8,
   "metadata": {
    "execution": {
     "iopub.execute_input": "2021-09-21T14:24:20.716254Z",
     "iopub.status.busy": "2021-09-21T14:24:20.716254Z",
     "iopub.status.idle": "2021-09-21T14:24:20.746246Z",
     "shell.execute_reply": "2021-09-21T14:24:20.746246Z"
    }
   },
   "outputs": [],
   "source": [
    "df_state = df_census[df_census['Level'] == 'STATE']\n",
    "df_state = df_state.groupby(['Name'])['State'].max().reset_index(name='Stateid') \n",
    "df_state = df_state.rename(columns = {'Name':'State Name'})"
   ]
  },
  {
   "cell_type": "code",
   "execution_count": 9,
   "metadata": {
    "execution": {
     "iopub.execute_input": "2021-09-21T14:24:20.758042Z",
     "iopub.status.busy": "2021-09-21T14:24:20.758042Z",
     "iopub.status.idle": "2021-09-21T14:24:20.785984Z",
     "shell.execute_reply": "2021-09-21T14:24:20.785984Z"
    }
   },
   "outputs": [],
   "source": [
    "data = pd.merge(df_census,df_state,how='inner',left_on='State',right_on = ['Stateid'])"
   ]
  },
  {
   "cell_type": "code",
   "execution_count": 10,
   "metadata": {
    "execution": {
     "iopub.execute_input": "2021-09-21T14:24:20.801003Z",
     "iopub.status.busy": "2021-09-21T14:24:20.799052Z",
     "iopub.status.idle": "2021-09-21T14:24:20.823716Z",
     "shell.execute_reply": "2021-09-21T14:24:20.823716Z"
    }
   },
   "outputs": [],
   "source": [
    "data = data[data['Level'] == 'DISTRICT']"
   ]
  },
  {
   "cell_type": "code",
   "execution_count": 11,
   "metadata": {
    "execution": {
     "iopub.execute_input": "2021-09-21T14:24:20.867292Z",
     "iopub.status.busy": "2021-09-21T14:24:20.865888Z",
     "iopub.status.idle": "2021-09-21T14:24:20.889906Z",
     "shell.execute_reply": "2021-09-21T14:24:20.889906Z"
    }
   },
   "outputs": [
    {
     "data": {
      "text/html": [
       "<div>\n",
       "<style scoped>\n",
       "    .dataframe tbody tr th:only-of-type {\n",
       "        vertical-align: middle;\n",
       "    }\n",
       "\n",
       "    .dataframe tbody tr th {\n",
       "        vertical-align: top;\n",
       "    }\n",
       "\n",
       "    .dataframe thead th {\n",
       "        text-align: right;\n",
       "    }\n",
       "</style>\n",
       "<table border=\"1\" class=\"dataframe\">\n",
       "  <thead>\n",
       "    <tr style=\"text-align: right;\">\n",
       "      <th></th>\n",
       "      <th>State</th>\n",
       "      <th>Level</th>\n",
       "      <th>Name</th>\n",
       "      <th>TRU</th>\n",
       "      <th>TOT_M</th>\n",
       "      <th>TOT_F</th>\n",
       "      <th>State Name</th>\n",
       "      <th>Stateid</th>\n",
       "    </tr>\n",
       "  </thead>\n",
       "  <tbody>\n",
       "    <tr>\n",
       "      <th>0</th>\n",
       "      <td>1</td>\n",
       "      <td>DISTRICT</td>\n",
       "      <td>Anantnag</td>\n",
       "      <td>Rural</td>\n",
       "      <td>411012</td>\n",
       "      <td>384793</td>\n",
       "      <td>Jammu and Kashmir</td>\n",
       "      <td>1</td>\n",
       "    </tr>\n",
       "    <tr>\n",
       "      <th>1</th>\n",
       "      <td>1</td>\n",
       "      <td>DISTRICT</td>\n",
       "      <td>Anantnag</td>\n",
       "      <td>Total</td>\n",
       "      <td>559767</td>\n",
       "      <td>518925</td>\n",
       "      <td>Jammu and Kashmir</td>\n",
       "      <td>1</td>\n",
       "    </tr>\n",
       "    <tr>\n",
       "      <th>2</th>\n",
       "      <td>1</td>\n",
       "      <td>DISTRICT</td>\n",
       "      <td>Anantnag</td>\n",
       "      <td>Urban</td>\n",
       "      <td>148755</td>\n",
       "      <td>134132</td>\n",
       "      <td>Jammu and Kashmir</td>\n",
       "      <td>1</td>\n",
       "    </tr>\n",
       "    <tr>\n",
       "      <th>3</th>\n",
       "      <td>1</td>\n",
       "      <td>DISTRICT</td>\n",
       "      <td>Badgam</td>\n",
       "      <td>Rural</td>\n",
       "      <td>343385</td>\n",
       "      <td>312448</td>\n",
       "      <td>Jammu and Kashmir</td>\n",
       "      <td>1</td>\n",
       "    </tr>\n",
       "    <tr>\n",
       "      <th>4</th>\n",
       "      <td>1</td>\n",
       "      <td>DISTRICT</td>\n",
       "      <td>Badgam</td>\n",
       "      <td>Total</td>\n",
       "      <td>398041</td>\n",
       "      <td>355704</td>\n",
       "      <td>Jammu and Kashmir</td>\n",
       "      <td>1</td>\n",
       "    </tr>\n",
       "    <tr>\n",
       "      <th>...</th>\n",
       "      <td>...</td>\n",
       "      <td>...</td>\n",
       "      <td>...</td>\n",
       "      <td>...</td>\n",
       "      <td>...</td>\n",
       "      <td>...</td>\n",
       "      <td>...</td>\n",
       "      <td>...</td>\n",
       "    </tr>\n",
       "    <tr>\n",
       "      <th>2011</th>\n",
       "      <td>35</td>\n",
       "      <td>DISTRICT</td>\n",
       "      <td>North  &amp; Middle Andaman</td>\n",
       "      <td>Total</td>\n",
       "      <td>54861</td>\n",
       "      <td>50736</td>\n",
       "      <td>Andaman and Nicobar Islands</td>\n",
       "      <td>35</td>\n",
       "    </tr>\n",
       "    <tr>\n",
       "      <th>2012</th>\n",
       "      <td>35</td>\n",
       "      <td>DISTRICT</td>\n",
       "      <td>North  &amp; Middle Andaman</td>\n",
       "      <td>Urban</td>\n",
       "      <td>1404</td>\n",
       "      <td>1337</td>\n",
       "      <td>Andaman and Nicobar Islands</td>\n",
       "      <td>35</td>\n",
       "    </tr>\n",
       "    <tr>\n",
       "      <th>2013</th>\n",
       "      <td>35</td>\n",
       "      <td>DISTRICT</td>\n",
       "      <td>South Andaman</td>\n",
       "      <td>Rural</td>\n",
       "      <td>52103</td>\n",
       "      <td>45292</td>\n",
       "      <td>Andaman and Nicobar Islands</td>\n",
       "      <td>35</td>\n",
       "    </tr>\n",
       "    <tr>\n",
       "      <th>2014</th>\n",
       "      <td>35</td>\n",
       "      <td>DISTRICT</td>\n",
       "      <td>South Andaman</td>\n",
       "      <td>Total</td>\n",
       "      <td>127283</td>\n",
       "      <td>110859</td>\n",
       "      <td>Andaman and Nicobar Islands</td>\n",
       "      <td>35</td>\n",
       "    </tr>\n",
       "    <tr>\n",
       "      <th>2015</th>\n",
       "      <td>35</td>\n",
       "      <td>DISTRICT</td>\n",
       "      <td>South Andaman</td>\n",
       "      <td>Urban</td>\n",
       "      <td>75180</td>\n",
       "      <td>65567</td>\n",
       "      <td>Andaman and Nicobar Islands</td>\n",
       "      <td>35</td>\n",
       "    </tr>\n",
       "  </tbody>\n",
       "</table>\n",
       "<p>1917 rows × 8 columns</p>\n",
       "</div>"
      ],
      "text/plain": [
       "      State     Level                     Name    TRU   TOT_M   TOT_F  \\\n",
       "0         1  DISTRICT                 Anantnag  Rural  411012  384793   \n",
       "1         1  DISTRICT                 Anantnag  Total  559767  518925   \n",
       "2         1  DISTRICT                 Anantnag  Urban  148755  134132   \n",
       "3         1  DISTRICT                   Badgam  Rural  343385  312448   \n",
       "4         1  DISTRICT                   Badgam  Total  398041  355704   \n",
       "...     ...       ...                      ...    ...     ...     ...   \n",
       "2011     35  DISTRICT  North  & Middle Andaman  Total   54861   50736   \n",
       "2012     35  DISTRICT  North  & Middle Andaman  Urban    1404    1337   \n",
       "2013     35  DISTRICT            South Andaman  Rural   52103   45292   \n",
       "2014     35  DISTRICT            South Andaman  Total  127283  110859   \n",
       "2015     35  DISTRICT            South Andaman  Urban   75180   65567   \n",
       "\n",
       "                       State Name  Stateid  \n",
       "0               Jammu and Kashmir        1  \n",
       "1               Jammu and Kashmir        1  \n",
       "2               Jammu and Kashmir        1  \n",
       "3               Jammu and Kashmir        1  \n",
       "4               Jammu and Kashmir        1  \n",
       "...                           ...      ...  \n",
       "2011  Andaman and Nicobar Islands       35  \n",
       "2012  Andaman and Nicobar Islands       35  \n",
       "2013  Andaman and Nicobar Islands       35  \n",
       "2014  Andaman and Nicobar Islands       35  \n",
       "2015  Andaman and Nicobar Islands       35  \n",
       "\n",
       "[1917 rows x 8 columns]"
      ]
     },
     "execution_count": 1,
     "metadata": {},
     "output_type": "execute_result"
    }
   ],
   "source": [
    "data"
   ]
  },
  {
   "cell_type": "code",
   "execution_count": 12,
   "metadata": {
    "execution": {
     "iopub.execute_input": "2021-09-21T14:24:20.904426Z",
     "iopub.status.busy": "2021-09-21T14:24:20.902294Z",
     "iopub.status.idle": "2021-09-21T14:24:20.930520Z",
     "shell.execute_reply": "2021-09-21T14:24:20.930520Z"
    }
   },
   "outputs": [],
   "source": [
    "data = data[['State Name','Name','TRU','TOT_M','TOT_F']]"
   ]
  },
  {
   "cell_type": "code",
   "execution_count": 13,
   "metadata": {
    "execution": {
     "iopub.execute_input": "2021-09-21T14:24:20.962035Z",
     "iopub.status.busy": "2021-09-21T14:24:20.961000Z",
     "iopub.status.idle": "2021-09-21T14:24:20.983833Z",
     "shell.execute_reply": "2021-09-21T14:24:20.983833Z"
    }
   },
   "outputs": [],
   "source": [
    "rename_dist = {'Allahabad ':'Prayagraj','Ahmadabad':'Ahmedabad', 'East District':'East Sikkim',\n",
    "        'North  District': 'North Sikkim', 'South District':'South Sikkim','West District':'West Sikkim','Garhwal':'Pauri Garhwal',\n",
    "         'Gulbarga':'Kalaburagi','Ahmadnagar':'Ahmednagar','Almora\\n':'Almora','Amritsar ':'Amritsar',\n",
    "       'Anand  ': 'Anand','Anugul  ':'Angul','Ariyalur  ':'Ariyalur','Badgam':'Budgam','Bagalkot ':'Bagalkote',\n",
    "        'Baleshwar':'Balasore','Banas Kantha':'Banaskantha','Bandipore':'Bandipora','Bangalore Rural':'Bengaluru Rural',\n",
    "        'Bangalore':'Bengaluru Urban','Bijapur':'Vijayapura',\n",
    "        'Bankura ':'Bankura','Bara Banki':'Barabanki','Baramula':'Baramulla',\"Barddhaman \":\"Barddhaman\",'Barwani ':'Barwani','Baudh':'Boudh',\n",
    "        'Belgaum':'Belagavi','Bellary':'Ballari', 'Bid':'Beed','Bulandshahr ':'Bulandshahr','Buldana':'Buldhana',\n",
    "        'Central':'Central Delhi','Chamarajanagar':'Chamarajanagara','Chikmagalur':'Chikkamagaluru',\n",
    "         'Chittaurgarh':'Chittorgarh', 'Dadra & Nagar Haveli':'Dadra and Nagar Haveli', 'Darjiling ':'Darjeeling',\n",
    "         'Debagarh':'Deogarh', 'Dhamtari ':'Dhamtari', 'Dhaulpur':'Dholpur', 'Dimapur ':'Dimapur', 'Dindori ':'Dindori',\n",
    "        'Dohad  ':'Dahod', 'East':'East Delhi', 'Faizabad':'Ayodhya', 'Firozpur':'Ferozepur', 'Ganganagar ':'Ganganagar',\n",
    "         'Garhwa ':'Garhwa', 'Gondiya':'Gondia', 'Gurgaon':'Gurugram', 'Haora ':'Howrah', 'Harda ':'Harda',\n",
    "         'Hardwar':'Haridwar', 'Hugli ':'Hooghly', 'Idukki ':'Idukki','Jagatsinghapur ':'Jagatsinghpur',\n",
    "         'Jaintia Hills':'West Jaintia Hills', 'Jajapur  ':'Jajpur', 'Jalaun ':'Jalaun', 'Jalor':'Jalore',\n",
    "         'Jalpaiguri ':'Jalpaiguri', 'Janjgir - Champa':'Janjgir Champa', 'Jashpur ':'Jashpur', 'Jehanabad ':'Jehanabad',\n",
    "        'Jhunjhunun':'Jhunjhunu', 'Jyotiba Phule Nagar':'Amroha', 'Kachchh':'Kutch', 'Kaimur (Bhabua)':'Kaimur',\n",
    "         'Kanniyakumari':'Kanyakumari', 'Kanshiram Nagar':'Kasganj', 'Kapurthala ':'Kapurthala', 'Karur ':'Karur',\n",
    "         'Katni ':'Katni', 'Kendrapara ': 'Kendrapara', 'Khandwa (East Nimar)':'Khandwa','Khargone (West Nimar)':'Khargone',\n",
    "         'Kheri':'Lakhimpur Kheri', 'Khordha ':'Khordha', 'Koch Bihar ':'Cooch Behar', 'Kodarma':'Koderma', 'Korba ':'Korba',\n",
    "         'Lahul & Spiti':'Lahaul and Spiti', 'Leh(Ladakh)':'Leh', 'Mahamaya Nagar':'Hathras', 'Mahbubnagar':'Mahabubnagar',\n",
    "        'Mahesana':'Mehsana', 'Mahrajganj':'Maharajganj', 'Maldah ':'Malda', 'Malkangiri  ':'Malkangiri', 'Mewat ':'Nuh',\n",
    "         'Muktsar':'Sri Muktsar Sahib', 'Murshidabad ':'Murshidabad', 'Mysore':'Mysuru', 'Nabarangapur ':'Nabarangapur',\n",
    "         'Nadia ':'Nadia', 'Nagapattinam  ': 'Nagapattinam','Namakkal   ':'Namakkal', 'Narsimhapur':'Narsinghpur', 'Navsari  ':'Navsari', 'Nayagarh  ':'Nayagarh',\n",
    "         'Neemuch ':'Neemuch', 'North':'North Delhi', 'North  & Middle Andaman':'North and Middle Andaman', 'North East':'North East Delhi',\n",
    "         'North Twenty Four Parganas':'North 24 Parganas', 'North West':'North West Delhi', 'Palwal ':'Palwal',\n",
    "         'Panch Mahals':'Panchmahal','Pashchim Champaran':'West Champaran', 'Pashchimi Singhbhum':'West Singhbhum', 'Patan  ':'Patan',\n",
    "         'Perambalur  ':'Perambalur', 'Porbandar ':'Porbandar', 'Purba Champaran':'East Champaran', 'Purbi Singhbhum': 'East Singhbhum',\n",
    "         'Puruliya':'Purulia', 'Rangareddy':'Ranga Reddy',\"Raigarh\":\"Raigad\",'Rayagada  ':'Rayagada','Sabar Kantha':'Sabarkantha', 'Sahibzada Ajit Singh Nagar':'S.A.S. Nagar', 'Sant Ravidas Nagar (Bhadohi)':'Bhadohi',\n",
    "         'Shahid Bhagat Singh Nagar ':'Shahid Bhagat Singh Nagar', 'Sheopur ':'Sheopur', 'Shimoga':'Shivamogga',\n",
    "         'Shupiyan': 'Shopiyan', 'South':'South Delhi','South Tripura ':'South Tripura', 'South Twenty Four Parganas':'South 24 Parganas', 'South West':'South West Delhi',\n",
    "         'Sri Potti Sriramulu Nellore':'S.P.S. Nellore', 'Tamenglong ':'Tamenglong', 'The Dangs':'Dang',\n",
    "         'The Nilgiris':'Nilgiris', 'Theni  ': 'Theni', 'Tirunelveli ':'Tirunelveli', 'Tumkur':'Tumakuru',\n",
    "         'West':'West Delhi', 'West Tripura ':'West Tripura', 'Y.S.R.':'Y.S.R. Kadapa'}"
   ]
  },
  {
   "cell_type": "code",
   "execution_count": 14,
   "metadata": {
    "execution": {
     "iopub.execute_input": "2021-09-21T14:24:20.998283Z",
     "iopub.status.busy": "2021-09-21T14:24:20.997224Z",
     "iopub.status.idle": "2021-09-21T14:24:21.066928Z",
     "shell.execute_reply": "2021-09-21T14:24:21.065928Z"
    }
   },
   "outputs": [
    {
     "name": "stdout",
     "output_type": "stream",
     "text": [
      "142\n"
     ]
    },
    {
     "name": "stderr",
     "output_type": "stream",
     "text": [
      "C:\\Users\\saiki\\anaconda3\\lib\\site-packages\\pandas\\core\\indexing.py:1676: SettingWithCopyWarning: \n",
      "A value is trying to be set on a copy of a slice from a DataFrame.\n",
      "Try using .loc[row_indexer,col_indexer] = value instead\n",
      "\n",
      "See the caveats in the documentation: https://pandas.pydata.org/pandas-docs/stable/user_guide/indexing.html#returning-a-view-versus-a-copy\n",
      "  self._setitem_single_column(ilocs[0], value, pi)\n"
     ]
    }
   ],
   "source": [
    "print(len(rename_dist))\n",
    "data.replace({'Name':rename_dist},inplace=True)"
   ]
  },
  {
   "cell_type": "code",
   "execution_count": 15,
   "metadata": {
    "execution": {
     "iopub.execute_input": "2021-09-21T14:24:21.081807Z",
     "iopub.status.busy": "2021-09-21T14:24:21.080872Z",
     "iopub.status.idle": "2021-09-21T14:24:21.095873Z",
     "shell.execute_reply": "2021-09-21T14:24:21.095873Z"
    }
   },
   "outputs": [
    {
     "name": "stderr",
     "output_type": "stream",
     "text": [
      "<ipython-input-1-229db36152c6>:1: SettingWithCopyWarning: \n",
      "A value is trying to be set on a copy of a slice from a DataFrame.\n",
      "Try using .loc[row_indexer,col_indexer] = value instead\n",
      "\n",
      "See the caveats in the documentation: https://pandas.pydata.org/pandas-docs/stable/user_guide/indexing.html#returning-a-view-versus-a-copy\n",
      "  data['State Name'] = data['State Name'].str.upper()\n",
      "<ipython-input-1-229db36152c6>:2: SettingWithCopyWarning: \n",
      "A value is trying to be set on a copy of a slice from a DataFrame.\n",
      "Try using .loc[row_indexer,col_indexer] = value instead\n",
      "\n",
      "See the caveats in the documentation: https://pandas.pydata.org/pandas-docs/stable/user_guide/indexing.html#returning-a-view-versus-a-copy\n",
      "  data['Name'] = data['Name'].str.upper()\n"
     ]
    }
   ],
   "source": [
    "data['State Name'] = data['State Name'].str.upper()\n",
    "data['Name'] = data['Name'].str.upper()"
   ]
  },
  {
   "cell_type": "code",
   "execution_count": 16,
   "metadata": {
    "execution": {
     "iopub.execute_input": "2021-09-21T14:24:21.110782Z",
     "iopub.status.busy": "2021-09-21T14:24:21.108735Z",
     "iopub.status.idle": "2021-09-21T14:24:21.130986Z",
     "shell.execute_reply": "2021-09-21T14:24:21.132041Z"
    }
   },
   "outputs": [],
   "source": [
    "data = data[data['TRU'] == 'Total']"
   ]
  },
  {
   "cell_type": "code",
   "execution_count": 17,
   "metadata": {
    "execution": {
     "iopub.execute_input": "2021-09-21T14:24:21.144958Z",
     "iopub.status.busy": "2021-09-21T14:24:21.143965Z",
     "iopub.status.idle": "2021-09-21T14:24:21.328655Z",
     "shell.execute_reply": "2021-09-21T14:24:21.327657Z"
    }
   },
   "outputs": [],
   "source": [
    "df1 = pd.read_csv(distkey,index_col=0,usecols=[0,1,2,3,4,5,2111,2112],low_memory=False)"
   ]
  },
  {
   "cell_type": "code",
   "execution_count": 18,
   "metadata": {
    "execution": {
     "iopub.execute_input": "2021-09-21T14:24:21.354655Z",
     "iopub.status.busy": "2021-09-21T14:24:21.353507Z",
     "iopub.status.idle": "2021-09-21T14:24:21.362745Z",
     "shell.execute_reply": "2021-09-21T14:24:21.361748Z"
    }
   },
   "outputs": [
    {
     "data": {
      "text/html": [
       "<div>\n",
       "<style scoped>\n",
       "    .dataframe tbody tr th:only-of-type {\n",
       "        vertical-align: middle;\n",
       "    }\n",
       "\n",
       "    .dataframe tbody tr th {\n",
       "        vertical-align: top;\n",
       "    }\n",
       "\n",
       "    .dataframe thead th {\n",
       "        text-align: right;\n",
       "    }\n",
       "</style>\n",
       "<table border=\"1\" class=\"dataframe\">\n",
       "  <thead>\n",
       "    <tr style=\"text-align: right;\">\n",
       "      <th></th>\n",
       "      <th>State_Code</th>\n",
       "      <th>State</th>\n",
       "      <th>District_Key</th>\n",
       "      <th>Cowin Key</th>\n",
       "      <th>District</th>\n",
       "      <th>14/08/2021.5</th>\n",
       "      <th>14/08/2021.6</th>\n",
       "    </tr>\n",
       "    <tr>\n",
       "      <th>S No</th>\n",
       "      <th></th>\n",
       "      <th></th>\n",
       "      <th></th>\n",
       "      <th></th>\n",
       "      <th></th>\n",
       "      <th></th>\n",
       "      <th></th>\n",
       "    </tr>\n",
       "  </thead>\n",
       "  <tbody>\n",
       "    <tr>\n",
       "      <th>NaN</th>\n",
       "      <td>NaN</td>\n",
       "      <td>NaN</td>\n",
       "      <td>NaN</td>\n",
       "      <td>NaN</td>\n",
       "      <td>NaN</td>\n",
       "      <td>Male(Individuals Vaccinated)</td>\n",
       "      <td>Female(Individuals Vaccinated)</td>\n",
       "    </tr>\n",
       "    <tr>\n",
       "      <th>1.0</th>\n",
       "      <td>AN</td>\n",
       "      <td>Andaman and Nicobar Islands</td>\n",
       "      <td>AN_Nicobars</td>\n",
       "      <td>Nicobar</td>\n",
       "      <td>Nicobars</td>\n",
       "      <td>16267</td>\n",
       "      <td>13922</td>\n",
       "    </tr>\n",
       "    <tr>\n",
       "      <th>2.0</th>\n",
       "      <td>AN</td>\n",
       "      <td>Andaman and Nicobar Islands</td>\n",
       "      <td>AN_North and Middle Andaman</td>\n",
       "      <td>North and Middle Andaman</td>\n",
       "      <td>North and Middle Andaman</td>\n",
       "      <td>50819</td>\n",
       "      <td>46493</td>\n",
       "    </tr>\n",
       "    <tr>\n",
       "      <th>3.0</th>\n",
       "      <td>AN</td>\n",
       "      <td>Andaman and Nicobar Islands</td>\n",
       "      <td>AN_South Andaman</td>\n",
       "      <td>South Andaman</td>\n",
       "      <td>South Andaman</td>\n",
       "      <td>108324</td>\n",
       "      <td>94124</td>\n",
       "    </tr>\n",
       "    <tr>\n",
       "      <th>4.0</th>\n",
       "      <td>AP</td>\n",
       "      <td>Andhra Pradesh</td>\n",
       "      <td>AP_Anantapur</td>\n",
       "      <td>Anantapur</td>\n",
       "      <td>Anantapur</td>\n",
       "      <td>893118</td>\n",
       "      <td>1067715</td>\n",
       "    </tr>\n",
       "    <tr>\n",
       "      <th>...</th>\n",
       "      <td>...</td>\n",
       "      <td>...</td>\n",
       "      <td>...</td>\n",
       "      <td>...</td>\n",
       "      <td>...</td>\n",
       "      <td>...</td>\n",
       "      <td>...</td>\n",
       "    </tr>\n",
       "    <tr>\n",
       "      <th>751.0</th>\n",
       "      <td>WB</td>\n",
       "      <td>West Bengal</td>\n",
       "      <td>WB_Purulia</td>\n",
       "      <td>Purulia</td>\n",
       "      <td>Purulia</td>\n",
       "      <td>418785</td>\n",
       "      <td>368255</td>\n",
       "    </tr>\n",
       "    <tr>\n",
       "      <th>752.0</th>\n",
       "      <td>WB</td>\n",
       "      <td>West Bengal</td>\n",
       "      <td>WB_Birbhum</td>\n",
       "      <td>Rampurhat HD (Birbhum)</td>\n",
       "      <td>Birbhum</td>\n",
       "      <td>244036</td>\n",
       "      <td>266445</td>\n",
       "    </tr>\n",
       "    <tr>\n",
       "      <th>753.0</th>\n",
       "      <td>WB</td>\n",
       "      <td>West Bengal</td>\n",
       "      <td>WB_South 24 Parganas</td>\n",
       "      <td>South 24 Parganas</td>\n",
       "      <td>South 24 Parganas</td>\n",
       "      <td>916041</td>\n",
       "      <td>847823</td>\n",
       "    </tr>\n",
       "    <tr>\n",
       "      <th>754.0</th>\n",
       "      <td>WB</td>\n",
       "      <td>West Bengal</td>\n",
       "      <td>WB_Uttar Dinajpur</td>\n",
       "      <td>Uttar Dinajpur</td>\n",
       "      <td>Uttar Dinajpur</td>\n",
       "      <td>386259</td>\n",
       "      <td>327606</td>\n",
       "    </tr>\n",
       "    <tr>\n",
       "      <th>755.0</th>\n",
       "      <td>WB</td>\n",
       "      <td>West Bengal</td>\n",
       "      <td>WB_Paschim Bardhaman</td>\n",
       "      <td>West Bardhaman</td>\n",
       "      <td>Paschim Bardhaman</td>\n",
       "      <td>587059</td>\n",
       "      <td>457639</td>\n",
       "    </tr>\n",
       "  </tbody>\n",
       "</table>\n",
       "<p>755 rows × 7 columns</p>\n",
       "</div>"
      ],
      "text/plain": [
       "      State_Code                        State                 District_Key  \\\n",
       "S No                                                                         \n",
       "NaN          NaN                          NaN                          NaN   \n",
       "1.0           AN  Andaman and Nicobar Islands                  AN_Nicobars   \n",
       "2.0           AN  Andaman and Nicobar Islands  AN_North and Middle Andaman   \n",
       "3.0           AN  Andaman and Nicobar Islands             AN_South Andaman   \n",
       "4.0           AP               Andhra Pradesh                 AP_Anantapur   \n",
       "...          ...                          ...                          ...   \n",
       "751.0         WB                  West Bengal                   WB_Purulia   \n",
       "752.0         WB                  West Bengal                   WB_Birbhum   \n",
       "753.0         WB                  West Bengal         WB_South 24 Parganas   \n",
       "754.0         WB                  West Bengal            WB_Uttar Dinajpur   \n",
       "755.0         WB                  West Bengal         WB_Paschim Bardhaman   \n",
       "\n",
       "                      Cowin Key                  District  \\\n",
       "S No                                                        \n",
       "NaN                         NaN                       NaN   \n",
       "1.0                     Nicobar                  Nicobars   \n",
       "2.0    North and Middle Andaman  North and Middle Andaman   \n",
       "3.0               South Andaman             South Andaman   \n",
       "4.0                   Anantapur                 Anantapur   \n",
       "...                         ...                       ...   \n",
       "751.0                   Purulia                   Purulia   \n",
       "752.0    Rampurhat HD (Birbhum)                   Birbhum   \n",
       "753.0         South 24 Parganas         South 24 Parganas   \n",
       "754.0            Uttar Dinajpur            Uttar Dinajpur   \n",
       "755.0            West Bardhaman         Paschim Bardhaman   \n",
       "\n",
       "                       14/08/2021.5                    14/08/2021.6  \n",
       "S No                                                                 \n",
       "NaN    Male(Individuals Vaccinated)  Female(Individuals Vaccinated)  \n",
       "1.0                           16267                           13922  \n",
       "2.0                           50819                           46493  \n",
       "3.0                          108324                           94124  \n",
       "4.0                          893118                         1067715  \n",
       "...                             ...                             ...  \n",
       "751.0                        418785                          368255  \n",
       "752.0                        244036                          266445  \n",
       "753.0                        916041                          847823  \n",
       "754.0                        386259                          327606  \n",
       "755.0                        587059                          457639  \n",
       "\n",
       "[755 rows x 7 columns]"
      ]
     },
     "execution_count": 1,
     "metadata": {},
     "output_type": "execute_result"
    }
   ],
   "source": [
    "df1"
   ]
  },
  {
   "cell_type": "code",
   "execution_count": 19,
   "metadata": {
    "execution": {
     "iopub.execute_input": "2021-09-21T14:24:21.371393Z",
     "iopub.status.busy": "2021-09-21T14:24:21.370392Z",
     "iopub.status.idle": "2021-09-21T14:24:21.391955Z",
     "shell.execute_reply": "2021-09-21T14:24:21.391955Z"
    }
   },
   "outputs": [],
   "source": [
    "df1 = df1[df1['14/08/2021.5'] != 'Male(Individuals Vaccinated)']"
   ]
  },
  {
   "cell_type": "code",
   "execution_count": 20,
   "metadata": {
    "execution": {
     "iopub.execute_input": "2021-09-21T14:24:21.430560Z",
     "iopub.status.busy": "2021-09-21T14:24:21.429554Z",
     "iopub.status.idle": "2021-09-21T14:24:21.456579Z",
     "shell.execute_reply": "2021-09-21T14:24:21.454803Z"
    }
   },
   "outputs": [
    {
     "data": {
      "text/html": [
       "<div>\n",
       "<style scoped>\n",
       "    .dataframe tbody tr th:only-of-type {\n",
       "        vertical-align: middle;\n",
       "    }\n",
       "\n",
       "    .dataframe tbody tr th {\n",
       "        vertical-align: top;\n",
       "    }\n",
       "\n",
       "    .dataframe thead th {\n",
       "        text-align: right;\n",
       "    }\n",
       "</style>\n",
       "<table border=\"1\" class=\"dataframe\">\n",
       "  <thead>\n",
       "    <tr style=\"text-align: right;\">\n",
       "      <th></th>\n",
       "      <th>State_Code</th>\n",
       "      <th>State</th>\n",
       "      <th>District_Key</th>\n",
       "      <th>Cowin Key</th>\n",
       "      <th>District</th>\n",
       "      <th>14/08/2021.5</th>\n",
       "      <th>14/08/2021.6</th>\n",
       "    </tr>\n",
       "    <tr>\n",
       "      <th>S No</th>\n",
       "      <th></th>\n",
       "      <th></th>\n",
       "      <th></th>\n",
       "      <th></th>\n",
       "      <th></th>\n",
       "      <th></th>\n",
       "      <th></th>\n",
       "    </tr>\n",
       "  </thead>\n",
       "  <tbody>\n",
       "    <tr>\n",
       "      <th>1.0</th>\n",
       "      <td>AN</td>\n",
       "      <td>Andaman and Nicobar Islands</td>\n",
       "      <td>AN_Nicobars</td>\n",
       "      <td>Nicobar</td>\n",
       "      <td>Nicobars</td>\n",
       "      <td>16267</td>\n",
       "      <td>13922</td>\n",
       "    </tr>\n",
       "    <tr>\n",
       "      <th>2.0</th>\n",
       "      <td>AN</td>\n",
       "      <td>Andaman and Nicobar Islands</td>\n",
       "      <td>AN_North and Middle Andaman</td>\n",
       "      <td>North and Middle Andaman</td>\n",
       "      <td>North and Middle Andaman</td>\n",
       "      <td>50819</td>\n",
       "      <td>46493</td>\n",
       "    </tr>\n",
       "    <tr>\n",
       "      <th>3.0</th>\n",
       "      <td>AN</td>\n",
       "      <td>Andaman and Nicobar Islands</td>\n",
       "      <td>AN_South Andaman</td>\n",
       "      <td>South Andaman</td>\n",
       "      <td>South Andaman</td>\n",
       "      <td>108324</td>\n",
       "      <td>94124</td>\n",
       "    </tr>\n",
       "    <tr>\n",
       "      <th>4.0</th>\n",
       "      <td>AP</td>\n",
       "      <td>Andhra Pradesh</td>\n",
       "      <td>AP_Anantapur</td>\n",
       "      <td>Anantapur</td>\n",
       "      <td>Anantapur</td>\n",
       "      <td>893118</td>\n",
       "      <td>1067715</td>\n",
       "    </tr>\n",
       "    <tr>\n",
       "      <th>5.0</th>\n",
       "      <td>AP</td>\n",
       "      <td>Andhra Pradesh</td>\n",
       "      <td>AP_Chittoor</td>\n",
       "      <td>Chittoor</td>\n",
       "      <td>Chittoor</td>\n",
       "      <td>1004937</td>\n",
       "      <td>1201195</td>\n",
       "    </tr>\n",
       "    <tr>\n",
       "      <th>...</th>\n",
       "      <td>...</td>\n",
       "      <td>...</td>\n",
       "      <td>...</td>\n",
       "      <td>...</td>\n",
       "      <td>...</td>\n",
       "      <td>...</td>\n",
       "      <td>...</td>\n",
       "    </tr>\n",
       "    <tr>\n",
       "      <th>751.0</th>\n",
       "      <td>WB</td>\n",
       "      <td>West Bengal</td>\n",
       "      <td>WB_Purulia</td>\n",
       "      <td>Purulia</td>\n",
       "      <td>Purulia</td>\n",
       "      <td>418785</td>\n",
       "      <td>368255</td>\n",
       "    </tr>\n",
       "    <tr>\n",
       "      <th>752.0</th>\n",
       "      <td>WB</td>\n",
       "      <td>West Bengal</td>\n",
       "      <td>WB_Birbhum</td>\n",
       "      <td>Rampurhat HD (Birbhum)</td>\n",
       "      <td>Birbhum</td>\n",
       "      <td>244036</td>\n",
       "      <td>266445</td>\n",
       "    </tr>\n",
       "    <tr>\n",
       "      <th>753.0</th>\n",
       "      <td>WB</td>\n",
       "      <td>West Bengal</td>\n",
       "      <td>WB_South 24 Parganas</td>\n",
       "      <td>South 24 Parganas</td>\n",
       "      <td>South 24 Parganas</td>\n",
       "      <td>916041</td>\n",
       "      <td>847823</td>\n",
       "    </tr>\n",
       "    <tr>\n",
       "      <th>754.0</th>\n",
       "      <td>WB</td>\n",
       "      <td>West Bengal</td>\n",
       "      <td>WB_Uttar Dinajpur</td>\n",
       "      <td>Uttar Dinajpur</td>\n",
       "      <td>Uttar Dinajpur</td>\n",
       "      <td>386259</td>\n",
       "      <td>327606</td>\n",
       "    </tr>\n",
       "    <tr>\n",
       "      <th>755.0</th>\n",
       "      <td>WB</td>\n",
       "      <td>West Bengal</td>\n",
       "      <td>WB_Paschim Bardhaman</td>\n",
       "      <td>West Bardhaman</td>\n",
       "      <td>Paschim Bardhaman</td>\n",
       "      <td>587059</td>\n",
       "      <td>457639</td>\n",
       "    </tr>\n",
       "  </tbody>\n",
       "</table>\n",
       "<p>754 rows × 7 columns</p>\n",
       "</div>"
      ],
      "text/plain": [
       "      State_Code                        State                 District_Key  \\\n",
       "S No                                                                         \n",
       "1.0           AN  Andaman and Nicobar Islands                  AN_Nicobars   \n",
       "2.0           AN  Andaman and Nicobar Islands  AN_North and Middle Andaman   \n",
       "3.0           AN  Andaman and Nicobar Islands             AN_South Andaman   \n",
       "4.0           AP               Andhra Pradesh                 AP_Anantapur   \n",
       "5.0           AP               Andhra Pradesh                  AP_Chittoor   \n",
       "...          ...                          ...                          ...   \n",
       "751.0         WB                  West Bengal                   WB_Purulia   \n",
       "752.0         WB                  West Bengal                   WB_Birbhum   \n",
       "753.0         WB                  West Bengal         WB_South 24 Parganas   \n",
       "754.0         WB                  West Bengal            WB_Uttar Dinajpur   \n",
       "755.0         WB                  West Bengal         WB_Paschim Bardhaman   \n",
       "\n",
       "                      Cowin Key                  District 14/08/2021.5  \\\n",
       "S No                                                                     \n",
       "1.0                     Nicobar                  Nicobars        16267   \n",
       "2.0    North and Middle Andaman  North and Middle Andaman        50819   \n",
       "3.0               South Andaman             South Andaman       108324   \n",
       "4.0                   Anantapur                 Anantapur       893118   \n",
       "5.0                    Chittoor                  Chittoor      1004937   \n",
       "...                         ...                       ...          ...   \n",
       "751.0                   Purulia                   Purulia       418785   \n",
       "752.0    Rampurhat HD (Birbhum)                   Birbhum       244036   \n",
       "753.0         South 24 Parganas         South 24 Parganas       916041   \n",
       "754.0            Uttar Dinajpur            Uttar Dinajpur       386259   \n",
       "755.0            West Bardhaman         Paschim Bardhaman       587059   \n",
       "\n",
       "      14/08/2021.6  \n",
       "S No                \n",
       "1.0          13922  \n",
       "2.0          46493  \n",
       "3.0          94124  \n",
       "4.0        1067715  \n",
       "5.0        1201195  \n",
       "...            ...  \n",
       "751.0       368255  \n",
       "752.0       266445  \n",
       "753.0       847823  \n",
       "754.0       327606  \n",
       "755.0       457639  \n",
       "\n",
       "[754 rows x 7 columns]"
      ]
     },
     "execution_count": 1,
     "metadata": {},
     "output_type": "execute_result"
    }
   ],
   "source": [
    "df1"
   ]
  },
  {
   "cell_type": "code",
   "execution_count": 21,
   "metadata": {
    "execution": {
     "iopub.execute_input": "2021-09-21T14:24:21.467645Z",
     "iopub.status.busy": "2021-09-21T14:24:21.466601Z",
     "iopub.status.idle": "2021-09-21T14:24:21.498036Z",
     "shell.execute_reply": "2021-09-21T14:24:21.498036Z"
    }
   },
   "outputs": [],
   "source": [
    "df1 = df1.rename(columns = {'14/08/2021.5':'Male','14/08/2021.6' : 'Female'})"
   ]
  },
  {
   "cell_type": "code",
   "execution_count": 22,
   "metadata": {
    "execution": {
     "iopub.execute_input": "2021-09-21T14:24:21.512977Z",
     "iopub.status.busy": "2021-09-21T14:24:21.511929Z",
     "iopub.status.idle": "2021-09-21T14:24:21.531752Z",
     "shell.execute_reply": "2021-09-21T14:24:21.530214Z"
    }
   },
   "outputs": [],
   "source": [
    "df1 = df1[['State','State_Code','District','District_Key','Male','Female']]"
   ]
  },
  {
   "cell_type": "code",
   "execution_count": 23,
   "metadata": {
    "execution": {
     "iopub.execute_input": "2021-09-21T14:24:21.547907Z",
     "iopub.status.busy": "2021-09-21T14:24:21.546862Z",
     "iopub.status.idle": "2021-09-21T14:24:21.569023Z",
     "shell.execute_reply": "2021-09-21T14:24:21.569023Z"
    }
   },
   "outputs": [],
   "source": [
    "df1['State'] = df1['State'].str.upper()\n",
    "df1['District'] = df1['District'].str.upper()"
   ]
  },
  {
   "cell_type": "code",
   "execution_count": 24,
   "metadata": {
    "execution": {
     "iopub.execute_input": "2021-09-21T14:24:21.585142Z",
     "iopub.status.busy": "2021-09-21T14:24:21.584097Z",
     "iopub.status.idle": "2021-09-21T14:24:21.607042Z",
     "shell.execute_reply": "2021-09-21T14:24:21.607042Z"
    }
   },
   "outputs": [],
   "source": [
    "df1.replace({'State': {\"DELHI\": \"NCT OF DELHI\",\"TELANGANA\": \"ANDHRA PRADESH\"}},inplace= True)"
   ]
  },
  {
   "cell_type": "code",
   "execution_count": 25,
   "metadata": {
    "execution": {
     "iopub.execute_input": "2021-09-21T14:24:21.626103Z",
     "iopub.status.busy": "2021-09-21T14:24:21.625059Z",
     "iopub.status.idle": "2021-09-21T14:24:21.653843Z",
     "shell.execute_reply": "2021-09-21T14:24:21.653843Z"
    }
   },
   "outputs": [],
   "source": [
    "dist_changes={\"WARANGAL RURAL\":\"WARANGAL\",\"WARANGAL URBAN\":\"WARANGAL\",\"KOMARAM BHEEM\":\"ADILABAD\",\"MANCHERIAL\":\"ADILABAD\",\n",
    "\"NIRMAL\":\"ADILABAD\",\"WANAPARTHY\":\"MAHABUBNAGAR\",\"NAGARKURNOOL\":\"MAHABUBNAGAR\",\"KAMAREDDY\":\"NIZAMABAD\",\"SANGAREDDY\":\"MEDAK\",\n",
    "\"SIDDIPET\":\"MEDAK\",\"BHADRADRI KOTHAGUDEM\":\"KHAMMAM\",\"JAGTIAL\":\"KARIMNAGAR\",\"JANGAON\":\"NALGONDA\",\n",
    "\"JAYASHANKAR BHUPALAPALLY\":\"KARIMNAGAR\",\"JOGULAMBA GADWAL\":\"MAHABUBNAGAR\",\"MEDCHAL MALKAJGIRI\":\"RANGA REDDY\",\n",
    "\"MULUGU\":\"WARANGAL\",\"NARAYANPET\":\"MAHABUBNAGAR\",\n",
    "\"PEDDAPALLI\":\"KARIMNAGAR\",\"RAJANNA SIRCILLA\":\"KARIMNAGAR\",\"SURYAPET\":\"NALGONDA\",\"VIKARABAD\":\"RANGA REDDY\",\n",
    "              \"YADADRI BHUVANAGIRI\":\"NALGONDA\"\n",
    "             }\n",
    "dist_key_changes={\"TG_Warangal Rural\":\"TG_Warangal\",\"TG_Warangal Urban\":\"TG_Warangal\",\"TG_Komaram Bheem\":\"TG_Adilabad\",\n",
    "\"TG_Mancherial\":\"TG_Adilabad\",\"TG_Nirmal\":\"TG_Adilabad\",\"TG_Wanaparthy\":\"TG_Mahabubnagar\",\"TG_Nagarkurnool\":\"TG_Mahabubnagar\",\n",
    "\"TG_Kamareddy\":\"TG_Nizamabad\",\"TG_Sangareddy\":\"TG_Medak\",\"TG_Siddipet\":\"TG_Medak\",\"TG_Bhadradri Kothagudem\":\"TG_Khammam\",\n",
    "\"TG_Jagtial\":\"TG_Karimnagar\",\"TG_Jangaon\":\"TG_Nalgonda\",\"TG_Jayashankar Bhupalapally\":\"TG_Karimnagar\",\n",
    "\"TG_Jogulamba Gadwal\":\"TG_Mahabubnagar\",\"TG_Medchal Malkajgiri\":\"TG_Ranga Reddy\",\"TG_Mulugu\":\"TG_Warangal\",\n",
    "\"TG_Narayanpet\":\"TG_Mahabubnagar\",\"TG_Peddapalli\":\"TG_Karimnagar\",\"TG_Rajanna Sircilla\":\"TG_Karimnagar\",\n",
    "\"TG_Suryapet\":\"TG_Nalgonda\",\"TG_Vikarabad\":\"TG_Ranga Reddy\",\"TG_Yadadri Bhuvanagiri\":\"TG_Nalgonda\"\n",
    "                 }"
   ]
  },
  {
   "cell_type": "code",
   "execution_count": 26,
   "metadata": {
    "execution": {
     "iopub.execute_input": "2021-09-21T14:24:21.670784Z",
     "iopub.status.busy": "2021-09-21T14:24:21.668731Z",
     "iopub.status.idle": "2021-09-21T14:24:21.704041Z",
     "shell.execute_reply": "2021-09-21T14:24:21.704041Z"
    }
   },
   "outputs": [],
   "source": [
    "df1.replace({'District': dist_changes,\"District_Key\":dist_key_changes},inplace= True)"
   ]
  },
  {
   "cell_type": "code",
   "execution_count": 27,
   "metadata": {
    "execution": {
     "iopub.execute_input": "2021-09-21T14:24:21.721521Z",
     "iopub.status.busy": "2021-09-21T14:24:21.720480Z",
     "iopub.status.idle": "2021-09-21T14:24:21.739768Z",
     "shell.execute_reply": "2021-09-21T14:24:21.737874Z"
    }
   },
   "outputs": [],
   "source": [
    "df1.replace({'District': {\"PASCHIM BARDHAMAN\":\"BARDDHAMAN\",\"PURBA BARDHAMAN\":\"BARDDHAMAN\"},\n",
    "             \"District_Key\":{\"WB_Paschim Bardhaman\":\"WB_Barddhaman\",\"WB_Purba Bardhaman\":\"WB_Barddhaman\"}},inplace= True)"
   ]
  },
  {
   "cell_type": "code",
   "execution_count": 28,
   "metadata": {
    "execution": {
     "iopub.execute_input": "2021-09-21T14:24:21.752266Z",
     "iopub.status.busy": "2021-09-21T14:24:21.751267Z",
     "iopub.status.idle": "2021-09-21T14:24:21.774401Z",
     "shell.execute_reply": "2021-09-21T14:24:21.774401Z"
    }
   },
   "outputs": [],
   "source": [
    "df1.replace({'State': {\"LADAKH\": \"JAMMU AND KASHMIR\"}},inplace= True)"
   ]
  },
  {
   "cell_type": "code",
   "execution_count": 29,
   "metadata": {
    "execution": {
     "iopub.execute_input": "2021-09-21T14:24:21.797499Z",
     "iopub.status.busy": "2021-09-21T14:24:21.797499Z",
     "iopub.status.idle": "2021-09-21T14:24:21.837449Z",
     "shell.execute_reply": "2021-09-21T14:24:21.837449Z"
    }
   },
   "outputs": [],
   "source": [
    "df1[\"Male\"]=df1[\"Male\"].astype(int)\n",
    "df1[\"Female\"]=df1[\"Female\"].astype(int)\n",
    "df1=df1.groupby([\"State\",\"State_Code\",\"District\",\"District_Key\"], as_index=False).agg({'Male':'sum','Female':'sum'}).reset_index()"
   ]
  },
  {
   "cell_type": "code",
   "execution_count": 30,
   "metadata": {
    "execution": {
     "iopub.execute_input": "2021-09-21T14:24:21.853820Z",
     "iopub.status.busy": "2021-09-21T14:24:21.853820Z",
     "iopub.status.idle": "2021-09-21T14:24:21.868796Z",
     "shell.execute_reply": "2021-09-21T14:24:21.868796Z"
    }
   },
   "outputs": [],
   "source": [
    "data_final  = pd.merge(data,df1,how='inner',left_on=['State Name','Name'],right_on=['State','District'],sort=True)"
   ]
  },
  {
   "cell_type": "code",
   "execution_count": 31,
   "metadata": {
    "execution": {
     "iopub.execute_input": "2021-09-21T14:24:21.885734Z",
     "iopub.status.busy": "2021-09-21T14:24:21.885734Z",
     "iopub.status.idle": "2021-09-21T14:24:21.906411Z",
     "shell.execute_reply": "2021-09-21T14:24:21.906411Z"
    }
   },
   "outputs": [],
   "source": [
    "data_district = data_final[['District_Key','Male','Female','TOT_M','TOT_F']]\n",
    "data_district = data_district.rename(columns={'District_Key':'districtid'})"
   ]
  },
  {
   "cell_type": "code",
   "execution_count": 32,
   "metadata": {
    "execution": {
     "iopub.execute_input": "2021-09-21T14:24:21.921114Z",
     "iopub.status.busy": "2021-09-21T14:24:21.920071Z",
     "iopub.status.idle": "2021-09-21T14:24:21.973933Z",
     "shell.execute_reply": "2021-09-21T14:24:21.973933Z"
    }
   },
   "outputs": [],
   "source": [
    "data_district['vaccinationratio'] = data_district['Female'].astype(float)/data_district['Male'].astype(float)"
   ]
  },
  {
   "cell_type": "code",
   "execution_count": 33,
   "metadata": {
    "execution": {
     "iopub.execute_input": "2021-09-21T14:24:21.991422Z",
     "iopub.status.busy": "2021-09-21T14:24:21.989425Z",
     "iopub.status.idle": "2021-09-21T14:24:22.012429Z",
     "shell.execute_reply": "2021-09-21T14:24:22.012429Z"
    }
   },
   "outputs": [],
   "source": [
    "data_district['populationratio'] = data_district['TOT_F'].astype(float)/data_district['TOT_M'].astype(float)"
   ]
  },
  {
   "cell_type": "code",
   "execution_count": 34,
   "metadata": {
    "execution": {
     "iopub.execute_input": "2021-09-21T14:24:22.028647Z",
     "iopub.status.busy": "2021-09-21T14:24:22.027600Z",
     "iopub.status.idle": "2021-09-21T14:24:22.056216Z",
     "shell.execute_reply": "2021-09-21T14:24:22.057217Z"
    }
   },
   "outputs": [],
   "source": [
    "data_district['ratioofratios'] = data_district['vaccinationratio']/data_district['populationratio']"
   ]
  },
  {
   "cell_type": "code",
   "execution_count": 35,
   "metadata": {
    "execution": {
     "iopub.execute_input": "2021-09-21T14:24:22.073895Z",
     "iopub.status.busy": "2021-09-21T14:24:22.071489Z",
     "iopub.status.idle": "2021-09-21T14:24:22.095192Z",
     "shell.execute_reply": "2021-09-21T14:24:22.094191Z"
    }
   },
   "outputs": [],
   "source": [
    "data_district = data_district[['districtid','vaccinationratio','populationratio','ratioofratios']]"
   ]
  },
  {
   "cell_type": "code",
   "execution_count": 36,
   "metadata": {
    "execution": {
     "iopub.execute_input": "2021-09-21T14:24:22.108185Z",
     "iopub.status.busy": "2021-09-21T14:24:22.107182Z",
     "iopub.status.idle": "2021-09-21T14:24:22.129274Z",
     "shell.execute_reply": "2021-09-21T14:24:22.129274Z"
    }
   },
   "outputs": [],
   "source": [
    "data_district.sort_values(\"ratioofratios\",axis=0,ascending = True,inplace = True ,kind = 'quicksort',na_position = 'last' )"
   ]
  },
  {
   "cell_type": "code",
   "execution_count": 37,
   "metadata": {
    "execution": {
     "iopub.execute_input": "2021-09-21T14:24:22.142402Z",
     "iopub.status.busy": "2021-09-21T14:24:22.142402Z",
     "iopub.status.idle": "2021-09-21T14:24:22.162044Z",
     "shell.execute_reply": "2021-09-21T14:24:22.161047Z"
    }
   },
   "outputs": [],
   "source": [
    "data_state = data_final[['State_Code','Male','Female','TOT_M','TOT_F']]"
   ]
  },
  {
   "cell_type": "code",
   "execution_count": 38,
   "metadata": {
    "execution": {
     "iopub.execute_input": "2021-09-21T14:24:22.173425Z",
     "iopub.status.busy": "2021-09-21T14:24:22.170239Z",
     "iopub.status.idle": "2021-09-21T14:24:22.211454Z",
     "shell.execute_reply": "2021-09-21T14:24:22.211454Z"
    }
   },
   "outputs": [
    {
     "name": "stdout",
     "output_type": "stream",
     "text": [
      "   Stateid      Male    Female      TOT_M     TOT_F\n",
      "0       AN    175410    154539     202871    177710\n",
      "1       AP  11404153  13593094   24738068  24648731\n",
      "2       AR    394830    317525     709498    666225\n",
      "3       AS   6592408   5904973   15939443  15266133\n",
      "4       BR  16028771  13991844   54278157  49821295\n",
      "5       CH    557241    420544     580663    474787\n",
      "6       CT   4198391   4141650   11953954  11842030\n",
      "7       DL   5524279   4110617    8987326   7800615\n",
      "8       DN    459960    228702     344061    242895\n",
      "9       GA    775729    666866     739140    719405\n",
      "10      GJ  19607521  16186126   31491260  28948432\n",
      "11      HP   3235925   3227200    3481873   3382729\n",
      "12      HR   7367076   5917855   13494734  11856728\n",
      "13      JH   5998147   4932484   16930315  16057819\n",
      "14      JK   4078026   3040382    6483906   5783107\n",
      "15      KA  17332703  17161214   30966657  30128640\n",
      "16      KL  11472595  12462142   16027412  17378649\n",
      "17      LA    148068    114265     156756    117533\n",
      "18      LD     37963     31585      33123     31350\n",
      "19      MH  26228580  22141633   58243056  54131277\n",
      "20      ML    513969    467676    1491832   1475057\n",
      "21      MN    643728    558059    1438586   1417208\n",
      "22      MP  20251897  17195547   37612306  35014503\n",
      "23      MZ    442818    434839     555339    541867\n",
      "24      NL    460630    346571    1024649    953853\n",
      "25      OR  10267227   9213425   21212136  20762082\n",
      "26      PB   5748473   4566822   14639465  13103873\n",
      "27      PY    376669    396699     612511    635442\n",
      "28      RJ  19697748  17810716   35550997  32997440\n",
      "29      SK    359355    299299     323070    287507\n",
      "30      TG   8281834   7688120   17704078  17489900\n",
      "31      TN  12316820  12044531   36137975  36009055\n",
      "32      TR   1034970    983981    1874376   1799541\n",
      "33      UP  31257210  24318922  104480510  95331831\n",
      "34      UT   3693299   3522364    5137773   4948519\n",
      "35      WB  17504359  15595838   46809027  44467088\n"
     ]
    }
   ],
   "source": [
    "data_state = data_state.rename(columns={'State_Code':'Stateid'})\n",
    "data_state = data_state.groupby(['Stateid'],as_index=False).agg({'Male':'sum','Female':'sum','TOT_M':'sum','TOT_F':'sum'})\n",
    "#data_state = data_state.groupby(['Stateid'],as_index=False)[\"Male\",\"Female\",'TOT_M','TOT_F'].apply(lambda x : x.astype(int).sum())\n",
    "print(data_state)"
   ]
  },
  {
   "cell_type": "code",
   "execution_count": 39,
   "metadata": {
    "execution": {
     "iopub.execute_input": "2021-09-21T14:24:22.226941Z",
     "iopub.status.busy": "2021-09-21T14:24:22.225902Z",
     "iopub.status.idle": "2021-09-21T14:24:22.254324Z",
     "shell.execute_reply": "2021-09-21T14:24:22.254324Z"
    }
   },
   "outputs": [],
   "source": [
    "data_state['vaccinationratio'] = data_state['Female'].astype(float)/data_state['Male'].astype(float)"
   ]
  },
  {
   "cell_type": "code",
   "execution_count": 40,
   "metadata": {
    "execution": {
     "iopub.execute_input": "2021-09-21T14:24:22.269816Z",
     "iopub.status.busy": "2021-09-21T14:24:22.268819Z",
     "iopub.status.idle": "2021-09-21T14:24:22.290815Z",
     "shell.execute_reply": "2021-09-21T14:24:22.290815Z"
    }
   },
   "outputs": [],
   "source": [
    "data_state['populationratio'] = data_state['TOT_F'].astype(float)/data_state['TOT_M'].astype(float)"
   ]
  },
  {
   "cell_type": "code",
   "execution_count": 41,
   "metadata": {
    "execution": {
     "iopub.execute_input": "2021-09-21T14:24:22.309215Z",
     "iopub.status.busy": "2021-09-21T14:24:22.304607Z",
     "iopub.status.idle": "2021-09-21T14:24:22.328878Z",
     "shell.execute_reply": "2021-09-21T14:24:22.328878Z"
    }
   },
   "outputs": [],
   "source": [
    "data_state['ratioofratios'] = data_state['vaccinationratio']/data_state['populationratio']"
   ]
  },
  {
   "cell_type": "code",
   "execution_count": 42,
   "metadata": {
    "execution": {
     "iopub.execute_input": "2021-09-21T14:24:22.343021Z",
     "iopub.status.busy": "2021-09-21T14:24:22.341027Z",
     "iopub.status.idle": "2021-09-21T14:24:22.364578Z",
     "shell.execute_reply": "2021-09-21T14:24:22.364578Z"
    }
   },
   "outputs": [],
   "source": [
    "data_overall = pd.DataFrame({'Overall':['India']})"
   ]
  },
  {
   "cell_type": "code",
   "execution_count": 43,
   "metadata": {
    "execution": {
     "iopub.execute_input": "2021-09-21T14:24:22.377708Z",
     "iopub.status.busy": "2021-09-21T14:24:22.376665Z",
     "iopub.status.idle": "2021-09-21T14:24:22.398223Z",
     "shell.execute_reply": "2021-09-21T14:24:22.398223Z"
    }
   },
   "outputs": [],
   "source": [
    "data_overall['Male'] = data_state['Male'].sum()"
   ]
  },
  {
   "cell_type": "code",
   "execution_count": 44,
   "metadata": {
    "execution": {
     "iopub.execute_input": "2021-09-21T14:24:22.412581Z",
     "iopub.status.busy": "2021-09-21T14:24:22.411576Z",
     "iopub.status.idle": "2021-09-21T14:24:22.434444Z",
     "shell.execute_reply": "2021-09-21T14:24:22.434444Z"
    }
   },
   "outputs": [],
   "source": [
    "data_overall['Female'] = data_state['Female'].sum()"
   ]
  },
  {
   "cell_type": "code",
   "execution_count": 45,
   "metadata": {
    "execution": {
     "iopub.execute_input": "2021-09-21T14:24:22.449769Z",
     "iopub.status.busy": "2021-09-21T14:24:22.448724Z",
     "iopub.status.idle": "2021-09-21T14:24:22.470680Z",
     "shell.execute_reply": "2021-09-21T14:24:22.470680Z"
    }
   },
   "outputs": [],
   "source": [
    "data_overall['TOT_M'] = data_state['TOT_M'].sum()\n",
    "data_overall['TOT_F'] = data_state['TOT_F'].sum()"
   ]
  },
  {
   "cell_type": "code",
   "execution_count": 46,
   "metadata": {
    "execution": {
     "iopub.execute_input": "2021-09-21T14:24:22.486230Z",
     "iopub.status.busy": "2021-09-21T14:24:22.485179Z",
     "iopub.status.idle": "2021-09-21T14:24:22.508148Z",
     "shell.execute_reply": "2021-09-21T14:24:22.508148Z"
    }
   },
   "outputs": [],
   "source": [
    "data_overall['vaccinationratio'] = data_overall['Female'].astype(float)/data_overall['Male'].astype(float)"
   ]
  },
  {
   "cell_type": "code",
   "execution_count": 47,
   "metadata": {
    "execution": {
     "iopub.execute_input": "2021-09-21T14:24:22.523825Z",
     "iopub.status.busy": "2021-09-21T14:24:22.521960Z",
     "iopub.status.idle": "2021-09-21T14:24:22.541999Z",
     "shell.execute_reply": "2021-09-21T14:24:22.539791Z"
    }
   },
   "outputs": [],
   "source": [
    "data_overall['populationratio'] = data_overall['TOT_F'].astype(float)/data_overall['TOT_M'].astype(float)"
   ]
  },
  {
   "cell_type": "code",
   "execution_count": 48,
   "metadata": {
    "execution": {
     "iopub.execute_input": "2021-09-21T14:24:22.557200Z",
     "iopub.status.busy": "2021-09-21T14:24:22.555926Z",
     "iopub.status.idle": "2021-09-21T14:24:22.577816Z",
     "shell.execute_reply": "2021-09-21T14:24:22.577816Z"
    }
   },
   "outputs": [],
   "source": [
    "data_overall['ratioofratios'] = data_overall['vaccinationratio']/data_overall['populationratio']"
   ]
  },
  {
   "cell_type": "code",
   "execution_count": 49,
   "metadata": {
    "execution": {
     "iopub.execute_input": "2021-09-21T14:24:22.595668Z",
     "iopub.status.busy": "2021-09-21T14:24:22.594617Z",
     "iopub.status.idle": "2021-09-21T14:24:22.617653Z",
     "shell.execute_reply": "2021-09-21T14:24:22.617653Z"
    }
   },
   "outputs": [],
   "source": [
    "data_overall = data_overall[['Overall','vaccinationratio','populationratio','ratioofratios']]"
   ]
  },
  {
   "cell_type": "code",
   "execution_count": 50,
   "metadata": {
    "execution": {
     "iopub.execute_input": "2021-09-21T14:24:22.631748Z",
     "iopub.status.busy": "2021-09-21T14:24:22.630743Z",
     "iopub.status.idle": "2021-09-21T14:24:22.657169Z",
     "shell.execute_reply": "2021-09-21T14:24:22.657169Z"
    }
   },
   "outputs": [],
   "source": [
    "data_state = data_state[['Stateid','vaccinationratio','populationratio','ratioofratios']]"
   ]
  },
  {
   "cell_type": "code",
   "execution_count": 51,
   "metadata": {
    "execution": {
     "iopub.execute_input": "2021-09-21T14:24:22.670927Z",
     "iopub.status.busy": "2021-09-21T14:24:22.669882Z",
     "iopub.status.idle": "2021-09-21T14:24:22.692733Z",
     "shell.execute_reply": "2021-09-21T14:24:22.692733Z"
    }
   },
   "outputs": [],
   "source": [
    "data_state.sort_values(\"ratioofratios\",axis=0,ascending = True,inplace = True ,kind = 'quicksort',na_position = 'last' )"
   ]
  },
  {
   "cell_type": "code",
   "execution_count": 52,
   "metadata": {
    "execution": {
     "iopub.execute_input": "2021-09-21T14:24:22.728489Z",
     "iopub.status.busy": "2021-09-21T14:24:22.727485Z",
     "iopub.status.idle": "2021-09-21T14:24:22.744135Z",
     "shell.execute_reply": "2021-09-21T14:24:22.744135Z"
    }
   },
   "outputs": [
    {
     "name": "stdout",
     "output_type": "stream",
     "text": [
      "                    districtid  vaccinationratio  populationratio  \\\n",
      "387                 NL_Kiphire          0.531756         0.956225   \n",
      "123  DN_Dadra and Nagar Haveli          0.441210         0.773890   \n",
      "166                     HR_Nuh          0.537717         0.907100   \n",
      "207                JK_Srinagar          0.539059         0.899529   \n",
      "504            TN_Kancheepuram          0.652007         0.986257   \n",
      "..                         ...               ...              ...   \n",
      "24            AP_West Godavari          1.265055         1.003629   \n",
      "20               AP_Srikakulam          1.319140         1.014636   \n",
      "514          TN_Ramanathapuram          1.278132         0.982611   \n",
      "525          TN_Tiruvannamalai          1.327524         0.994415   \n",
      "12                  AP_Kurnool          1.330980         0.987745   \n",
      "\n",
      "     ratioofratios  \n",
      "387       0.556099  \n",
      "123       0.570119  \n",
      "166       0.592787  \n",
      "207       0.599268  \n",
      "504       0.661093  \n",
      "..             ...  \n",
      "24        1.260481  \n",
      "20        1.300111  \n",
      "514       1.300751  \n",
      "525       1.334981  \n",
      "12        1.347493  \n",
      "\n",
      "[636 rows x 4 columns]\n",
      "   Stateid  vaccinationratio  populationratio  ratioofratios\n",
      "8       DN          0.497221         0.705965       0.704315\n",
      "24      NL          0.752385         0.930907       0.808228\n",
      "14      JK          0.745552         0.891917       0.835899\n",
      "33      UP          0.778026         0.912437       0.852691\n",
      "2       AR          0.804207         0.939009       0.856442\n",
      "7       DL          0.744100         0.867957       0.857300\n",
      "13      JH          0.822335         0.948465       0.867016\n",
      "18      LD          0.831994         0.946472       0.879048\n",
      "21      MN          0.866917         0.985140       0.879994\n",
      "9       GA          0.859664         0.973300       0.883246\n",
      "26      PB          0.794441         0.895106       0.887538\n",
      "10      GJ          0.825506         0.919253       0.898018\n",
      "19      MH          0.844180         0.929403       0.908303\n",
      "22      MP          0.849083         0.930932       0.912079\n",
      "12      HR          0.803284         0.878619       0.914258\n",
      "25      OR          0.897363         0.978783       0.916814\n",
      "20      ML          0.909930         0.988755       0.920278\n",
      "5       CH          0.754690         0.817664       0.922983\n",
      "3       AS          0.895723         0.957758       0.935229\n",
      "29      SK          0.832878         0.889922       0.935901\n",
      "35      WB          0.890969         0.949968       0.937893\n",
      "30      TG          0.928311         0.987902       0.939679\n",
      "4       BR          0.872921         0.917888       0.951009\n",
      "28      RJ          0.904201         0.928172       0.974174\n",
      "31      TN          0.977893         0.996433       0.981394\n",
      "34      UT          0.953718         0.963164       0.990192\n",
      "32      TR          0.950734         0.960075       0.990271\n",
      "6       CT          0.986485         0.990637       0.995809\n",
      "16      KL          1.086253         1.084308       1.001794\n",
      "0       AN          0.881016         0.875975       1.005754\n",
      "23      MZ          0.981981         0.975741       1.006396\n",
      "27      PY          1.053177         1.037438       1.015171\n",
      "15      KA          0.990106         0.972938       1.017645\n",
      "11      HP          0.997304         0.971526       1.026534\n",
      "17      LA          0.771706         0.749783       1.029239\n",
      "1       AP          1.191942         0.996389       1.196263\n",
      "  Overall  vaccinationratio  populationratio  ratioofratios\n",
      "0   India          0.889677         0.942679       0.943776\n"
     ]
    }
   ],
   "source": [
    "print(data_district)\n",
    "print(data_state)\n",
    "print(data_overall)"
   ]
  },
  {
   "cell_type": "code",
   "execution_count": 53,
   "metadata": {
    "execution": {
     "iopub.execute_input": "2021-09-21T14:24:22.757117Z",
     "iopub.status.busy": "2021-09-21T14:24:22.755379Z",
     "iopub.status.idle": "2021-09-21T14:24:22.804000Z",
     "shell.execute_reply": "2021-09-21T14:24:22.804000Z"
    }
   },
   "outputs": [],
   "source": [
    "data_district.to_csv('./Output_Files/Q6/district-vaccination-population-ratio.csv',index=False)\n",
    "data_state.to_csv('./Output_Files/Q6/state-vaccination-population-ratio.csv',index=False)\n",
    "data_overall.to_csv('./Output_Files/Q6/overall-vaccination-population-ratio.csv',index=False)"
   ]
  }
 ],
 "metadata": {
  "kernelspec": {
   "display_name": "Python 3",
   "language": "python",
   "name": "python3"
  },
  "language_info": {
   "codemirror_mode": {
    "name": "ipython",
    "version": 3
   },
   "file_extension": ".py",
   "mimetype": "text/x-python",
   "name": "python",
   "nbconvert_exporter": "python",
   "pygments_lexer": "ipython3",
   "version": "3.8.8"
  }
 },
 "nbformat": 4,
 "nbformat_minor": 2
}
