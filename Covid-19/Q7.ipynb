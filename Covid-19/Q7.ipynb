{
 "cells": [
  {
   "cell_type": "markdown",
   "metadata": {},
   "source": [
    "# 7.For each state, district and overall, find the following ratios: total number of Covishield vaccinated persons (either 1 or 2 doses) to total number of Covaxin vaccinated persons(same)."
   ]
  },
  {
   "cell_type": "code",
   "execution_count": 1,
   "metadata": {
    "execution": {
     "iopub.execute_input": "2021-09-21T14:24:32.022190Z",
     "iopub.status.busy": "2021-09-21T14:24:32.021184Z",
     "iopub.status.idle": "2021-09-21T14:24:33.185865Z",
     "shell.execute_reply": "2021-09-21T14:24:33.185865Z"
    }
   },
   "outputs": [],
   "source": [
    "import pandas as pd\n",
    "from datetime import datetime\n",
    "from datetime import timedelta \n",
    "import os"
   ]
  },
  {
   "cell_type": "code",
   "execution_count": 2,
   "metadata": {
    "execution": {
     "iopub.execute_input": "2021-09-21T14:24:33.192849Z",
     "iopub.status.busy": "2021-09-21T14:24:33.192849Z",
     "iopub.status.idle": "2021-09-21T14:24:33.202003Z",
     "shell.execute_reply": "2021-09-21T14:24:33.201006Z"
    }
   },
   "outputs": [],
   "source": [
    "distkey = 'cowin_vaccine_data_districtwise.csv'"
   ]
  },
  {
   "cell_type": "code",
   "execution_count": 3,
   "metadata": {
    "execution": {
     "iopub.execute_input": "2021-09-21T14:24:33.210062Z",
     "iopub.status.busy": "2021-09-21T14:24:33.208502Z",
     "iopub.status.idle": "2021-09-21T14:24:37.575609Z",
     "shell.execute_reply": "2021-09-21T14:24:37.574612Z"
    }
   },
   "outputs": [],
   "source": [
    "census_2011 =\"Census2011data.xlsx\"\n",
    "df_census=pd.read_excel(census_2011,usecols= 'A,G,H,I,K')"
   ]
  },
  {
   "cell_type": "code",
   "execution_count": 4,
   "metadata": {
    "execution": {
     "iopub.execute_input": "2021-09-21T14:24:37.582727Z",
     "iopub.status.busy": "2021-09-21T14:24:37.582727Z",
     "iopub.status.idle": "2021-09-21T14:24:37.605118Z",
     "shell.execute_reply": "2021-09-21T14:24:37.603223Z"
    }
   },
   "outputs": [],
   "source": [
    "Name_changes={\"JAMMU & KASHMIR\": \"Jammu and Kashmir\",\n",
    "               \"ANDAMAN & NICOBAR ISLANDS\": \"Andaman and Nicobar Islands\",\n",
    "               \"DADRA & NAGAR HAVELI\": \"Dadra and Nagar Haveli and Daman and Diu\",\n",
    "               \"DAMAN & DIU\": \"Dadra and Nagar Haveli and Daman and Diu\",\"Mumbai Suburban\":\"Mumbai\"}\n",
    "state_id_change={26:25}\n"
   ]
  },
  {
   "cell_type": "code",
   "execution_count": 5,
   "metadata": {
    "execution": {
     "iopub.execute_input": "2021-09-21T14:24:37.626615Z",
     "iopub.status.busy": "2021-09-21T14:24:37.625566Z",
     "iopub.status.idle": "2021-09-21T14:24:37.648457Z",
     "shell.execute_reply": "2021-09-21T14:24:37.648457Z"
    }
   },
   "outputs": [],
   "source": [
    "df_census.replace({'Name': Name_changes,\"State\":state_id_change},inplace= True)"
   ]
  },
  {
   "cell_type": "code",
   "execution_count": 6,
   "metadata": {
    "execution": {
     "iopub.execute_input": "2021-09-21T14:24:37.663954Z",
     "iopub.status.busy": "2021-09-21T14:24:37.663954Z",
     "iopub.status.idle": "2021-09-21T14:24:37.700525Z",
     "shell.execute_reply": "2021-09-21T14:24:37.700525Z"
    }
   },
   "outputs": [],
   "source": [
    "df_census=df_census.groupby([\"State\",\"Level\",\"Name\",\"TRU\"], as_index=False)[\"TOT_P\"].sum()"
   ]
  },
  {
   "cell_type": "code",
   "execution_count": 7,
   "metadata": {
    "execution": {
     "iopub.execute_input": "2021-09-21T14:24:37.722449Z",
     "iopub.status.busy": "2021-09-21T14:24:37.720838Z",
     "iopub.status.idle": "2021-09-21T14:24:37.743980Z",
     "shell.execute_reply": "2021-09-21T14:24:37.743980Z"
    }
   },
   "outputs": [],
   "source": [
    "df_state = df_census[df_census['Level'] == 'STATE']\n",
    "df_state = df_state.groupby(['Name'])['State'].max().reset_index(name='Stateid') \n",
    "df_state = df_state.rename(columns = {'Name':'State Name'})"
   ]
  },
  {
   "cell_type": "code",
   "execution_count": 8,
   "metadata": {
    "execution": {
     "iopub.execute_input": "2021-09-21T14:24:37.763058Z",
     "iopub.status.busy": "2021-09-21T14:24:37.760874Z",
     "iopub.status.idle": "2021-09-21T14:24:37.775342Z",
     "shell.execute_reply": "2021-09-21T14:24:37.775342Z"
    }
   },
   "outputs": [],
   "source": [
    "data = pd.merge(df_census,df_state,how='inner',left_on='State',right_on = ['Stateid'])"
   ]
  },
  {
   "cell_type": "code",
   "execution_count": 9,
   "metadata": {
    "execution": {
     "iopub.execute_input": "2021-09-21T14:24:37.788291Z",
     "iopub.status.busy": "2021-09-21T14:24:37.786459Z",
     "iopub.status.idle": "2021-09-21T14:24:37.811071Z",
     "shell.execute_reply": "2021-09-21T14:24:37.811071Z"
    }
   },
   "outputs": [],
   "source": [
    "data = data[data['Level'] == 'DISTRICT']"
   ]
  },
  {
   "cell_type": "code",
   "execution_count": 10,
   "metadata": {
    "execution": {
     "iopub.execute_input": "2021-09-21T14:24:37.825907Z",
     "iopub.status.busy": "2021-09-21T14:24:37.824858Z",
     "iopub.status.idle": "2021-09-21T14:24:37.846851Z",
     "shell.execute_reply": "2021-09-21T14:24:37.846851Z"
    }
   },
   "outputs": [],
   "source": [
    "data = data[['State Name','Name','TRU','TOT_P']]"
   ]
  },
  {
   "cell_type": "code",
   "execution_count": 11,
   "metadata": {
    "execution": {
     "iopub.execute_input": "2021-09-21T14:24:37.882013Z",
     "iopub.status.busy": "2021-09-21T14:24:37.870970Z",
     "iopub.status.idle": "2021-09-21T14:24:37.903830Z",
     "shell.execute_reply": "2021-09-21T14:24:37.903830Z"
    }
   },
   "outputs": [],
   "source": [
    "rename_dist = {'Allahabad ':'Prayagraj','Ahmadabad':'Ahmedabad', 'East District':'East Sikkim',\n",
    "        'North  District': 'North Sikkim', 'South District':'South Sikkim','West District':'West Sikkim','Garhwal':'Pauri Garhwal',\n",
    "         'Gulbarga':'Kalaburagi','Ahmadnagar':'Ahmednagar','Almora\\n':'Almora','Amritsar ':'Amritsar',\n",
    "       'Anand  ': 'Anand','Anugul  ':'Angul','Ariyalur  ':'Ariyalur','Badgam':'Budgam','Bagalkot ':'Bagalkote',\n",
    "        'Baleshwar':'Balasore','Banas Kantha':'Banaskantha','Bandipore':'Bandipora','Bangalore Rural':'Bengaluru Rural',\n",
    "        'Bangalore':'Bengaluru Urban','Bijapur':'Vijayapura',\n",
    "        'Bankura ':'Bankura','Bara Banki':'Barabanki','Baramula':'Baramulla',\"Barddhaman \":\"Barddhaman\",'Barwani ':'Barwani','Baudh':'Boudh',\n",
    "        'Belgaum':'Belagavi','Bellary':'Ballari', 'Bid':'Beed','Bulandshahr ':'Bulandshahr','Buldana':'Buldhana',\n",
    "        'Central':'Central Delhi','Chamarajanagar':'Chamarajanagara','Chikmagalur':'Chikkamagaluru',\n",
    "         'Chittaurgarh':'Chittorgarh', 'Dadra & Nagar Haveli':'Dadra and Nagar Haveli', 'Darjiling ':'Darjeeling',\n",
    "         'Debagarh':'Deogarh', 'Dhamtari ':'Dhamtari', 'Dhaulpur':'Dholpur', 'Dimapur ':'Dimapur', 'Dindori ':'Dindori',\n",
    "        'Dohad  ':'Dahod', 'East':'East Delhi', 'Faizabad':'Ayodhya', 'Firozpur':'Ferozepur', 'Ganganagar ':'Ganganagar',\n",
    "         'Garhwa ':'Garhwa', 'Gondiya':'Gondia', 'Gurgaon':'Gurugram', 'Haora ':'Howrah', 'Harda ':'Harda',\n",
    "         'Hardwar':'Haridwar', 'Hugli ':'Hooghly', 'Idukki ':'Idukki','Jagatsinghapur ':'Jagatsinghpur',\n",
    "         'Jaintia Hills':'West Jaintia Hills', 'Jajapur  ':'Jajpur', 'Jalaun ':'Jalaun', 'Jalor':'Jalore',\n",
    "         'Jalpaiguri ':'Jalpaiguri', 'Janjgir - Champa':'Janjgir Champa', 'Jashpur ':'Jashpur', 'Jehanabad ':'Jehanabad',\n",
    "        'Jhunjhunun':'Jhunjhunu', 'Jyotiba Phule Nagar':'Amroha', 'Kachchh':'Kutch', 'Kaimur (Bhabua)':'Kaimur',\n",
    "         'Kanniyakumari':'Kanyakumari', 'Kanshiram Nagar':'Kasganj', 'Kapurthala ':'Kapurthala', 'Karur ':'Karur',\n",
    "         'Katni ':'Katni', 'Kendrapara ': 'Kendrapara', 'Khandwa (East Nimar)':'Khandwa','Khargone (West Nimar)':'Khargone',\n",
    "         'Kheri':'Lakhimpur Kheri', 'Khordha ':'Khordha', 'Koch Bihar ':'Cooch Behar', 'Kodarma':'Koderma', 'Korba ':'Korba',\n",
    "         'Lahul & Spiti':'Lahaul and Spiti', 'Leh(Ladakh)':'Leh', 'Mahamaya Nagar':'Hathras', 'Mahbubnagar':'Mahabubnagar',\n",
    "        'Mahesana':'Mehsana', 'Mahrajganj':'Maharajganj', 'Maldah ':'Malda', 'Malkangiri  ':'Malkangiri', 'Mewat ':'Nuh',\n",
    "         'Muktsar':'Sri Muktsar Sahib', 'Murshidabad ':'Murshidabad', 'Mysore':'Mysuru', 'Nabarangapur ':'Nabarangapur',\n",
    "         'Nadia ':'Nadia', 'Nagapattinam  ': 'Nagapattinam','Namakkal   ':'Namakkal', 'Narsimhapur':'Narsinghpur', 'Navsari  ':'Navsari', 'Nayagarh  ':'Nayagarh',\n",
    "         'Neemuch ':'Neemuch', 'North':'North Delhi', 'North  & Middle Andaman':'North and Middle Andaman', 'North East':'North East Delhi',\n",
    "         'North Twenty Four Parganas':'North 24 Parganas', 'North West':'North West Delhi', 'Palwal ':'Palwal',\n",
    "         'Panch Mahals':'Panchmahal','Pashchim Champaran':'West Champaran', 'Pashchimi Singhbhum':'West Singhbhum', 'Patan  ':'Patan',\n",
    "         'Perambalur  ':'Perambalur', 'Porbandar ':'Porbandar', 'Purba Champaran':'East Champaran', 'Purbi Singhbhum': 'East Singhbhum',\n",
    "         'Puruliya':'Purulia', 'Rangareddy':'Ranga Reddy',\"Raigarh\":\"Raigad\",'Rayagada  ':'Rayagada','Sabar Kantha':'Sabarkantha', 'Sahibzada Ajit Singh Nagar':'S.A.S. Nagar', 'Sant Ravidas Nagar (Bhadohi)':'Bhadohi',\n",
    "         'Shahid Bhagat Singh Nagar ':'Shahid Bhagat Singh Nagar', 'Sheopur ':'Sheopur', 'Shimoga':'Shivamogga',\n",
    "         'Shupiyan': 'Shopiyan', 'South':'South Delhi','South Tripura ':'South Tripura', 'South Twenty Four Parganas':'South 24 Parganas', 'South West':'South West Delhi',\n",
    "         'Sri Potti Sriramulu Nellore':'S.P.S. Nellore', 'Tamenglong ':'Tamenglong', 'The Dangs':'Dang',\n",
    "         'The Nilgiris':'Nilgiris', 'Theni  ': 'Theni', 'Tirunelveli ':'Tirunelveli', 'Tumkur':'Tumakuru',\n",
    "         'West':'West Delhi', 'West Tripura ':'West Tripura', 'Y.S.R.':'Y.S.R. Kadapa'}"
   ]
  },
  {
   "cell_type": "code",
   "execution_count": 12,
   "metadata": {
    "execution": {
     "iopub.execute_input": "2021-09-21T14:24:37.926198Z",
     "iopub.status.busy": "2021-09-21T14:24:37.925162Z",
     "iopub.status.idle": "2021-09-21T14:24:37.992598Z",
     "shell.execute_reply": "2021-09-21T14:24:37.991554Z"
    }
   },
   "outputs": [
    {
     "name": "stdout",
     "output_type": "stream",
     "text": [
      "142\n"
     ]
    }
   ],
   "source": [
    "print(len(rename_dist))\n",
    "data.replace({'Name':rename_dist},inplace=True)"
   ]
  },
  {
   "cell_type": "code",
   "execution_count": 13,
   "metadata": {
    "execution": {
     "iopub.execute_input": "2021-09-21T14:24:38.008997Z",
     "iopub.status.busy": "2021-09-21T14:24:38.008997Z",
     "iopub.status.idle": "2021-09-21T14:24:38.031181Z",
     "shell.execute_reply": "2021-09-21T14:24:38.032526Z"
    }
   },
   "outputs": [],
   "source": [
    "data['State Name'] = data['State Name'].str.upper()\n",
    "data['Name'] = data['Name'].str.upper()"
   ]
  },
  {
   "cell_type": "code",
   "execution_count": 14,
   "metadata": {
    "execution": {
     "iopub.execute_input": "2021-09-21T14:24:38.044835Z",
     "iopub.status.busy": "2021-09-21T14:24:38.043832Z",
     "iopub.status.idle": "2021-09-21T14:24:38.063846Z",
     "shell.execute_reply": "2021-09-21T14:24:38.061852Z"
    }
   },
   "outputs": [],
   "source": [
    "data = data[data['TRU'] == 'Total']"
   ]
  },
  {
   "cell_type": "code",
   "execution_count": 15,
   "metadata": {
    "execution": {
     "iopub.execute_input": "2021-09-21T14:24:38.075384Z",
     "iopub.status.busy": "2021-09-21T14:24:38.074394Z",
     "iopub.status.idle": "2021-09-21T14:24:38.336487Z",
     "shell.execute_reply": "2021-09-21T14:24:38.335491Z"
    }
   },
   "outputs": [],
   "source": [
    "#taking cowin data\n",
    "df1 = pd.read_csv(distkey,index_col=0,usecols=[0,1,2,3,4,5,2114,2115],low_memory=False)"
   ]
  },
  {
   "cell_type": "code",
   "execution_count": 16,
   "metadata": {
    "execution": {
     "iopub.execute_input": "2021-09-21T14:24:38.345588Z",
     "iopub.status.busy": "2021-09-21T14:24:38.344595Z",
     "iopub.status.idle": "2021-09-21T14:24:38.365850Z",
     "shell.execute_reply": "2021-09-21T14:24:38.365850Z"
    }
   },
   "outputs": [],
   "source": [
    "df1 = df1[df1['14/08/2021.8'] != 'Covaxin (Doses Administered)']"
   ]
  },
  {
   "cell_type": "code",
   "execution_count": 17,
   "metadata": {
    "execution": {
     "iopub.execute_input": "2021-09-21T14:24:38.378229Z",
     "iopub.status.busy": "2021-09-21T14:24:38.375803Z",
     "iopub.status.idle": "2021-09-21T14:24:38.381032Z",
     "shell.execute_reply": "2021-09-21T14:24:38.381032Z"
    }
   },
   "outputs": [],
   "source": [
    "df1 = df1.rename(columns = {'14/08/2021.8':'Covaxin','14/08/2021.9' : 'Covishield'})"
   ]
  },
  {
   "cell_type": "code",
   "execution_count": 18,
   "metadata": {
    "execution": {
     "iopub.execute_input": "2021-09-21T14:24:38.411076Z",
     "iopub.status.busy": "2021-09-21T14:24:38.409471Z",
     "iopub.status.idle": "2021-09-21T14:24:38.459389Z",
     "shell.execute_reply": "2021-09-21T14:24:38.459389Z"
    }
   },
   "outputs": [
    {
     "data": {
      "text/html": [
       "<div>\n",
       "<style scoped>\n",
       "    .dataframe tbody tr th:only-of-type {\n",
       "        vertical-align: middle;\n",
       "    }\n",
       "\n",
       "    .dataframe tbody tr th {\n",
       "        vertical-align: top;\n",
       "    }\n",
       "\n",
       "    .dataframe thead th {\n",
       "        text-align: right;\n",
       "    }\n",
       "</style>\n",
       "<table border=\"1\" class=\"dataframe\">\n",
       "  <thead>\n",
       "    <tr style=\"text-align: right;\">\n",
       "      <th></th>\n",
       "      <th>State</th>\n",
       "      <th>State_Code</th>\n",
       "      <th>District</th>\n",
       "      <th>District_Key</th>\n",
       "      <th>Covaxin</th>\n",
       "      <th>Covishield</th>\n",
       "    </tr>\n",
       "    <tr>\n",
       "      <th>S No</th>\n",
       "      <th></th>\n",
       "      <th></th>\n",
       "      <th></th>\n",
       "      <th></th>\n",
       "      <th></th>\n",
       "      <th></th>\n",
       "    </tr>\n",
       "  </thead>\n",
       "  <tbody>\n",
       "    <tr>\n",
       "      <th>1.0</th>\n",
       "      <td>Andaman and Nicobar Islands</td>\n",
       "      <td>AN</td>\n",
       "      <td>Nicobars</td>\n",
       "      <td>AN_Nicobars</td>\n",
       "      <td>0</td>\n",
       "      <td>30191</td>\n",
       "    </tr>\n",
       "    <tr>\n",
       "      <th>2.0</th>\n",
       "      <td>Andaman and Nicobar Islands</td>\n",
       "      <td>AN</td>\n",
       "      <td>North and Middle Andaman</td>\n",
       "      <td>AN_North and Middle Andaman</td>\n",
       "      <td>0</td>\n",
       "      <td>97324</td>\n",
       "    </tr>\n",
       "    <tr>\n",
       "      <th>3.0</th>\n",
       "      <td>Andaman and Nicobar Islands</td>\n",
       "      <td>AN</td>\n",
       "      <td>South Andaman</td>\n",
       "      <td>AN_South Andaman</td>\n",
       "      <td>0</td>\n",
       "      <td>202481</td>\n",
       "    </tr>\n",
       "    <tr>\n",
       "      <th>4.0</th>\n",
       "      <td>Andhra Pradesh</td>\n",
       "      <td>AP</td>\n",
       "      <td>Anantapur</td>\n",
       "      <td>AP_Anantapur</td>\n",
       "      <td>280843</td>\n",
       "      <td>1680877</td>\n",
       "    </tr>\n",
       "    <tr>\n",
       "      <th>5.0</th>\n",
       "      <td>Andhra Pradesh</td>\n",
       "      <td>AP</td>\n",
       "      <td>Chittoor</td>\n",
       "      <td>AP_Chittoor</td>\n",
       "      <td>380464</td>\n",
       "      <td>1811380</td>\n",
       "    </tr>\n",
       "    <tr>\n",
       "      <th>...</th>\n",
       "      <td>...</td>\n",
       "      <td>...</td>\n",
       "      <td>...</td>\n",
       "      <td>...</td>\n",
       "      <td>...</td>\n",
       "      <td>...</td>\n",
       "    </tr>\n",
       "    <tr>\n",
       "      <th>751.0</th>\n",
       "      <td>West Bengal</td>\n",
       "      <td>WB</td>\n",
       "      <td>Purulia</td>\n",
       "      <td>WB_Purulia</td>\n",
       "      <td>119235</td>\n",
       "      <td>667928</td>\n",
       "    </tr>\n",
       "    <tr>\n",
       "      <th>752.0</th>\n",
       "      <td>West Bengal</td>\n",
       "      <td>WB</td>\n",
       "      <td>Birbhum</td>\n",
       "      <td>WB_Birbhum</td>\n",
       "      <td>66816</td>\n",
       "      <td>443747</td>\n",
       "    </tr>\n",
       "    <tr>\n",
       "      <th>753.0</th>\n",
       "      <td>West Bengal</td>\n",
       "      <td>WB</td>\n",
       "      <td>South 24 Parganas</td>\n",
       "      <td>WB_South 24 Parganas</td>\n",
       "      <td>155874</td>\n",
       "      <td>1608273</td>\n",
       "    </tr>\n",
       "    <tr>\n",
       "      <th>754.0</th>\n",
       "      <td>West Bengal</td>\n",
       "      <td>WB</td>\n",
       "      <td>Uttar Dinajpur</td>\n",
       "      <td>WB_Uttar Dinajpur</td>\n",
       "      <td>115375</td>\n",
       "      <td>598638</td>\n",
       "    </tr>\n",
       "    <tr>\n",
       "      <th>755.0</th>\n",
       "      <td>West Bengal</td>\n",
       "      <td>WB</td>\n",
       "      <td>Paschim Bardhaman</td>\n",
       "      <td>WB_Paschim Bardhaman</td>\n",
       "      <td>127712</td>\n",
       "      <td>917162</td>\n",
       "    </tr>\n",
       "  </tbody>\n",
       "</table>\n",
       "<p>754 rows × 6 columns</p>\n",
       "</div>"
      ],
      "text/plain": [
       "                             State State_Code                  District  \\\n",
       "S No                                                                      \n",
       "1.0    Andaman and Nicobar Islands         AN                  Nicobars   \n",
       "2.0    Andaman and Nicobar Islands         AN  North and Middle Andaman   \n",
       "3.0    Andaman and Nicobar Islands         AN             South Andaman   \n",
       "4.0                 Andhra Pradesh         AP                 Anantapur   \n",
       "5.0                 Andhra Pradesh         AP                  Chittoor   \n",
       "...                            ...        ...                       ...   \n",
       "751.0                  West Bengal         WB                   Purulia   \n",
       "752.0                  West Bengal         WB                   Birbhum   \n",
       "753.0                  West Bengal         WB         South 24 Parganas   \n",
       "754.0                  West Bengal         WB            Uttar Dinajpur   \n",
       "755.0                  West Bengal         WB         Paschim Bardhaman   \n",
       "\n",
       "                      District_Key Covaxin Covishield  \n",
       "S No                                                   \n",
       "1.0                    AN_Nicobars       0      30191  \n",
       "2.0    AN_North and Middle Andaman       0      97324  \n",
       "3.0               AN_South Andaman       0     202481  \n",
       "4.0                   AP_Anantapur  280843    1680877  \n",
       "5.0                    AP_Chittoor  380464    1811380  \n",
       "...                            ...     ...        ...  \n",
       "751.0                   WB_Purulia  119235     667928  \n",
       "752.0                   WB_Birbhum   66816     443747  \n",
       "753.0         WB_South 24 Parganas  155874    1608273  \n",
       "754.0            WB_Uttar Dinajpur  115375     598638  \n",
       "755.0         WB_Paschim Bardhaman  127712     917162  \n",
       "\n",
       "[754 rows x 6 columns]"
      ]
     },
     "execution_count": 1,
     "metadata": {},
     "output_type": "execute_result"
    }
   ],
   "source": [
    "df1 = df1[['State','State_Code','District','District_Key','Covaxin','Covishield']]\n",
    "df1"
   ]
  },
  {
   "cell_type": "code",
   "execution_count": 19,
   "metadata": {
    "execution": {
     "iopub.execute_input": "2021-09-21T14:24:38.473286Z",
     "iopub.status.busy": "2021-09-21T14:24:38.473286Z",
     "iopub.status.idle": "2021-09-21T14:24:38.494772Z",
     "shell.execute_reply": "2021-09-21T14:24:38.494772Z"
    }
   },
   "outputs": [],
   "source": [
    "df1['State'] = df1['State'].str.upper()\n",
    "df1['District'] = df1['District'].str.upper()"
   ]
  },
  {
   "cell_type": "code",
   "execution_count": 20,
   "metadata": {
    "execution": {
     "iopub.execute_input": "2021-09-21T14:24:38.506768Z",
     "iopub.status.busy": "2021-09-21T14:24:38.506768Z",
     "iopub.status.idle": "2021-09-21T14:24:38.528474Z",
     "shell.execute_reply": "2021-09-21T14:24:38.528474Z"
    }
   },
   "outputs": [],
   "source": [
    "df1.replace({'State': {\"DELHI\": \"NCT OF DELHI\",\"TELANGANA\": \"ANDHRA PRADESH\"}},inplace= True)"
   ]
  },
  {
   "cell_type": "code",
   "execution_count": 21,
   "metadata": {
    "execution": {
     "iopub.execute_input": "2021-09-21T14:24:38.545795Z",
     "iopub.status.busy": "2021-09-21T14:24:38.541248Z",
     "iopub.status.idle": "2021-09-21T14:24:38.561004Z",
     "shell.execute_reply": "2021-09-21T14:24:38.561004Z"
    }
   },
   "outputs": [],
   "source": [
    "dist_changes={\"WARANGAL RURAL\":\"WARANGAL\",\"WARANGAL URBAN\":\"WARANGAL\",\"KOMARAM BHEEM\":\"ADILABAD\",\"MANCHERIAL\":\"ADILABAD\",\n",
    "\"NIRMAL\":\"ADILABAD\",\"WANAPARTHY\":\"MAHABUBNAGAR\",\"NAGARKURNOOL\":\"MAHABUBNAGAR\",\"KAMAREDDY\":\"NIZAMABAD\",\"SANGAREDDY\":\"MEDAK\",\n",
    "\"SIDDIPET\":\"MEDAK\",\"BHADRADRI KOTHAGUDEM\":\"KHAMMAM\",\"JAGTIAL\":\"KARIMNAGAR\",\"JANGAON\":\"NALGONDA\",\n",
    "\"JAYASHANKAR BHUPALAPALLY\":\"KARIMNAGAR\",\"JOGULAMBA GADWAL\":\"MAHABUBNAGAR\",\"MEDCHAL MALKAJGIRI\":\"RANGA REDDY\",\n",
    "\"MULUGU\":\"WARANGAL\",\"NARAYANPET\":\"MAHABUBNAGAR\",\n",
    "\"PEDDAPALLI\":\"KARIMNAGAR\",\"RAJANNA SIRCILLA\":\"KARIMNAGAR\",\"SURYAPET\":\"NALGONDA\",\"VIKARABAD\":\"RANGA REDDY\",\n",
    "              \"YADADRI BHUVANAGIRI\":\"NALGONDA\"\n",
    "             }\n",
    "dist_key_changes={\"TG_Warangal Rural\":\"TG_Warangal\",\"TG_Warangal Urban\":\"TG_Warangal\",\"TG_Komaram Bheem\":\"TG_Adilabad\",\n",
    "\"TG_Mancherial\":\"TG_Adilabad\",\"TG_Nirmal\":\"TG_Adilabad\",\"TG_Wanaparthy\":\"TG_Mahabubnagar\",\"TG_Nagarkurnool\":\"TG_Mahabubnagar\",\n",
    "\"TG_Kamareddy\":\"TG_Nizamabad\",\"TG_Sangareddy\":\"TG_Medak\",\"TG_Siddipet\":\"TG_Medak\",\"TG_Bhadradri Kothagudem\":\"TG_Khammam\",\n",
    "\"TG_Jagtial\":\"TG_Karimnagar\",\"TG_Jangaon\":\"TG_Nalgonda\",\"TG_Jayashankar Bhupalapally\":\"TG_Karimnagar\",\n",
    "\"TG_Jogulamba Gadwal\":\"TG_Mahabubnagar\",\"TG_Medchal Malkajgiri\":\"TG_Ranga Reddy\",\"TG_Mulugu\":\"TG_Warangal\",\n",
    "\"TG_Narayanpet\":\"TG_Mahabubnagar\",\"TG_Peddapalli\":\"TG_Karimnagar\",\"TG_Rajanna Sircilla\":\"TG_Karimnagar\",\n",
    "\"TG_Suryapet\":\"TG_Nalgonda\",\"TG_Vikarabad\":\"TG_Ranga Reddy\",\"TG_Yadadri Bhuvanagiri\":\"TG_Nalgonda\"\n",
    "                 }"
   ]
  },
  {
   "cell_type": "code",
   "execution_count": 22,
   "metadata": {
    "execution": {
     "iopub.execute_input": "2021-09-21T14:24:38.582561Z",
     "iopub.status.busy": "2021-09-21T14:24:38.581567Z",
     "iopub.status.idle": "2021-09-21T14:24:38.604066Z",
     "shell.execute_reply": "2021-09-21T14:24:38.603067Z"
    }
   },
   "outputs": [],
   "source": [
    "df1.replace({'District': dist_changes,\"District_Key\":dist_key_changes},inplace= True)"
   ]
  },
  {
   "cell_type": "code",
   "execution_count": 23,
   "metadata": {
    "execution": {
     "iopub.execute_input": "2021-09-21T14:24:38.617103Z",
     "iopub.status.busy": "2021-09-21T14:24:38.617103Z",
     "iopub.status.idle": "2021-09-21T14:24:38.637830Z",
     "shell.execute_reply": "2021-09-21T14:24:38.637830Z"
    }
   },
   "outputs": [],
   "source": [
    "df1.replace({'District': {\"PASCHIM BARDHAMAN\":\"BARDDHAMAN\",\"PURBA BARDHAMAN\":\"BARDDHAMAN\"},\n",
    "             \"District_Key\":{\"WB_Paschim Bardhaman\":\"WB_Barddhaman\",\"WB_Purba Bardhaman\":\"WB_Barddhaman\"}},inplace= True)"
   ]
  },
  {
   "cell_type": "code",
   "execution_count": 24,
   "metadata": {
    "execution": {
     "iopub.execute_input": "2021-09-21T14:24:38.653279Z",
     "iopub.status.busy": "2021-09-21T14:24:38.652242Z",
     "iopub.status.idle": "2021-09-21T14:24:38.674336Z",
     "shell.execute_reply": "2021-09-21T14:24:38.674336Z"
    }
   },
   "outputs": [],
   "source": [
    "df1.replace({'State': {\"LADAKH\": \"JAMMU AND KASHMIR\"}},inplace= True)"
   ]
  },
  {
   "cell_type": "code",
   "execution_count": 25,
   "metadata": {
    "execution": {
     "iopub.execute_input": "2021-09-21T14:24:38.717623Z",
     "iopub.status.busy": "2021-09-21T14:24:38.716619Z",
     "iopub.status.idle": "2021-09-21T14:24:38.744137Z",
     "shell.execute_reply": "2021-09-21T14:24:38.744137Z"
    }
   },
   "outputs": [
    {
     "data": {
      "text/html": [
       "<div>\n",
       "<style scoped>\n",
       "    .dataframe tbody tr th:only-of-type {\n",
       "        vertical-align: middle;\n",
       "    }\n",
       "\n",
       "    .dataframe tbody tr th {\n",
       "        vertical-align: top;\n",
       "    }\n",
       "\n",
       "    .dataframe thead th {\n",
       "        text-align: right;\n",
       "    }\n",
       "</style>\n",
       "<table border=\"1\" class=\"dataframe\">\n",
       "  <thead>\n",
       "    <tr style=\"text-align: right;\">\n",
       "      <th></th>\n",
       "      <th>State</th>\n",
       "      <th>State_Code</th>\n",
       "      <th>District</th>\n",
       "      <th>District_Key</th>\n",
       "      <th>Covaxin</th>\n",
       "      <th>Covishield</th>\n",
       "    </tr>\n",
       "    <tr>\n",
       "      <th>S No</th>\n",
       "      <th></th>\n",
       "      <th></th>\n",
       "      <th></th>\n",
       "      <th></th>\n",
       "      <th></th>\n",
       "      <th></th>\n",
       "    </tr>\n",
       "  </thead>\n",
       "  <tbody>\n",
       "    <tr>\n",
       "      <th>1.0</th>\n",
       "      <td>ANDAMAN AND NICOBAR ISLANDS</td>\n",
       "      <td>AN</td>\n",
       "      <td>NICOBARS</td>\n",
       "      <td>AN_Nicobars</td>\n",
       "      <td>0</td>\n",
       "      <td>30191</td>\n",
       "    </tr>\n",
       "    <tr>\n",
       "      <th>2.0</th>\n",
       "      <td>ANDAMAN AND NICOBAR ISLANDS</td>\n",
       "      <td>AN</td>\n",
       "      <td>NORTH AND MIDDLE ANDAMAN</td>\n",
       "      <td>AN_North and Middle Andaman</td>\n",
       "      <td>0</td>\n",
       "      <td>97324</td>\n",
       "    </tr>\n",
       "    <tr>\n",
       "      <th>3.0</th>\n",
       "      <td>ANDAMAN AND NICOBAR ISLANDS</td>\n",
       "      <td>AN</td>\n",
       "      <td>SOUTH ANDAMAN</td>\n",
       "      <td>AN_South Andaman</td>\n",
       "      <td>0</td>\n",
       "      <td>202481</td>\n",
       "    </tr>\n",
       "    <tr>\n",
       "      <th>4.0</th>\n",
       "      <td>ANDHRA PRADESH</td>\n",
       "      <td>AP</td>\n",
       "      <td>ANANTAPUR</td>\n",
       "      <td>AP_Anantapur</td>\n",
       "      <td>280843</td>\n",
       "      <td>1680877</td>\n",
       "    </tr>\n",
       "    <tr>\n",
       "      <th>5.0</th>\n",
       "      <td>ANDHRA PRADESH</td>\n",
       "      <td>AP</td>\n",
       "      <td>CHITTOOR</td>\n",
       "      <td>AP_Chittoor</td>\n",
       "      <td>380464</td>\n",
       "      <td>1811380</td>\n",
       "    </tr>\n",
       "    <tr>\n",
       "      <th>...</th>\n",
       "      <td>...</td>\n",
       "      <td>...</td>\n",
       "      <td>...</td>\n",
       "      <td>...</td>\n",
       "      <td>...</td>\n",
       "      <td>...</td>\n",
       "    </tr>\n",
       "    <tr>\n",
       "      <th>751.0</th>\n",
       "      <td>WEST BENGAL</td>\n",
       "      <td>WB</td>\n",
       "      <td>PURULIA</td>\n",
       "      <td>WB_Purulia</td>\n",
       "      <td>119235</td>\n",
       "      <td>667928</td>\n",
       "    </tr>\n",
       "    <tr>\n",
       "      <th>752.0</th>\n",
       "      <td>WEST BENGAL</td>\n",
       "      <td>WB</td>\n",
       "      <td>BIRBHUM</td>\n",
       "      <td>WB_Birbhum</td>\n",
       "      <td>66816</td>\n",
       "      <td>443747</td>\n",
       "    </tr>\n",
       "    <tr>\n",
       "      <th>753.0</th>\n",
       "      <td>WEST BENGAL</td>\n",
       "      <td>WB</td>\n",
       "      <td>SOUTH 24 PARGANAS</td>\n",
       "      <td>WB_South 24 Parganas</td>\n",
       "      <td>155874</td>\n",
       "      <td>1608273</td>\n",
       "    </tr>\n",
       "    <tr>\n",
       "      <th>754.0</th>\n",
       "      <td>WEST BENGAL</td>\n",
       "      <td>WB</td>\n",
       "      <td>UTTAR DINAJPUR</td>\n",
       "      <td>WB_Uttar Dinajpur</td>\n",
       "      <td>115375</td>\n",
       "      <td>598638</td>\n",
       "    </tr>\n",
       "    <tr>\n",
       "      <th>755.0</th>\n",
       "      <td>WEST BENGAL</td>\n",
       "      <td>WB</td>\n",
       "      <td>BARDDHAMAN</td>\n",
       "      <td>WB_Barddhaman</td>\n",
       "      <td>127712</td>\n",
       "      <td>917162</td>\n",
       "    </tr>\n",
       "  </tbody>\n",
       "</table>\n",
       "<p>754 rows × 6 columns</p>\n",
       "</div>"
      ],
      "text/plain": [
       "                             State State_Code                  District  \\\n",
       "S No                                                                      \n",
       "1.0    ANDAMAN AND NICOBAR ISLANDS         AN                  NICOBARS   \n",
       "2.0    ANDAMAN AND NICOBAR ISLANDS         AN  NORTH AND MIDDLE ANDAMAN   \n",
       "3.0    ANDAMAN AND NICOBAR ISLANDS         AN             SOUTH ANDAMAN   \n",
       "4.0                 ANDHRA PRADESH         AP                 ANANTAPUR   \n",
       "5.0                 ANDHRA PRADESH         AP                  CHITTOOR   \n",
       "...                            ...        ...                       ...   \n",
       "751.0                  WEST BENGAL         WB                   PURULIA   \n",
       "752.0                  WEST BENGAL         WB                   BIRBHUM   \n",
       "753.0                  WEST BENGAL         WB         SOUTH 24 PARGANAS   \n",
       "754.0                  WEST BENGAL         WB            UTTAR DINAJPUR   \n",
       "755.0                  WEST BENGAL         WB                BARDDHAMAN   \n",
       "\n",
       "                      District_Key Covaxin Covishield  \n",
       "S No                                                   \n",
       "1.0                    AN_Nicobars       0      30191  \n",
       "2.0    AN_North and Middle Andaman       0      97324  \n",
       "3.0               AN_South Andaman       0     202481  \n",
       "4.0                   AP_Anantapur  280843    1680877  \n",
       "5.0                    AP_Chittoor  380464    1811380  \n",
       "...                            ...     ...        ...  \n",
       "751.0                   WB_Purulia  119235     667928  \n",
       "752.0                   WB_Birbhum   66816     443747  \n",
       "753.0         WB_South 24 Parganas  155874    1608273  \n",
       "754.0            WB_Uttar Dinajpur  115375     598638  \n",
       "755.0                WB_Barddhaman  127712     917162  \n",
       "\n",
       "[754 rows x 6 columns]"
      ]
     },
     "execution_count": 1,
     "metadata": {},
     "output_type": "execute_result"
    }
   ],
   "source": [
    "df1"
   ]
  },
  {
   "cell_type": "code",
   "execution_count": 26,
   "metadata": {
    "execution": {
     "iopub.execute_input": "2021-09-21T14:24:38.764102Z",
     "iopub.status.busy": "2021-09-21T14:24:38.758849Z",
     "iopub.status.idle": "2021-09-21T14:24:38.835627Z",
     "shell.execute_reply": "2021-09-21T14:24:38.835627Z"
    }
   },
   "outputs": [
    {
     "data": {
      "text/html": [
       "<div>\n",
       "<style scoped>\n",
       "    .dataframe tbody tr th:only-of-type {\n",
       "        vertical-align: middle;\n",
       "    }\n",
       "\n",
       "    .dataframe tbody tr th {\n",
       "        vertical-align: top;\n",
       "    }\n",
       "\n",
       "    .dataframe thead th {\n",
       "        text-align: right;\n",
       "    }\n",
       "</style>\n",
       "<table border=\"1\" class=\"dataframe\">\n",
       "  <thead>\n",
       "    <tr style=\"text-align: right;\">\n",
       "      <th></th>\n",
       "      <th>index</th>\n",
       "      <th>State</th>\n",
       "      <th>State_Code</th>\n",
       "      <th>District</th>\n",
       "      <th>District_Key</th>\n",
       "      <th>Covaxin</th>\n",
       "      <th>Covishield</th>\n",
       "    </tr>\n",
       "  </thead>\n",
       "  <tbody>\n",
       "    <tr>\n",
       "      <th>0</th>\n",
       "      <td>0</td>\n",
       "      <td>ANDAMAN AND NICOBAR ISLANDS</td>\n",
       "      <td>AN</td>\n",
       "      <td>NICOBARS</td>\n",
       "      <td>AN_Nicobars</td>\n",
       "      <td>0</td>\n",
       "      <td>30191</td>\n",
       "    </tr>\n",
       "    <tr>\n",
       "      <th>1</th>\n",
       "      <td>1</td>\n",
       "      <td>ANDAMAN AND NICOBAR ISLANDS</td>\n",
       "      <td>AN</td>\n",
       "      <td>NORTH AND MIDDLE ANDAMAN</td>\n",
       "      <td>AN_North and Middle Andaman</td>\n",
       "      <td>0</td>\n",
       "      <td>97324</td>\n",
       "    </tr>\n",
       "    <tr>\n",
       "      <th>2</th>\n",
       "      <td>2</td>\n",
       "      <td>ANDAMAN AND NICOBAR ISLANDS</td>\n",
       "      <td>AN</td>\n",
       "      <td>SOUTH ANDAMAN</td>\n",
       "      <td>AN_South Andaman</td>\n",
       "      <td>0</td>\n",
       "      <td>202481</td>\n",
       "    </tr>\n",
       "    <tr>\n",
       "      <th>3</th>\n",
       "      <td>3</td>\n",
       "      <td>ANDHRA PRADESH</td>\n",
       "      <td>AP</td>\n",
       "      <td>ANANTAPUR</td>\n",
       "      <td>AP_Anantapur</td>\n",
       "      <td>280843</td>\n",
       "      <td>1680877</td>\n",
       "    </tr>\n",
       "    <tr>\n",
       "      <th>4</th>\n",
       "      <td>4</td>\n",
       "      <td>ANDHRA PRADESH</td>\n",
       "      <td>AP</td>\n",
       "      <td>CHITTOOR</td>\n",
       "      <td>AP_Chittoor</td>\n",
       "      <td>380464</td>\n",
       "      <td>1811380</td>\n",
       "    </tr>\n",
       "    <tr>\n",
       "      <th>...</th>\n",
       "      <td>...</td>\n",
       "      <td>...</td>\n",
       "      <td>...</td>\n",
       "      <td>...</td>\n",
       "      <td>...</td>\n",
       "      <td>...</td>\n",
       "      <td>...</td>\n",
       "    </tr>\n",
       "    <tr>\n",
       "      <th>701</th>\n",
       "      <td>701</td>\n",
       "      <td>WEST BENGAL</td>\n",
       "      <td>WB</td>\n",
       "      <td>PASCHIM MEDINIPUR</td>\n",
       "      <td>WB_Paschim Medinipur</td>\n",
       "      <td>129105</td>\n",
       "      <td>1199258</td>\n",
       "    </tr>\n",
       "    <tr>\n",
       "      <th>702</th>\n",
       "      <td>702</td>\n",
       "      <td>WEST BENGAL</td>\n",
       "      <td>WB</td>\n",
       "      <td>PURBA MEDINIPUR</td>\n",
       "      <td>WB_Purba Medinipur</td>\n",
       "      <td>266517</td>\n",
       "      <td>1944649</td>\n",
       "    </tr>\n",
       "    <tr>\n",
       "      <th>703</th>\n",
       "      <td>703</td>\n",
       "      <td>WEST BENGAL</td>\n",
       "      <td>WB</td>\n",
       "      <td>PURULIA</td>\n",
       "      <td>WB_Purulia</td>\n",
       "      <td>119235</td>\n",
       "      <td>667928</td>\n",
       "    </tr>\n",
       "    <tr>\n",
       "      <th>704</th>\n",
       "      <td>704</td>\n",
       "      <td>WEST BENGAL</td>\n",
       "      <td>WB</td>\n",
       "      <td>SOUTH 24 PARGANAS</td>\n",
       "      <td>WB_South 24 Parganas</td>\n",
       "      <td>305074</td>\n",
       "      <td>2555782</td>\n",
       "    </tr>\n",
       "    <tr>\n",
       "      <th>705</th>\n",
       "      <td>705</td>\n",
       "      <td>WEST BENGAL</td>\n",
       "      <td>WB</td>\n",
       "      <td>UTTAR DINAJPUR</td>\n",
       "      <td>WB_Uttar Dinajpur</td>\n",
       "      <td>115375</td>\n",
       "      <td>598638</td>\n",
       "    </tr>\n",
       "  </tbody>\n",
       "</table>\n",
       "<p>706 rows × 7 columns</p>\n",
       "</div>"
      ],
      "text/plain": [
       "     index                        State State_Code                  District  \\\n",
       "0        0  ANDAMAN AND NICOBAR ISLANDS         AN                  NICOBARS   \n",
       "1        1  ANDAMAN AND NICOBAR ISLANDS         AN  NORTH AND MIDDLE ANDAMAN   \n",
       "2        2  ANDAMAN AND NICOBAR ISLANDS         AN             SOUTH ANDAMAN   \n",
       "3        3               ANDHRA PRADESH         AP                 ANANTAPUR   \n",
       "4        4               ANDHRA PRADESH         AP                  CHITTOOR   \n",
       "..     ...                          ...        ...                       ...   \n",
       "701    701                  WEST BENGAL         WB         PASCHIM MEDINIPUR   \n",
       "702    702                  WEST BENGAL         WB           PURBA MEDINIPUR   \n",
       "703    703                  WEST BENGAL         WB                   PURULIA   \n",
       "704    704                  WEST BENGAL         WB         SOUTH 24 PARGANAS   \n",
       "705    705                  WEST BENGAL         WB            UTTAR DINAJPUR   \n",
       "\n",
       "                    District_Key  Covaxin  Covishield  \n",
       "0                    AN_Nicobars        0       30191  \n",
       "1    AN_North and Middle Andaman        0       97324  \n",
       "2               AN_South Andaman        0      202481  \n",
       "3                   AP_Anantapur   280843     1680877  \n",
       "4                    AP_Chittoor   380464     1811380  \n",
       "..                           ...      ...         ...  \n",
       "701         WB_Paschim Medinipur   129105     1199258  \n",
       "702           WB_Purba Medinipur   266517     1944649  \n",
       "703                   WB_Purulia   119235      667928  \n",
       "704         WB_South 24 Parganas   305074     2555782  \n",
       "705            WB_Uttar Dinajpur   115375      598638  \n",
       "\n",
       "[706 rows x 7 columns]"
      ]
     },
     "execution_count": 1,
     "metadata": {},
     "output_type": "execute_result"
    }
   ],
   "source": [
    "df1[\"Covaxin\"]=df1[\"Covaxin\"].astype(int)\n",
    "df1[\"Covishield\"]=df1[\"Covishield\"].astype(int)\n",
    "df1=df1.groupby([\"State\",\"State_Code\",\"District\",\"District_Key\"], as_index=False).agg({'Covaxin':'sum','Covishield':'sum'}).reset_index()\n",
    "df1"
   ]
  },
  {
   "cell_type": "code",
   "execution_count": 27,
   "metadata": {
    "execution": {
     "iopub.execute_input": "2021-09-21T14:24:38.848523Z",
     "iopub.status.busy": "2021-09-21T14:24:38.848523Z",
     "iopub.status.idle": "2021-09-21T14:24:38.875708Z",
     "shell.execute_reply": "2021-09-21T14:24:38.875708Z"
    }
   },
   "outputs": [],
   "source": [
    "data_final  = pd.merge(data,df1,how='inner',left_on=['State Name','Name'],right_on=['State','District'],sort=True)"
   ]
  },
  {
   "cell_type": "code",
   "execution_count": 28,
   "metadata": {
    "execution": {
     "iopub.execute_input": "2021-09-21T14:24:38.893361Z",
     "iopub.status.busy": "2021-09-21T14:24:38.892332Z",
     "iopub.status.idle": "2021-09-21T14:24:38.914205Z",
     "shell.execute_reply": "2021-09-21T14:24:38.914205Z"
    }
   },
   "outputs": [],
   "source": [
    "data_district = data_final[['District_Key','Covaxin','Covishield']]\n",
    "data_district = data_district.rename(columns={'District_Key':'districtid'})"
   ]
  },
  {
   "cell_type": "code",
   "execution_count": 29,
   "metadata": {
    "execution": {
     "iopub.execute_input": "2021-09-21T14:24:38.929878Z",
     "iopub.status.busy": "2021-09-21T14:24:38.927362Z",
     "iopub.status.idle": "2021-09-21T14:24:38.992903Z",
     "shell.execute_reply": "2021-09-21T14:24:38.992903Z"
    }
   },
   "outputs": [],
   "source": [
    "data_district['vaccineratio'] = data_district['Covishield'].astype(float)/data_district['Covaxin'].astype(float)"
   ]
  },
  {
   "cell_type": "code",
   "execution_count": 30,
   "metadata": {
    "execution": {
     "iopub.execute_input": "2021-09-21T14:24:39.008075Z",
     "iopub.status.busy": "2021-09-21T14:24:39.007036Z",
     "iopub.status.idle": "2021-09-21T14:24:39.028803Z",
     "shell.execute_reply": "2021-09-21T14:24:39.028803Z"
    }
   },
   "outputs": [],
   "source": [
    "data_district = data_district[['districtid','vaccineratio']]"
   ]
  },
  {
   "cell_type": "code",
   "execution_count": 31,
   "metadata": {
    "execution": {
     "iopub.execute_input": "2021-09-21T14:24:39.043028Z",
     "iopub.status.busy": "2021-09-21T14:24:39.040965Z",
     "iopub.status.idle": "2021-09-21T14:24:39.066942Z",
     "shell.execute_reply": "2021-09-21T14:24:39.066942Z"
    }
   },
   "outputs": [],
   "source": [
    "data_district.sort_values(\"vaccineratio\",axis=0,ascending = True,inplace = True ,kind = 'quicksort',na_position = 'last' )"
   ]
  },
  {
   "cell_type": "code",
   "execution_count": 32,
   "metadata": {
    "execution": {
     "iopub.execute_input": "2021-09-21T14:24:39.080656Z",
     "iopub.status.busy": "2021-09-21T14:24:39.079616Z",
     "iopub.status.idle": "2021-09-21T14:24:39.101532Z",
     "shell.execute_reply": "2021-09-21T14:24:39.101532Z"
    }
   },
   "outputs": [],
   "source": [
    "data_state = data_final[['State_Code','Covaxin','Covishield']]"
   ]
  },
  {
   "cell_type": "code",
   "execution_count": 33,
   "metadata": {
    "execution": {
     "iopub.execute_input": "2021-09-21T14:24:39.120768Z",
     "iopub.status.busy": "2021-09-21T14:24:39.119734Z",
     "iopub.status.idle": "2021-09-21T14:24:39.157846Z",
     "shell.execute_reply": "2021-09-21T14:24:39.157846Z"
    }
   },
   "outputs": [
    {
     "name": "stdout",
     "output_type": "stream",
     "text": [
      "   Stateid  Covaxin  Covishield\n",
      "0       AN        0      329996\n",
      "1       AP  4070226    20879561\n",
      "2       AR        0      712571\n",
      "3       AS  1592338    10905006\n",
      "4       BR  3394727    26628989\n",
      "5       CH     4528      973402\n",
      "6       CT  1042939     7292200\n",
      "7       DL  2239570     7372524\n",
      "8       DN       47      688754\n",
      "9       GA    27658     1415066\n",
      "10      GJ  3488265    32295795\n",
      "11      HP     3317     6458208\n",
      "12      HR  1889543    11348151\n",
      "13      JH  1792791     9135601\n",
      "14      JK   260683     6858976\n",
      "15      KA  4582255    29854578\n",
      "16      KL  2383883    21521356\n",
      "17      LA        0      262360\n",
      "18      LD        0       69553\n",
      "19      MH  6407806    41861591\n",
      "20      ML        0      981764\n",
      "21      MN        0     1202076\n",
      "22      MP  4290051    33150803\n",
      "23      MZ        0      877800\n",
      "24      NL        0      804175\n",
      "25      OR  2562498    16917276\n",
      "26      PB  1375903     8932763\n",
      "27      PY       74      773440\n",
      "28      RJ  4692932    32811380\n",
      "29      SK        0      658871\n",
      "30      TG  3237301    12633181\n",
      "31      TN  3794738    20528042\n",
      "32      TR    65665     1953596\n",
      "33      UP  6467518    49107324\n",
      "34      UT   525657     6692654\n",
      "35      WB  4313882    28744130\n"
     ]
    }
   ],
   "source": [
    "data_state = data_state.rename(columns={'State_Code':'Stateid'})\n",
    "data_state = data_state.groupby(['Stateid'],as_index=False).agg({'Covaxin':'sum','Covishield':'sum'})\n",
    "print(data_state)"
   ]
  },
  {
   "cell_type": "code",
   "execution_count": 34,
   "metadata": {
    "execution": {
     "iopub.execute_input": "2021-09-21T14:24:39.172795Z",
     "iopub.status.busy": "2021-09-21T14:24:39.171742Z",
     "iopub.status.idle": "2021-09-21T14:24:39.194428Z",
     "shell.execute_reply": "2021-09-21T14:24:39.194428Z"
    }
   },
   "outputs": [],
   "source": [
    "data_state['vaccineratio'] = data_state['Covishield'].astype(float)/data_state['Covaxin'].astype(float)"
   ]
  },
  {
   "cell_type": "code",
   "execution_count": 35,
   "metadata": {
    "execution": {
     "iopub.execute_input": "2021-09-21T14:24:39.208551Z",
     "iopub.status.busy": "2021-09-21T14:24:39.206169Z",
     "iopub.status.idle": "2021-09-21T14:24:39.227047Z",
     "shell.execute_reply": "2021-09-21T14:24:39.227047Z"
    }
   },
   "outputs": [],
   "source": [
    "data_overall = pd.DataFrame({'Overall':['India']})"
   ]
  },
  {
   "cell_type": "code",
   "execution_count": 36,
   "metadata": {
    "execution": {
     "iopub.execute_input": "2021-09-21T14:24:39.241748Z",
     "iopub.status.busy": "2021-09-21T14:24:39.240699Z",
     "iopub.status.idle": "2021-09-21T14:24:39.268469Z",
     "shell.execute_reply": "2021-09-21T14:24:39.268469Z"
    }
   },
   "outputs": [],
   "source": [
    "data_overall['Covaxin'] = data_state['Covaxin'].sum()"
   ]
  },
  {
   "cell_type": "code",
   "execution_count": 37,
   "metadata": {
    "execution": {
     "iopub.execute_input": "2021-09-21T14:24:39.282381Z",
     "iopub.status.busy": "2021-09-21T14:24:39.281379Z",
     "iopub.status.idle": "2021-09-21T14:24:39.303687Z",
     "shell.execute_reply": "2021-09-21T14:24:39.303687Z"
    }
   },
   "outputs": [],
   "source": [
    "data_overall['Covishield'] = data_state['Covishield'].sum()"
   ]
  },
  {
   "cell_type": "code",
   "execution_count": 38,
   "metadata": {
    "execution": {
     "iopub.execute_input": "2021-09-21T14:24:39.320113Z",
     "iopub.status.busy": "2021-09-21T14:24:39.319076Z",
     "iopub.status.idle": "2021-09-21T14:24:39.344431Z",
     "shell.execute_reply": "2021-09-21T14:24:39.344431Z"
    }
   },
   "outputs": [],
   "source": [
    "data_overall['vaccineratio'] = data_overall['Covishield'].astype(float)/data_overall['Covaxin'].astype(float)"
   ]
  },
  {
   "cell_type": "code",
   "execution_count": 39,
   "metadata": {
    "execution": {
     "iopub.execute_input": "2021-09-21T14:24:39.358208Z",
     "iopub.status.busy": "2021-09-21T14:24:39.356428Z",
     "iopub.status.idle": "2021-09-21T14:24:39.377356Z",
     "shell.execute_reply": "2021-09-21T14:24:39.377356Z"
    }
   },
   "outputs": [],
   "source": [
    "data_overall = data_overall[['Overall','vaccineratio']]"
   ]
  },
  {
   "cell_type": "code",
   "execution_count": 40,
   "metadata": {
    "execution": {
     "iopub.execute_input": "2021-09-21T14:24:39.390564Z",
     "iopub.status.busy": "2021-09-21T14:24:39.389573Z",
     "iopub.status.idle": "2021-09-21T14:24:39.412398Z",
     "shell.execute_reply": "2021-09-21T14:24:39.412398Z"
    }
   },
   "outputs": [],
   "source": [
    "data_state = data_state[['Stateid','vaccineratio']]"
   ]
  },
  {
   "cell_type": "code",
   "execution_count": 41,
   "metadata": {
    "execution": {
     "iopub.execute_input": "2021-09-21T14:24:39.426179Z",
     "iopub.status.busy": "2021-09-21T14:24:39.425135Z",
     "iopub.status.idle": "2021-09-21T14:24:39.447131Z",
     "shell.execute_reply": "2021-09-21T14:24:39.447131Z"
    }
   },
   "outputs": [],
   "source": [
    "data_state.sort_values(\"vaccineratio\",axis=0,ascending = True,inplace = True ,kind = 'quicksort',na_position = 'last' )"
   ]
  },
  {
   "cell_type": "code",
   "execution_count": 42,
   "metadata": {
    "execution": {
     "iopub.execute_input": "2021-09-21T14:24:39.477797Z",
     "iopub.status.busy": "2021-09-21T14:24:39.476190Z",
     "iopub.status.idle": "2021-09-21T14:24:39.499424Z",
     "shell.execute_reply": "2021-09-21T14:24:39.499424Z"
    }
   },
   "outputs": [
    {
     "name": "stdout",
     "output_type": "stream",
     "text": [
      "        districtid  vaccineratio\n",
      "424     OR_Khordha      0.231339\n",
      "42      AS_Barpeta      0.817545\n",
      "93        BR_Patna      0.930361\n",
      "333    MH_Bhandara      1.182007\n",
      "65     AS_Sonitpur      1.393974\n",
      "..             ...           ...\n",
      "394    NL_Tuensang           inf\n",
      "393        NL_Phek           inf\n",
      "392       NL_Peren           inf\n",
      "390  NL_Mokokchung           inf\n",
      "0      AN_Nicobars           inf\n",
      "\n",
      "[636 rows x 2 columns]\n",
      "   Stateid  vaccineratio\n",
      "7       DL  3.291937e+00\n",
      "30      TG  3.902381e+00\n",
      "13      JH  5.095742e+00\n",
      "1       AP  5.129828e+00\n",
      "31      TN  5.409607e+00\n",
      "12      HR  6.005765e+00\n",
      "26      PB  6.492291e+00\n",
      "15      KA  6.515259e+00\n",
      "19      MH  6.532905e+00\n",
      "25      OR  6.601869e+00\n",
      "35      WB  6.663170e+00\n",
      "3       AS  6.848424e+00\n",
      "28      RJ  6.991659e+00\n",
      "6       CT  6.991972e+00\n",
      "33      UP  7.592916e+00\n",
      "22      MP  7.727368e+00\n",
      "4       BR  7.844221e+00\n",
      "16      KL  9.027857e+00\n",
      "10      GJ  9.258412e+00\n",
      "34      UT  1.273198e+01\n",
      "14      JK  2.631156e+01\n",
      "32      TR  2.975095e+01\n",
      "9       GA  5.116299e+01\n",
      "5       CH  2.149739e+02\n",
      "11      HP  1.947003e+03\n",
      "27      PY  1.045189e+04\n",
      "8       DN  1.465434e+04\n",
      "29      SK           inf\n",
      "0       AN           inf\n",
      "23      MZ           inf\n",
      "21      MN           inf\n",
      "20      ML           inf\n",
      "18      LD           inf\n",
      "2       AR           inf\n",
      "24      NL           inf\n",
      "17      LA           inf\n",
      "  Overall  vaccineratio\n",
      "0   India      7.032337\n"
     ]
    }
   ],
   "source": [
    "print(data_district)\n",
    "print(data_state)\n",
    "print(data_overall)"
   ]
  },
  {
   "cell_type": "code",
   "execution_count": 43,
   "metadata": {
    "execution": {
     "iopub.execute_input": "2021-09-21T14:24:39.511237Z",
     "iopub.status.busy": "2021-09-21T14:24:39.511237Z",
     "iopub.status.idle": "2021-09-21T14:24:39.560594Z",
     "shell.execute_reply": "2021-09-21T14:24:39.560594Z"
    }
   },
   "outputs": [],
   "source": [
    "data_district.to_csv('./Output_Files/Q7/district-vaccine-type-ratio.csv',index=False)\n",
    "data_state.to_csv('./Output_Files/Q7/state-vaccine-type-ratio.csv',index=False)\n",
    "data_overall.to_csv('./Output_Files/Q7/overall-vaccine-type-ratio.csv',index=False)"
   ]
  }
 ],
 "metadata": {
  "kernelspec": {
   "display_name": "Python 3",
   "language": "python",
   "name": "python3"
  },
  "language_info": {
   "codemirror_mode": {
    "name": "ipython",
    "version": 3
   },
   "file_extension": ".py",
   "mimetype": "text/x-python",
   "name": "python",
   "nbconvert_exporter": "python",
   "pygments_lexer": "ipython3",
   "version": "3.8.8"
  }
 },
 "nbformat": 4,
 "nbformat_minor": 2
}
